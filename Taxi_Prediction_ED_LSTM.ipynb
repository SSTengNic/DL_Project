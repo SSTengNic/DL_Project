{
 "cells": [
  {
   "cell_type": "markdown",
   "metadata": {},
   "source": [
    "### Imports and CUDA"
   ]
  },
  {
   "cell_type": "code",
   "execution_count": 73,
   "metadata": {},
   "outputs": [],
   "source": [
    "# Matplotlib\n",
    "import requests\n",
    "import matplotlib.pyplot as plt\n",
    "# Numpy\n",
    "import numpy as np\n",
    "# Torch\n",
    "import torch\n",
    "from torch.utils.data import TensorDataset, DataLoader\n",
    "from sklearn.model_selection import train_test_split\n",
    "from sklearn.preprocessing import MinMaxScaler\n",
    "import torch.nn as nn\n",
    "\n",
    "import pandas as pd"
   ]
  },
  {
   "cell_type": "code",
   "execution_count": 74,
   "metadata": {},
   "outputs": [
    {
     "name": "stdout",
     "output_type": "stream",
     "text": [
      "cuda\n"
     ]
    }
   ],
   "source": [
    "# Use GPU if available, else use CPU\n",
    "device = torch.device(\"cuda\" if torch.cuda.is_available() else \"cpu\")\n",
    "print(device)"
   ]
  },
  {
   "cell_type": "markdown",
   "metadata": {},
   "source": [
    "### Objective\n",
    "\n",
    "#### To develop a model that predicts taxi availability within a specific area for the next three hours. This means that if the model is run at 12 PM, it will provide predicted taxi availability for 1 PM, 2 PM, and 3 PM.\n",
    "\n",
    "The area of interest is defined by the following geographical boundaries:\n",
    "\n",
    "    North: 1.35106\n",
    "    South: 1.32206\n",
    "    East: 103.97839\n",
    "    West: 103.92805\n",
    "\n",
    "To identify the taxis currently available within this region, we use the TaxiAvailabilityScript.py.\n",
    "\n",
    "This script collects real-time data, which serves as input for our predictive model.\n",
    "\n",
    "By leveraging historical taxi availability trends and real-time data, our model aims to provide accurate forecasts, helping commuters, ride-hailing services, and urban planners make informed decisions.\n"
   ]
  },
  {
   "cell_type": "markdown",
   "metadata": {},
   "source": [
    "# **To-Do List for Taxi Availability Prediction**\n",
    "\n",
    "## **Step 1: Cleaning the Taxi Availability Data**\n",
    "The first step involves retrieving and preprocessing the taxi availability dataset. The dataset consists of the following columns:\n",
    "\n",
    "1. **DateTime**  \n",
    "2. **Taxi Available Throughout Singapore**  \n",
    "3. **Taxi Available in Selected Box Area**  \n",
    "4. **Coordinates[]**  \n",
    "\n",
    "For our specific use case, **the coordinates column will not be used for now**.  \n",
    "\n",
    "To prepare the data for the neural network:  \n",
    "- **Inputs:** We will use `DateTime` and `Taxi Available Throughout Singapore` as features.  \n",
    "- **Output:** `Taxi Available in Selected Box Area` will be the target variable.  \n",
    "- **DateTime Conversion:** Since `DateTime` is not in a format suitable for neural networks, we will extract relevant features:\n",
    "  - **IsWeekend**: A binary feature (1 if it's a weekend, 0 otherwise).  \n",
    "  - **Hour**: Transformed into a numerical value between **1 and 24** (avoiding 0, which may cause training issues).  \n",
    "\n",
    "---\n",
    "\n",
    "## **Step 2: Adding Additional Features**  \n",
    "*(Partially completed; will be refined over time)*  \n",
    "\n",
    "Aside from the existing columns, we aim to incorporate additional features that may improve prediction accuracy:  \n",
    "\n",
    "1. **ERP Rates (Electronic Road Pricing) at the given time and location**  \n",
    "   - Uncertain if this will significantly impact predictions. Further analysis is needed.  \n",
    "\n",
    "2. **Number of LTA (Land Transport Authority) gantry locations**  \n",
    "   - Again, its usefulness remains uncertain—further evaluation required.  \n",
    "\n",
    "3. **Traffic Incidents in the Selected Area**  \n",
    "   - A script (`TrafficIncidentScript.py`) has been written to update `traffic_incident.csv` with the latest traffic incidents.  \n",
    "   - Over time, as the dataset grows, we hope this feature will become useful.  \n",
    "\n",
    "4. **Number of Taxi Stands in the Area**  \n",
    "   - Currently **not useful** because our area of interest is fixed.  \n",
    "   - However, if we allow dynamic selection of areas in the future, this could become relevant.  \n",
    "\n",
    "5. **Temperature at a Given Time and Date** *(To be implemented)*  \n",
    "\n",
    "6. **Rainfall Data** *(To be implemented)*  \n",
    "\n",
    "To ensure all features align properly, we will **synchronize all datasets based on DateTime** before feeding them into the model.  \n",
    "\n",
    "---\n",
    "\n",
    "## **Step 3: Creating the Training-Test Split**  \n",
    "- Initially, we will perform an **80/20 Training-Test split** for simplicity.  \n",
    "- In the future, we may introduce a **Training-Validation-Test split** to further refine model performance.  \n",
    "\n",
    "---\n",
    "\n",
    "## **Step 4: Building the Model**  \n",
    "We will begin with an **LSTM model**, as LSTMs are well-suited for time-series forecasting.  \n",
    "- **Initial Limitation:** The model, in its basic form, will only predict the next hour.  \n",
    "- **Future Improvement:** A **sliding window approach** will be explored and implemented to extend predictions further.  \n",
    "\n",
    "---\n",
    "\n",
    "## **Step 5: Model Evaluation and Improvement**  \n",
    "- After the initial model is trained, we will assess its performance.  \n",
    "- Based on results, we will explore potential improvements, such as hyperparameter tuning, architectural modifications, or additional feature engineering.  \n",
    "\n",
    "---\n",
    "\n",
    "This structured approach will guide the development of a robust and accurate taxi availability prediction model. 🚖💡\n"
   ]
  },
  {
   "cell_type": "markdown",
   "metadata": {},
   "source": [
    "## **Preparing the taxi_availability data here.**\n",
    "\n",
    "Normalization of certain inputs are done as well, but I am unsure if it is the right thing to do as well."
   ]
  },
  {
   "cell_type": "code",
   "execution_count": 75,
   "metadata": {},
   "outputs": [],
   "source": [
    "# weather_file_path = \"merged_weather.csv\"\n",
    "# weather_df = pd.read_csv(weather_file_path, delimiter=\",\")\n",
    "\n",
    "# weather_df = weather_df[::-1]\n"
   ]
  },
  {
   "cell_type": "code",
   "execution_count": 76,
   "metadata": {},
   "outputs": [
    {
     "name": "stdout",
     "output_type": "stream",
     "text": [
      "Taxi Available throughout SG             int64\n",
      "Taxi Available in Selected Box Area      int64\n",
      "temp_value                             float64\n",
      "humidity_value                         float64\n",
      "rainfall_value                         float64\n",
      "IsWeekend                                int64\n",
      "Hour                                     int32\n",
      "dtype: object\n"
     ]
    }
   ],
   "source": [
    "# taxi_availability_file_path = \"taxi_availability.csv\"\n",
    "\n",
    "# taxi_df = pd.read_csv(taxi_availability_file_path, delimiter=\",\")\n",
    "\n",
    "merged_weather_taxi_df = \"merged_file_3_years.csv\"\n",
    "taxi_df = pd.read_csv(merged_weather_taxi_df, delimiter = \",\")\n",
    "\n",
    "#Adjusting for weather parameters\n",
    "taxi_df = taxi_df.drop(columns = \"stationId\")\n",
    "\n",
    "#Adjusting for taxi_vailability parameters\n",
    "taxi_df_coordinates = taxi_df[\"Coordinates[]\"]\n",
    "taxt_df_datetime = taxi_df[\"DateTime\"]\n",
    "taxi_df = taxi_df.drop(columns = \"Coordinates[]\")\n",
    "taxi_df[\"DateTime\"] = pd.to_datetime(taxi_df[\"DateTime\"])\n",
    "\n",
    "taxi_df[\"IsWeekend\"] = (taxi_df[\"DateTime\"].dt.weekday >= 5).astype(int)\n",
    "taxi_df[\"Hour\"] = taxi_df[\"DateTime\"].dt.hour + 1  # Convert 0-23 to 1-24\n",
    "taxi_df = taxi_df.drop(columns = \"DateTime\")\n",
    "\n",
    "print(taxi_df.dtypes)"
   ]
  },
  {
   "cell_type": "markdown",
   "metadata": {},
   "source": [
    "### Converting all dtypes into float32"
   ]
  },
  {
   "cell_type": "code",
   "execution_count": 77,
   "metadata": {},
   "outputs": [
    {
     "name": "stdout",
     "output_type": "stream",
     "text": [
      "numeric_columns Index(['Taxi Available throughout SG', 'Taxi Available in Selected Box Area',\n",
      "       'temp_value', 'humidity_value', 'rainfall_value', 'IsWeekend', 'Hour'],\n",
      "      dtype='object')\n"
     ]
    }
   ],
   "source": [
    "# taxi_df=taxi_df[:5120]\n",
    "numeric_columns = taxi_df.select_dtypes(include=['int64', 'int32','float64','object']).columns\n",
    "print(\"numeric_columns\",numeric_columns)\n",
    "taxi_df[numeric_columns] = taxi_df[numeric_columns].astype('float32')\n",
    "numeric_columns = taxi_df.select_dtypes(include=['int64', 'int32','float64','object']).columns\n",
    "\n",
    "# Convert selected columns to float32\n",
    "taxi_df[numeric_columns] = taxi_df[numeric_columns].astype('float32')\n",
    "\n",
    "\n"
   ]
  },
  {
   "cell_type": "markdown",
   "metadata": {},
   "source": [
    "### Normalizing all values"
   ]
  },
  {
   "cell_type": "code",
   "execution_count": 163,
   "metadata": {},
   "outputs": [
    {
     "name": "stdout",
     "output_type": "stream",
     "text": [
      "Input Data:  (25592, 6)\n",
      "Output Data:  (25592,)\n"
     ]
    }
   ],
   "source": [
    "#---------------Normalise-----------------------\n",
    "# Drop 'DateTime' as it's no longer needed\n",
    "# Normalize the 'Hour' and 'IsWeekend' columns (if needed)\n",
    "\n",
    "\n",
    "data_min = taxi_df.min(axis=0)\n",
    "data_max = taxi_df.max(axis=0)\n",
    "taxi_df_normalized = (taxi_df - data_min) / (data_max - data_min)\n",
    "\n",
    "# scaler = MinMaxScaler()\n",
    "# taxi_df[[\"Hour\", \"IsWeekend\", \"Taxi Available throughout SG\",\"Taxi Available in Selected Box Area\"]] = scaler.fit_transform(taxi_df[[\"Hour\", \"IsWeekend\",\"Taxi Available throughout SG\",\"Taxi Available in Selected Box Area\"]])\n",
    "# taxi_df = taxi_df.apply(pd.to_numeric, errors='coerce')\n",
    "taxi_df_output_normalized  = taxi_df_normalized[\"Taxi Available in Selected Box Area\"]\n",
    "taxi_df_normalized = taxi_df_normalized.drop(columns = \"Taxi Available in Selected Box Area\")\n",
    "taxi_df_normalized.to_csv(\"checker.csv\", index=False)  # Set index=False to exclude row numbers\n",
    "\n",
    "# Convert to NumPy arrays\n",
    "input_data = taxi_df_normalized.values  # Shape: (5120, num_features)\n",
    "output_data = taxi_df_output_normalized.values  # Shape: (5120,)\n",
    "# taxi_df_output = taxi_df[\"Taxi Available in Selected Box Area\"]\n",
    "# input_data = taxi_df.values  # Shape: (5120, num_features)\n",
    "# output_data = taxi_df_output.values  # Shape: (5120,)\n",
    "\n",
    "print(\"Input Data: \",input_data.shape)\n",
    "print(\"Output Data: \",output_data.shape)\n",
    "\n",
    "# Define sequence length\n",
    "\n"
   ]
  },
  {
   "cell_type": "markdown",
   "metadata": {},
   "source": [
    "### No Normalization Style"
   ]
  },
  {
   "cell_type": "code",
   "execution_count": 164,
   "metadata": {},
   "outputs": [],
   "source": [
    "# #---------------No Normalization-----------------------\n",
    "\n",
    "# # Drop 'DateTime' as it's no longer needed\n",
    "# taxi_df_no_norm = taxi_df  # Remove DateTime but keep raw values\n",
    "\n",
    "# # Separate input and output data\n",
    "# taxi_df_output_no_norm = taxi_df_no_norm[\"Taxi Available in Selected Box Area\"]\n",
    "# taxi_df_no_norm = taxi_df_no_norm.drop(columns=[\"Taxi Available in Selected Box Area\"])\n",
    "\n",
    "# # Save to CSV for checking\n",
    "# taxi_df_no_norm.to_csv(\"checker_no_norm.csv\", index=False)  # Set index=False to exclude row numbers\n",
    "\n",
    "# # Convert to NumPy arrays (raw values)\n",
    "# input_data = taxi_df_no_norm.values  # Shape: (5120, num_features)\n",
    "# output_data = taxi_df_output_no_norm.values  # Shape: (5120,)\n",
    "\n",
    "# print(\"Input Data: \", input_data.shape)\n",
    "# print(\"Input Data: \", input_data[0])\n",
    "\n",
    "# print(\"Output Data: \", output_data.shape)\n",
    "# print(\"Input Data: \", output_data[0])\n"
   ]
  },
  {
   "cell_type": "markdown",
   "metadata": {},
   "source": [
    "### Create Sequence Function"
   ]
  },
  {
   "cell_type": "code",
   "execution_count": 165,
   "metadata": {},
   "outputs": [],
   "source": [
    "seq_length = 24\n",
    "pred_horizon = 3  # Number of future time steps to predict\n",
    "\n",
    "def create_sequences(data, labels, seq_length, pred_horizon):\n",
    "    xs, ys = [], []\n",
    "    for i in range(len(data) - seq_length - pred_horizon + 1):  # Start from 0 and increment by seq_length\n",
    "        if i + seq_length + pred_horizon <= len(data):  # Ensure enough data for prediction horizon\n",
    "            xs.append(data[i:i + seq_length])  # Input sequence (continuous)\n",
    "            ys.append(labels[i + seq_length : i + seq_length + pred_horizon])  # Next 3 values\n",
    "    return np.array(xs), np.array(ys)\n"
   ]
  },
  {
   "cell_type": "code",
   "execution_count": 166,
   "metadata": {},
   "outputs": [
    {
     "name": "stdout",
     "output_type": "stream",
     "text": [
      "Total Samples:  25566\n",
      "Train Size:  20452\n",
      "Validation Size:  2556\n",
      "Test Size:  2558\n",
      "Inputs: torch.Size([128, 24, 6]), Targets: torch.Size([128, 3, 1])\n"
     ]
    }
   ],
   "source": [
    "\n",
    "X, y = create_sequences(input_data, output_data, seq_length,pred_horizon)\n",
    "\n",
    "# Convert to PyTorch tensors\n",
    "X = torch.tensor(X, dtype=torch.float32)\n",
    "y = torch.tensor(y[:, None], dtype=torch.float32)\n",
    "y = y.permute(0, 2, 1)  # Shape: (samples, pred_horizon, 1)\n",
    "\n",
    "# Split sizes\n",
    "total_samples = len(X)\n",
    "\n",
    "print(\"Total Samples: \", total_samples)\n",
    "\n",
    "train_size = int(0.8 * total_samples)\n",
    "val_size = int(0.1 * total_samples)\n",
    "test_size = total_samples - train_size - val_size\n",
    "\n",
    "print(\"Train Size: \", train_size)\n",
    "print(\"Validation Size: \", val_size)\n",
    "print(\"Test Size: \", test_size)\n",
    "\n",
    "# Split the data\n",
    "trainX, valX, testX = X[:train_size], X[train_size:train_size+val_size], X[train_size+val_size:]\n",
    "trainY, valY, testY = y[:train_size], y[train_size:train_size+val_size], y[train_size+val_size:]\n",
    "\n",
    "# Create TensorDatasets\n",
    "train_dataset = TensorDataset(trainX, trainY)\n",
    "val_dataset = TensorDataset(valX, valY)\n",
    "test_dataset = TensorDataset(testX, testY)\n",
    "\n",
    "# DataLoaders\n",
    "batch_size = 128\n",
    "train_loader = DataLoader(train_dataset, batch_size=batch_size, shuffle=True, drop_last=True)\n",
    "val_loader = DataLoader(val_dataset, batch_size=batch_size, shuffle=True, drop_last=True)\n",
    "test_loader = DataLoader(test_dataset, batch_size=batch_size, shuffle=True, drop_last=True)\n",
    "\n",
    "# Example of accessing a batch of data\n",
    "for inputs, targets in train_loader:\n",
    "    print(f'Inputs: {inputs.shape}, Targets: {targets.shape}')\n",
    "    break  # Only print the first batch for verification"
   ]
  },
  {
   "cell_type": "code",
   "execution_count": 167,
   "metadata": {},
   "outputs": [
    {
     "name": "stdout",
     "output_type": "stream",
     "text": [
      "test_loader 19\n"
     ]
    }
   ],
   "source": [
    "print(\"test_loader\",len(test_loader))"
   ]
  },
  {
   "cell_type": "markdown",
   "metadata": {},
   "source": [
    "Using a bidirectional LSTM as the encoder"
   ]
  },
  {
   "cell_type": "code",
   "execution_count": 168,
   "metadata": {},
   "outputs": [],
   "source": [
    "class EncoderLSTM(nn.Module):\n",
    "    def __init__(self, input_size, hidden_size):\n",
    "        super(EncoderLSTM, self).__init__()\n",
    "        self.hidden_size = hidden_size\n",
    "\n",
    "        # print(\"Encoder's input size: \", input_size)\n",
    "        self.lstm = nn.LSTM(input_size, hidden_size, batch_first=True)\n",
    "\n",
    "    def forward(self, inputs):\n",
    "        # Passing the input sequence through the LSTM\n",
    "        \n",
    "        output, (hidden, cell) = self.lstm(inputs)\n",
    "        # print(\"encoder output size: \", output.shape)\n",
    "\n",
    "        return hidden, cell"
   ]
  },
  {
   "cell_type": "code",
   "execution_count": 169,
   "metadata": {},
   "outputs": [],
   "source": [
    "class DecoderLSTM(nn.Module):\n",
    "    def __init__(self, input_size, hidden_size):\n",
    "        super(DecoderLSTM, self).__init__()\n",
    "        output_size = 3\n",
    "        self.output_size = output_size\n",
    "        self.lstm = nn.LSTM(input_size, hidden_size, batch_first = True)\n",
    "        self.linear = nn.Linear(hidden_size, input_size)\n",
    "\n",
    "    def forward(self, x, hidden, target=None):\n",
    "        output_length = 3\n",
    "        outputs = []\n",
    "        decoder_input = x # x is the last output of the encoder\n",
    "        for i in range(output_length):\n",
    "            # Generate one time step prediction\n",
    "            # Feed the current prediction as the next input\n",
    "            decoder_input, hidden = self.lstm(decoder_input, hidden)\n",
    "            decoder_input = self.linear(decoder_input)\n",
    "            outputs.append(decoder_input)\n",
    "            if target is not None:\n",
    "                decoder_input = target[i].unsqueeze(0)\n",
    "        return torch.cat(outputs, dim = 1)"
   ]
  },
  {
   "cell_type": "code",
   "execution_count": 170,
   "metadata": {},
   "outputs": [],
   "source": [
    "class DecoderLSTM(nn.Module):\n",
    "    def __init__(self, input_size, hidden_size):\n",
    "        super(DecoderLSTM, self).__init__()\n",
    "\n",
    "\n",
    "        self.lstm = nn.LSTM(6, hidden_size, batch_first=True)\n",
    "\n",
    "        # Implementing Prof Idea\n",
    "        self.linear1 = nn.Linear(128, 1)\n",
    "        self.linearsub1 = nn.Linear(128, 6)\n",
    "\n",
    "        self.linear2 = nn.Linear(128, 1)\n",
    "        self.linearsub2 = nn.Linear(128, 6)\n",
    "\n",
    "\n",
    "    def forward(self, x, hidden,):\n",
    "        outputs = []\n",
    "        decoder_input = x\n",
    "        \n",
    "        # First LSTM layer\n",
    "        y1, hidden1 = self.lstm(decoder_input, hidden)\n",
    "        linear_y1 = self.linear1(y1)\n",
    "        linear_y1 = linear_y1.mean(dim=1, keepdim=True)\n",
    "        # print(\"y1: \", y1.shape)\n",
    "\n",
    "        linear_suby1 = self.linearsub1(y1)\n",
    "\n",
    "        # Second LSTM layer\n",
    "        y2, hidden2 = self.lstm(linear_suby1, hidden1)\n",
    "        linear_y2 = self.linear2(y2)\n",
    "        linear_suby2 = self.linearsub1(y2)\n",
    "        linear_y2 = linear_y2.mean(dim=1, keepdim=True)\n",
    "\n",
    "        y3, hidden3 = self.lstm(linear_suby2, hidden2)\n",
    "        linear_y3 = self.linear2(y3)\n",
    "        linear_y3 = linear_y3.mean(dim=1, keepdim=True)\n",
    "\n",
    "        outputs.append(linear_y1.squeeze(1))  # shape: [17, 1]\n",
    "        outputs.append(linear_y2.squeeze(1))\n",
    "        outputs.append(linear_y3.squeeze(1))\n",
    "\n",
    "        final_output = torch.stack(outputs, dim=1)  # [17, 3, 1]\n",
    "        # print(\"linear_y1\", linear_y1)\n",
    "\n",
    "        # print(\"Decoder input shape: \", decoder_input.shape)\n",
    "        # print(\"linear_y1: \", linear_y1.shape)\n",
    "        # print(\"final_output: \", final_output.shape)\n",
    "        return final_output\n",
    "\n"
   ]
  },
  {
   "cell_type": "code",
   "execution_count": 171,
   "metadata": {},
   "outputs": [],
   "source": [
    "class Seq2Seq(nn.Module):\n",
    "    def __init__(self, hidden_size, output_size):\n",
    "        super(Seq2Seq, self).__init__()\n",
    "        self.output_length = output_size\n",
    "        self.encoder = EncoderLSTM(6, hidden_size) \n",
    "        self.decoder = DecoderLSTM(6, hidden_size) \n",
    "    def forward(self, inputs, outputs=None):\n",
    "\n",
    "        # Encode the input sequence\n",
    "        hidden = self.encoder(inputs)  # Get encoded hidden state from the encoder\n",
    "\n",
    "        # Initialize decoder input (usually last input value or a special token)\n",
    "        decoder_input = inputs[:, -1:, :] \n",
    "        # Decode the sequence\n",
    "        output = self.decoder(decoder_input, hidden)\n",
    "        return output"
   ]
  },
  {
   "cell_type": "code",
   "execution_count": 172,
   "metadata": {},
   "outputs": [],
   "source": [
    "def train(dataloader, model, num_epochs, learning_rate):\n",
    "    # Set the model to training mode\n",
    "    model.train()\n",
    "    criterion = nn.MSELoss()\n",
    "    optimizer = torch.optim.Adam(model.parameters(), lr=learning_rate)\n",
    "\n",
    "    loss_graph = []  # Initialize a list to store loss values\n",
    "\n",
    "    for epoch in range(num_epochs):\n",
    "        total_loss = 0\n",
    "        for inputs, outputs in dataloader:\n",
    "            inputs = inputs.to(device)\n",
    "            outputs = outputs.to(device)\n",
    "\n",
    "            # Clear previous gradients\n",
    "            optimizer.zero_grad()\n",
    "            # Forward pass\n",
    "            pred = model(inputs, outputs)\n",
    "            # Calculate loss\n",
    "            loss = criterion(pred, outputs)\n",
    "            total_loss += loss.item()\n",
    "            # Backward pass and optimization\n",
    "            loss.backward()\n",
    "            optimizer.step()\n",
    "\n",
    "        # Append the average loss for this epoch to the loss_graph list\n",
    "        loss_graph.append(total_loss / len(dataloader))\n",
    "\n",
    "        # Print total loss every few epochs\n",
    "        if epoch % 25 == 0:\n",
    "            print(f'Epoch {epoch + 1}/{num_epochs}, Avg Loss: {total_loss / len(dataloader)}')\n",
    "\n",
    "    return loss_graph  # Return the loss graph to plot it later"
   ]
  },
  {
   "cell_type": "code",
   "execution_count": 173,
   "metadata": {},
   "outputs": [
    {
     "name": "stdout",
     "output_type": "stream",
     "text": [
      "Epoch 1/300, Avg Loss: 0.014410756768529894\n",
      "Epoch 26/300, Avg Loss: 0.005783828821782983\n",
      "Epoch 51/300, Avg Loss: 0.00537933492681609\n",
      "Epoch 76/300, Avg Loss: 0.004619032251443596\n",
      "Epoch 101/300, Avg Loss: 0.0036018053757952257\n",
      "Epoch 126/300, Avg Loss: 0.002635797043477402\n",
      "Epoch 151/300, Avg Loss: 0.0018673989271639653\n",
      "Epoch 176/300, Avg Loss: 0.0013632115303193154\n",
      "Epoch 201/300, Avg Loss: 0.0009911137969092518\n",
      "Epoch 226/300, Avg Loss: 0.000724780039771009\n",
      "Epoch 251/300, Avg Loss: 0.0005652267251928108\n",
      "Epoch 276/300, Avg Loss: 0.0004700361079252296\n"
     ]
    },
    {
     "data": {
      "text/plain": [
       "Text(0, 0.5, 'Loss')"
      ]
     },
     "execution_count": 173,
     "metadata": {},
     "output_type": "execute_result"
    },
    {
     "data": {
      "image/png": "[encoded data removed]",
      "text/plain": [
       "<Figure size 640x480 with 1 Axes>"
      ]
     },
     "metadata": {},
     "output_type": "display_data"
    }
   ],
   "source": [
    "# Hyperparameters\n",
    "input_size = 6\n",
    "hidden_size = 128\n",
    "output_size = 3\n",
    "learning_rate = 0.001\n",
    "num_epochs = 100\n",
    "num_layers = 3\n",
    "\n",
    "dataloader = train_loader\n",
    "\n",
    "# Initialize Seq2Seq Model\n",
    "seq2seq_model = Seq2Seq(hidden_size = hidden_size, output_size = output_size).to(device)\n",
    "\n",
    "# Train the model\n",
    "loss_graph = train(dataloader = dataloader, model = seq2seq_model, num_epochs = 300, learning_rate = 1e-3)\n",
    "\n",
    "# Plot the loss graph\n",
    "plt.plot(loss_graph)\n",
    "plt.title(\"Loss Graph\")\n",
    "plt.xlabel(\"Epochs\")\n",
    "plt.ylabel(\"Loss\")"
   ]
  },
  {
   "cell_type": "code",
   "execution_count": 174,
   "metadata": {},
   "outputs": [
    {
     "name": "stdout",
     "output_type": "stream",
     "text": [
      "19\n"
     ]
    }
   ],
   "source": [
    "print(len(test_loader))"
   ]
  },
  {
   "cell_type": "code",
   "execution_count": 175,
   "metadata": {},
   "outputs": [
    {
     "name": "stdout",
     "output_type": "stream",
     "text": [
      "Normalized output[0]: [[0.4256073832511902], [0.29289501905441284], [0.27037543058395386]]\n",
      "Normalized target[0]: [[0.3460076153278351], [0.29657796025276184], [0.3346007466316223]]\n",
      "Denormalized output[0]: [[112.93473815917969], [78.03138732910156], [72.1087417602539]]\n",
      "Denormalized target[0]: [[92.0], [79.0], [89.0]]\n",
      "--------------------------------------------------\n",
      "Normalized output[0]: [[0.36938604712486267], [0.2856782376766205], [0.27476274967193604]]\n",
      "Normalized target[0]: [[0.2775665521621704], [0.3041824996471405], [0.330798476934433]]\n",
      "Denormalized output[0]: [[98.14852905273438], [76.13337707519531], [73.26260375976562]]\n",
      "Denormalized target[0]: [[74.0], [81.0], [88.0]]\n",
      "--------------------------------------------------\n",
      "Normalized output[0]: [[0.4003973603248596], [0.28818297386169434], [0.2731003165245056]]\n",
      "Normalized target[0]: [[0.5513308048248291], [0.5513308048248291], [0.5513308048248291]]\n",
      "Denormalized output[0]: [[106.30450439453125], [76.79212188720703], [72.82538604736328]]\n",
      "Denormalized target[0]: [[146.0], [146.0], [146.0]]\n",
      "--------------------------------------------------\n",
      "Normalized output[0]: [[0.4013141393661499], [0.28678250312805176], [0.2722986936569214]]\n",
      "Normalized target[0]: [[0.3079847991466522], [0.2775665521621704], [0.23954372107982635]]\n",
      "Denormalized output[0]: [[106.54561614990234], [76.42379760742188], [72.61455535888672]]\n",
      "Denormalized target[0]: [[82.0], [74.0], [64.0]]\n",
      "--------------------------------------------------\n",
      "Normalized output[0]: [[0.366476833820343], [0.26799291372299194], [0.28358420729637146]]\n",
      "Normalized target[0]: [[0.3498098850250244], [0.4372623562812805], [0.4372623562812805]]\n",
      "Denormalized output[0]: [[97.38340759277344], [71.48213958740234], [75.58264923095703]]\n",
      "Denormalized target[0]: [[93.0], [116.0], [116.0]]\n",
      "--------------------------------------------------\n",
      "Normalized output[0]: [[0.3600701093673706], [0.2677951455116272], [0.2866918444633484]]\n",
      "Normalized target[0]: [[0.39923954010009766], [0.330798476934433], [0.3650190234184265]]\n",
      "Denormalized output[0]: [[95.69844055175781], [71.43012237548828], [76.39995574951172]]\n",
      "Denormalized target[0]: [[106.0], [88.0], [97.0]]\n",
      "--------------------------------------------------\n",
      "Normalized output[0]: [[0.44173118472099304], [0.29098665714263916], [0.2689628303050995]]\n",
      "Normalized target[0]: [[0.41064637899398804], [0.41064637899398804], [0.4524714946746826]]\n",
      "Denormalized output[0]: [[117.17530059814453], [77.52948760986328], [71.73722076416016]]\n",
      "Denormalized target[0]: [[109.0], [109.0], [120.0]]\n",
      "--------------------------------------------------\n",
      "Normalized output[0]: [[0.42161840200424194], [0.29412299394607544], [0.2721361517906189]]\n",
      "Normalized target[0]: [[0.5209125280380249], [0.5665399432182312], [0.48669201135635376]]\n",
      "Denormalized output[0]: [[111.8856430053711], [78.3543472290039], [72.57180786132812]]\n",
      "Denormalized target[0]: [[138.0], [150.0], [129.0]]\n",
      "--------------------------------------------------\n",
      "Normalized output[0]: [[0.4100688099861145], [0.29019054770469666], [0.27189475297927856]]\n",
      "Normalized target[0]: [[0.24334600567817688], [0.34220531582832336], [0.2851710915565491]]\n",
      "Denormalized output[0]: [[108.84809875488281], [77.32011413574219], [72.5083236694336]]\n",
      "Denormalized target[0]: [[65.0], [91.0], [76.0]]\n",
      "--------------------------------------------------\n",
      "Normalized output[0]: [[0.42924484610557556], [0.30182570219039917], [0.2690967917442322]]\n",
      "Normalized target[0]: [[0.49809885025024414], [0.5437262654304504], [0.35741445422172546]]\n",
      "Denormalized output[0]: [[113.89139556884766], [80.38015747070312], [71.77245330810547]]\n",
      "Denormalized target[0]: [[132.0], [144.00001525878906], [95.0]]\n",
      "--------------------------------------------------\n",
      "Normalized output[0]: [[0.433066725730896], [0.2973964810371399], [0.2698717713356018]]\n",
      "Normalized target[0]: [[0.608364999294281], [0.6768060922622681], [0.6273764371871948]]\n",
      "Denormalized output[0]: [[114.89654541015625], [79.21527099609375], [71.97627258300781]]\n",
      "Denormalized target[0]: [[161.0], [179.0], [166.0]]\n",
      "--------------------------------------------------\n",
      "Normalized output[0]: [[0.3709802031517029], [0.27416443824768066], [0.27707600593566895]]\n",
      "Normalized target[0]: [[0.14068441092967987], [0.06463878601789474], [0.03802281245589256]]\n",
      "Denormalized output[0]: [[98.56779479980469], [73.1052474975586], [73.87098693847656]]\n",
      "Denormalized target[0]: [[38.0], [18.0], [11.0]]\n",
      "--------------------------------------------------\n",
      "Normalized output[0]: [[0.41136276721954346], [0.298190712928772], [0.27029848098754883]]\n",
      "Normalized target[0]: [[0.20912547409534454], [0.42965778708457947], [0.4030418395996094]]\n",
      "Denormalized output[0]: [[109.18840789794922], [79.42415618896484], [72.0885009765625]]\n",
      "Denormalized target[0]: [[56.0], [114.0], [107.0]]\n",
      "--------------------------------------------------\n",
      "Normalized output[0]: [[0.37001264095306396], [0.283966600894928], [0.2824542820453644]]\n",
      "Normalized target[0]: [[0.36882129311561584], [0.4600760340690613], [0.46768060326576233]]\n",
      "Denormalized output[0]: [[98.31332397460938], [75.68321228027344], [75.28547668457031]]\n",
      "Denormalized target[0]: [[98.0], [122.0], [124.0]]\n",
      "--------------------------------------------------\n",
      "Normalized output[0]: [[0.43097755312919617], [0.29544031620025635], [0.270781010389328]]\n",
      "Normalized target[0]: [[0.5513308048248291], [0.589353621006012], [0.25475284457206726]]\n",
      "Denormalized output[0]: [[114.34709930419922], [78.7008056640625], [72.21540832519531]]\n",
      "Denormalized target[0]: [[146.0], [156.0], [68.0]]\n",
      "--------------------------------------------------\n",
      "Normalized output[0]: [[0.3993931710720062], [0.29339274764060974], [0.2709747552871704]]\n",
      "Normalized target[0]: [[0.31178706884384155], [0.2851710915565491], [0.2851710915565491]]\n",
      "Denormalized output[0]: [[106.0404052734375], [78.16229248046875], [72.266357421875]]\n",
      "Denormalized target[0]: [[83.0], [76.0], [76.0]]\n",
      "--------------------------------------------------\n",
      "Normalized output[0]: [[0.414087176322937], [0.2988252639770508], [0.27037423849105835]]\n",
      "Normalized target[0]: [[0.25475284457206726], [0.258555144071579], [0.24334600567817688]]\n",
      "Denormalized output[0]: [[109.9049301147461], [79.5910415649414], [72.1084213256836]]\n",
      "Denormalized target[0]: [[68.0], [69.0], [65.0]]\n",
      "--------------------------------------------------\n",
      "Normalized output[0]: [[0.43315213918685913], [0.2904692590236664], [0.27098649740219116]]\n",
      "Normalized target[0]: [[0.5095056891441345], [0.39923954010009766], [0.28136882185935974]]\n",
      "Denormalized output[0]: [[114.91901397705078], [77.39341735839844], [72.26944732666016]]\n",
      "Denormalized target[0]: [[135.0], [106.0], [75.0]]\n",
      "--------------------------------------------------\n",
      "Predicted output shape: torch.Size([128, 3, 1])\n",
      "True output shape: torch.Size([128, 3, 1])\n",
      "Average Validation Loss: 0.0193\n",
      "Mean Absolute Error: 28.4802\n"
     ]
    },
    {
     "data": {
      "image/png": "[encoded data removed]",
      "text/plain": [
       "<Figure size 1000x600 with 1 Axes>"
      ]
     },
     "metadata": {},
     "output_type": "display_data"
    }
   ],
   "source": [
    "# Set the model to evaluation mode\n",
    "seq2seq_model.eval()\n",
    "\n",
    "# Initialize variables to track loss\n",
    "loss_value = 0\n",
    "num_batches = 0\n",
    "\n",
    "# Define the loss function\n",
    "criterion = torch.nn.MSELoss()\n",
    "\n",
    "# Disable gradient computation for validation\n",
    "with torch.no_grad():\n",
    "    for batch_idx, (inputs, targets) in enumerate(test_loader):\n",
    "        if batch_idx == len(test_loader) - 1:  \n",
    "            break  # Skip the last batch\n",
    "\n",
    "        # Forward pass (ensure correct hidden states are passed)\n",
    "        inputs = inputs.to(device)  # Move inputs to GPU if available\n",
    "        hidden_state, cell_state = seq2seq_model.encoder(inputs)  # Get encoder hidden states\n",
    "        decoder_input = inputs  # Use the input as the initial decoder input (you could also use a special token)\n",
    "\n",
    "        # The decoder will use these hidden states\n",
    "        output = seq2seq_model.decoder(decoder_input, (hidden_state, cell_state))  # Pass hidden and cell states to the decoder\n",
    "\n",
    "        output = output.to(device)  # Move output to GPU if available\n",
    "        targets = targets.to(device)\n",
    "\n",
    "        # Denormalize predictions and targets (for all 3 time steps)\n",
    "        output_denorm = output * (data_max[\"Taxi Available in Selected Box Area\"] - data_min[\"Taxi Available in Selected Box Area\"]) + data_min[\"Taxi Available in Selected Box Area\"]\n",
    "        targets_denorm = targets * (data_max[\"Taxi Available in Selected Box Area\"] - data_min[\"Taxi Available in Selected Box Area\"]) + data_min[\"Taxi Available in Selected Box Area\"]\n",
    "\n",
    "        # Compute loss on normalized data\n",
    "        loss_value += criterion(output, targets)\n",
    "\n",
    "        # Print a sample of the normalized and denormalized values\n",
    "        print(\"Normalized output[0]:\", output[0].tolist())  \n",
    "        print(\"Normalized target[0]:\", targets[0].tolist())  \n",
    "        print(\"Denormalized output[0]:\", output_denorm[0].tolist())  \n",
    "        print(\"Denormalized target[0]:\", targets_denorm[0].tolist())  \n",
    "        print(\"-\" * 50)\n",
    "\n",
    "# Compute average loss\n",
    "loss_value = loss_value / (len(test_loader) - 1)\n",
    "print(\"Predicted output shape:\", output.shape)\n",
    "print(\"True output shape:\", targets.shape)\n",
    "print(f'Average Validation Loss: {loss_value:.4f}')\n",
    "\n",
    "# Prediction vs Ground Truth Plot\n",
    "plt.figure(figsize=(10, 6))\n",
    "plt.plot(output_denorm[0].cpu().numpy(), label='Predicted', color='blue')\n",
    "plt.plot(targets_denorm[0].cpu().numpy(), label='Ground Truth', color='red')\n",
    "plt.title('Prediction vs Ground Truth')\n",
    "plt.xlabel('Time Steps')\n",
    "\n",
    "# Compute MAE\n",
    "mae = torch.mean(torch.abs(output_denorm - targets_denorm))\n",
    "print(f'Mean Absolute Error: {mae:.4f}')\n"
   ]
  },
  {
   "cell_type": "code",
   "execution_count": 176,
   "metadata": {},
   "outputs": [],
   "source": [
    "\n",
    "# model.eval()\n",
    "\n",
    "# # Initialize variables to track loss\n",
    "# loss_value = 0\n",
    "# num_batches = 0\n",
    "\n",
    "# # Define the loss function\n",
    "# criterion = torch.nn.MSELoss()\n",
    "\n",
    "# # Initialize hidden state and cell state\n",
    "# hidden_state, cell_state = None, None  \n",
    "\n",
    "# # Disable gradient computation for validation\n",
    "# with torch.no_grad():\n",
    "#     for batch_idx, (inputs, targets) in enumerate(test_loader):\n",
    "#         if batch_idx == len(test_loader) - 1:  \n",
    "#             break  # Skip the last batch\n",
    "#         # Forward pass\n",
    "#         output, cell_state, hidden_state = model(inputs, cell_state, hidden_state)\n",
    "#         print(\"Predicted output: \", output)\n",
    "#         print(\"True Output: \", targets)\n",
    "\n",
    "#         # Compute loss\n",
    "#         # Compute loss\n",
    "#         loss_value += criterion(output, targets)\n",
    "# # Compute average loss\n",
    "# loss_value = loss_value / (len(test_loader) -1 )\n",
    "\n",
    "# # Print validation results\n",
    "# print(f'Average Validation Loss: {loss_value:.4f}')\n"
   ]
  }
 ],
 "metadata": {
  "kernelspec": {
   "display_name": "venv",
   "language": "python",
   "name": "python3"
  },
  "language_info": {
   "codemirror_mode": {
    "name": "ipython",
    "version": 3
   },
   "file_extension": ".py",
   "mimetype": "text/x-python",
   "name": "python",
   "nbconvert_exporter": "python",
   "pygments_lexer": "ipython3",
   "version": "3.12.4"
  }
 },
 "nbformat": 4,
 "nbformat_minor": 2
}
