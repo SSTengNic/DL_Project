{
 "cells": [
  {
   "cell_type": "markdown",
   "metadata": {},
   "source": [
    "### Imports and CUDA"
   ]
  },
  {
   "cell_type": "code",
   "execution_count": 21,
   "metadata": {},
   "outputs": [],
   "source": [
    "# Matplotlib\n",
    "import requests\n",
    "import matplotlib.pyplot as plt\n",
    "# Numpy\n",
    "import numpy as np\n",
    "# Torch\n",
    "import torch\n",
    "from torch.utils.data import TensorDataset, DataLoader\n",
    "from sklearn.model_selection import train_test_split\n",
    "from sklearn.preprocessing import MinMaxScaler\n",
    "\n",
    "import pandas as pd"
   ]
  },
  {
   "cell_type": "code",
   "execution_count": 22,
   "metadata": {},
   "outputs": [
    {
     "name": "stdout",
     "output_type": "stream",
     "text": [
      "cpu\n"
     ]
    }
   ],
   "source": [
    "# Use GPU if available, else use CPU\n",
    "device = torch.device(\"cuda\" if torch.cuda.is_available() else \"cpu\")\n",
    "print(device)"
   ]
  },
  {
   "cell_type": "markdown",
   "metadata": {},
   "source": [
    "### Objective\n",
    "\n",
    "#### To develop a model that predicts taxi availability within a specific area for the next three hours. This means that if the model is run at 12 PM, it will provide predicted taxi availability for 1 PM, 2 PM, and 3 PM.\n",
    "\n",
    "The area of interest is defined by the following geographical boundaries:\n",
    "\n",
    "    North: 1.35106\n",
    "    South: 1.32206\n",
    "    East: 103.97839\n",
    "    West: 103.92805\n",
    "\n",
    "To identify the taxis currently available within this region, we use the TaxiAvailabilityScript.py.\n",
    "\n",
    "This script collects real-time data, which serves as input for our predictive model.\n",
    "\n",
    "By leveraging historical taxi availability trends and real-time data, our model aims to provide accurate forecasts, helping commuters, ride-hailing services, and urban planners make informed decisions.\n"
   ]
  },
  {
   "cell_type": "markdown",
   "metadata": {},
   "source": [
    "# **To-Do List for Taxi Availability Prediction**\n",
    "\n",
    "## **Step 1: Cleaning the Taxi Availability Data**\n",
    "The first step involves retrieving and preprocessing the taxi availability dataset. The dataset consists of the following columns:\n",
    "\n",
    "1. **DateTime**  \n",
    "2. **Taxi Available Throughout Singapore**  \n",
    "3. **Taxi Available in Selected Box Area**  \n",
    "4. **Coordinates[]**  \n",
    "\n",
    "For our specific use case, **the coordinates column will not be used for now**.  \n",
    "\n",
    "To prepare the data for the neural network:  \n",
    "- **Inputs:** We will use `DateTime` and `Taxi Available Throughout Singapore` as features.  \n",
    "- **Output:** `Taxi Available in Selected Box Area` will be the target variable.  \n",
    "- **DateTime Conversion:** Since `DateTime` is not in a format suitable for neural networks, we will extract relevant features:\n",
    "  - **IsWeekend**: A binary feature (1 if it's a weekend, 0 otherwise).  \n",
    "  - **Hour**: Transformed into a numerical value between **1 and 24** (avoiding 0, which may cause training issues).  \n",
    "\n",
    "---\n",
    "\n",
    "## **Step 2: Adding Additional Features**  \n",
    "*(Partially completed; will be refined over time)*  \n",
    "\n",
    "Aside from the existing columns, we aim to incorporate additional features that may improve prediction accuracy:  \n",
    "\n",
    "1. **ERP Rates (Electronic Road Pricing) at the given time and location**  \n",
    "   - Uncertain if this will significantly impact predictions. Further analysis is needed.  \n",
    "\n",
    "2. **Number of LTA (Land Transport Authority) gantry locations**  \n",
    "   - Again, its usefulness remains uncertain—further evaluation required.  \n",
    "\n",
    "3. **Traffic Incidents in the Selected Area**  \n",
    "   - A script (`TrafficIncidentScript.py`) has been written to update `traffic_incident.csv` with the latest traffic incidents.  \n",
    "   - Over time, as the dataset grows, we hope this feature will become useful.  \n",
    "\n",
    "4. **Number of Taxi Stands in the Area**  \n",
    "   - Currently **not useful** because our area of interest is fixed.  \n",
    "   - However, if we allow dynamic selection of areas in the future, this could become relevant.  \n",
    "\n",
    "5. **Temperature at a Given Time and Date** *(To be implemented)*  \n",
    "\n",
    "6. **Rainfall Data** *(To be implemented)*  \n",
    "\n",
    "To ensure all features align properly, we will **synchronize all datasets based on DateTime** before feeding them into the model.  \n",
    "\n",
    "---\n",
    "\n",
    "## **Step 3: Creating the Training-Test Split**  \n",
    "- Initially, we will perform an **80/20 Training-Test split** for simplicity.  \n",
    "- In the future, we may introduce a **Training-Validation-Test split** to further refine model performance.  \n",
    "\n",
    "---\n",
    "\n",
    "## **Step 4: Building the Model**  \n",
    "We will begin with an **LSTM model**, as LSTMs are well-suited for time-series forecasting.  \n",
    "- **Initial Limitation:** The model, in its basic form, will only predict the next hour.  \n",
    "- **Future Improvement:** A **sliding window approach** will be explored and implemented to extend predictions further.  \n",
    "\n",
    "---\n",
    "\n",
    "## **Step 5: Model Evaluation and Improvement**  \n",
    "- After the initial model is trained, we will assess its performance.  \n",
    "- Based on results, we will explore potential improvements, such as hyperparameter tuning, architectural modifications, or additional feature engineering.  \n",
    "\n",
    "---\n",
    "\n",
    "This structured approach will guide the development of a robust and accurate taxi availability prediction model. 🚖💡\n"
   ]
  },
  {
   "cell_type": "markdown",
   "metadata": {},
   "source": [
    "## **Preparing the taxi_availability data here.**\n",
    "\n",
    "Normalization of certain inputs are done as well, but I am unsure if it is the right thing to do as well."
   ]
  },
  {
   "cell_type": "code",
   "execution_count": 23,
   "metadata": {},
   "outputs": [],
   "source": [
    "# weather_file_path = \"merged_weather.csv\"\n",
    "# weather_df = pd.read_csv(weather_file_path, delimiter=\",\")\n",
    "\n",
    "# weather_df = weather_df[::-1]\n"
   ]
  },
  {
   "cell_type": "code",
   "execution_count": 24,
   "metadata": {},
   "outputs": [
    {
     "name": "stdout",
     "output_type": "stream",
     "text": [
      "Taxi Available throughout SG             int64\n",
      "Taxi Available in Selected Box Area      int64\n",
      "temp_value                             float64\n",
      "humidity_value                         float64\n",
      "rainfall_value                         float64\n",
      "IsWeekend                                int64\n",
      "Hour                                     int32\n",
      "dtype: object\n"
     ]
    }
   ],
   "source": [
    "# taxi_availability_file_path = \"taxi_availability.csv\"\n",
    "\n",
    "# taxi_df = pd.read_csv(taxi_availability_file_path, delimiter=\",\")\n",
    "\n",
    "merged_weather_taxi_df = \"merged_file.csv\"\n",
    "taxi_df = pd.read_csv(merged_weather_taxi_df, delimiter = \",\")\n",
    "\n",
    "#Adjusting for weather parameters\n",
    "taxi_df = taxi_df.drop(columns = \"stationId\")\n",
    "\n",
    "#Adjusting for taxi_vailability parameters\n",
    "taxi_df_coordinates = taxi_df[\"Coordinates[]\"]\n",
    "taxt_df_datetime = taxi_df[\"DateTime\"]\n",
    "taxi_df = taxi_df.drop(columns = \"Coordinates[]\")\n",
    "taxi_df[\"DateTime\"] = pd.to_datetime(taxi_df[\"DateTime\"])\n",
    "\n",
    "taxi_df[\"IsWeekend\"] = (taxi_df[\"DateTime\"].dt.weekday >= 5).astype(int)\n",
    "taxi_df[\"Hour\"] = taxi_df[\"DateTime\"].dt.hour + 1  # Convert 0-23 to 1-24\n",
    "taxi_df = taxi_df.drop(columns = \"DateTime\")\n",
    "\n",
    "print(taxi_df.dtypes)"
   ]
  },
  {
   "cell_type": "markdown",
   "metadata": {},
   "source": [
    "### Converting all dtypes into float32"
   ]
  },
  {
   "cell_type": "code",
   "execution_count": 25,
   "metadata": {},
   "outputs": [
    {
     "name": "stdout",
     "output_type": "stream",
     "text": [
      "numeric_columns Index(['Taxi Available throughout SG', 'Taxi Available in Selected Box Area',\n",
      "       'temp_value', 'humidity_value', 'rainfall_value', 'IsWeekend', 'Hour'],\n",
      "      dtype='object')\n"
     ]
    }
   ],
   "source": [
    "# taxi_df=taxi_df[:5120]\n",
    "numeric_columns = taxi_df.select_dtypes(include=['int64', 'int32','float64','object']).columns\n",
    "print(\"numeric_columns\",numeric_columns)\n",
    "taxi_df[numeric_columns] = taxi_df[numeric_columns].astype('float32')\n",
    "numeric_columns = taxi_df.select_dtypes(include=['int64', 'int32','float64','object']).columns\n",
    "\n",
    "# Convert selected columns to float32\n",
    "taxi_df[numeric_columns] = taxi_df[numeric_columns].astype('float32')\n",
    "\n",
    "\n"
   ]
  },
  {
   "cell_type": "markdown",
   "metadata": {},
   "source": [
    "### Normalizing all values"
   ]
  },
  {
   "cell_type": "code",
   "execution_count": 26,
   "metadata": {},
   "outputs": [
    {
     "name": "stdout",
     "output_type": "stream",
     "text": [
      "Input Data:  (8482, 6)\n",
      "Output Data:  (8482,)\n"
     ]
    }
   ],
   "source": [
    "#---------------Normalise-----------------------\n",
    "# Drop 'DateTime' as it's no longer needed\n",
    "# Normalize the 'Hour' and 'IsWeekend' columns (if needed)\n",
    "\n",
    "\n",
    "data_min = taxi_df.min(axis=0)\n",
    "data_max = taxi_df.max(axis=0)\n",
    "taxi_df_normalized = (taxi_df - data_min) / (data_max - data_min)\n",
    "\n",
    "# scaler = MinMaxScaler()\n",
    "# taxi_df[[\"Hour\", \"IsWeekend\", \"Taxi Available throughout SG\",\"Taxi Available in Selected Box Area\"]] = scaler.fit_transform(taxi_df[[\"Hour\", \"IsWeekend\",\"Taxi Available throughout SG\",\"Taxi Available in Selected Box Area\"]])\n",
    "# taxi_df = taxi_df.apply(pd.to_numeric, errors='coerce')\n",
    "taxi_df_output_normalized  = taxi_df_normalized[\"Taxi Available in Selected Box Area\"]\n",
    "taxi_df_normalized = taxi_df_normalized.drop(columns = \"Taxi Available in Selected Box Area\")\n",
    "taxi_df_normalized.to_csv(\"checker.csv\", index=False)  # Set index=False to exclude row numbers\n",
    "\n",
    "# Convert to NumPy arrays\n",
    "input_data = taxi_df_normalized.values  # Shape: (5120, num_features)\n",
    "output_data = taxi_df_output_normalized.values  # Shape: (5120,)\n",
    "# taxi_df_output = taxi_df[\"Taxi Available in Selected Box Area\"]\n",
    "# input_data = taxi_df.values  # Shape: (5120, num_features)\n",
    "# output_data = taxi_df_output.values  # Shape: (5120,)\n",
    "\n",
    "print(\"Input Data: \",input_data.shape)\n",
    "print(\"Output Data: \",output_data.shape)\n",
    "\n",
    "# Define sequence length\n",
    "\n",
    "seq_length = 24\n",
    "\n",
    "# Function to create continuous sequences\n",
    "#Checked, it works correctly\n",
    "def create_sequences(data, labels, seq_length):\n",
    "    xs, ys = [], []\n",
    "    for i in range(0, len(data), seq_length):  # Start from 0 and increment by seq_length\n",
    "        if i + seq_length <= len(data):  # Make sure there are enough data points for the sequence\n",
    "            xs.append(data[i:i + seq_length])  # Input sequence (continuous)\n",
    "            ys.append(labels[i + seq_length - 1])  # Corresponding target (last value of the sequence)\n",
    "    return np.array(xs), np.array(ys)\n"
   ]
  },
  {
   "cell_type": "code",
   "execution_count": 27,
   "metadata": {},
   "outputs": [
    {
     "name": "stdout",
     "output_type": "stream",
     "text": [
      "Inputs: torch.Size([17, 24, 6]), Targets: torch.Size([17, 1])\n"
     ]
    },
    {
     "name": "stderr",
     "output_type": "stream",
     "text": [
      "C:\\Users\\nicho\\AppData\\Local\\Temp\\ipykernel_35544\\3737776935.py:15: UserWarning: To copy construct from a tensor, it is recommended to use sourceTensor.clone().detach() or sourceTensor.clone().detach().requires_grad_(True), rather than torch.tensor(sourceTensor).\n",
      "  trainX = torch.tensor(trainX, dtype=torch.float32)  # Shape: (train_size, 24, num_features)\n",
      "C:\\Users\\nicho\\AppData\\Local\\Temp\\ipykernel_35544\\3737776935.py:16: UserWarning: To copy construct from a tensor, it is recommended to use sourceTensor.clone().detach() or sourceTensor.clone().detach().requires_grad_(True), rather than torch.tensor(sourceTensor).\n",
      "  trainY = torch.tensor(trainY, dtype=torch.float32)  # Shape: (train_size,)\n",
      "C:\\Users\\nicho\\AppData\\Local\\Temp\\ipykernel_35544\\3737776935.py:17: UserWarning: To copy construct from a tensor, it is recommended to use sourceTensor.clone().detach() or sourceTensor.clone().detach().requires_grad_(True), rather than torch.tensor(sourceTensor).\n",
      "  testX = torch.tensor(testX, dtype=torch.float32)    # Shape: (test_size, 24, num_features)\n",
      "C:\\Users\\nicho\\AppData\\Local\\Temp\\ipykernel_35544\\3737776935.py:18: UserWarning: To copy construct from a tensor, it is recommended to use sourceTensor.clone().detach() or sourceTensor.clone().detach().requires_grad_(True), rather than torch.tensor(sourceTensor).\n",
      "  testY = torch.tensor(testY, dtype=torch.float32)    # Shape: (test_size,)\n"
     ]
    }
   ],
   "source": [
    "\n",
    "X, y = create_sequences(input_data, output_data, seq_length)\n",
    "\n",
    "# Convert to PyTorch tensors\n",
    "X = torch.tensor(X, dtype=torch.float32)  # Add channel dim\n",
    "y = torch.tensor(y[:, None], dtype=torch.float32)\n",
    "\n",
    "# Split into training (80%) and testing (20%)\n",
    "train_size = int(0.8 * len(X))\n",
    "test_size = len(X) - train_size\n",
    "\n",
    "trainX, testX = X[:train_size], X[train_size:]\n",
    "trainY, testY = y[:train_size], y[train_size:]\n",
    "\n",
    "# Convert to PyTorch tensors\n",
    "trainX = torch.tensor(trainX, dtype=torch.float32)  # Shape: (train_size, 24, num_features)\n",
    "trainY = torch.tensor(trainY, dtype=torch.float32)  # Shape: (train_size,)\n",
    "testX = torch.tensor(testX, dtype=torch.float32)    # Shape: (test_size, 24, num_features)\n",
    "testY = torch.tensor(testY, dtype=torch.float32)    # Shape: (test_size,)\n",
    "\n",
    "train_dataset = TensorDataset(trainX, trainY)\n",
    "test_dataset = TensorDataset(testX, testY)\n",
    "\n",
    "batch_sizes = 17  # You can adjust the batch size as needed\n",
    "#Shuffle is false because you need it to be in time sequenced, but please double check\n",
    "train_loader = DataLoader(train_dataset, batch_size=batch_sizes, shuffle=False)\n",
    "test_loader = DataLoader(test_dataset, batch_size=batch_sizes, shuffle=False)\n",
    "\n",
    "# Example of accessing a batch of data\n",
    "for inputs, targets in train_loader:\n",
    "    print(f'Inputs: {inputs.shape}, Targets: {targets.shape}')\n",
    "    break  # Only print the first batch for verification"
   ]
  },
  {
   "cell_type": "code",
   "execution_count": 28,
   "metadata": {},
   "outputs": [
    {
     "name": "stdout",
     "output_type": "stream",
     "text": [
      "test_loader 5\n"
     ]
    }
   ],
   "source": [
    "print(\"test_loader\",len(test_loader))"
   ]
  },
  {
   "cell_type": "code",
   "execution_count": 29,
   "metadata": {},
   "outputs": [],
   "source": [
    "class LSTM_pt(torch.nn.Module):\n",
    "    def __init__(self, input_dim, hidden_dim, layer_dim, output_dim):\n",
    "        super(LSTM_pt, self).__init__()\n",
    "        self.hidden_dim = hidden_dim\n",
    "        self.layer_dim = layer_dim\n",
    "        self.lstm = torch.nn.LSTM(input_dim, hidden_dim, layer_dim, batch_first=True)\n",
    "        self.fc = torch.nn.Sequential(\n",
    "            torch.nn.Linear(hidden_dim, output_dim),\n",
    "            torch.nn.ReLU()  # Helps prevent constant outputs\n",
    "        )\n",
    "    def forward(self, x, h0=None, c0=None):\n",
    "        if h0 is None or c0 is None:\n",
    "            h0 = torch.randn(self.layer_dim, x.size(0), self.hidden_dim).to(x.device)\n",
    "            c0 = torch.randn(self.layer_dim, x.size(0), self.hidden_dim).to(x.device)\n",
    "        \n",
    "        out, (hn, cn) = self.lstm(x, (h0, c0))\n",
    "        out = self.fc(out[:, -1, :])\n",
    "        return out, hn, cn"
   ]
  },
  {
   "cell_type": "code",
   "execution_count": 30,
   "metadata": {},
   "outputs": [],
   "source": [
    "def train(model, dataloader,num_layers, hidden_size, num_epochs, learning_rate, device, ):\n",
    "    # Set the loss function and optimizer\n",
    "    criterion = torch.nn.MSELoss()\n",
    "    optimizer = torch.optim.Adam(model.parameters(), lr=learning_rate)\n",
    "    model.train()  # Set the model to training mode\n",
    "    \n",
    "    for epoch in range(num_epochs):\n",
    "        loss=0\n",
    "        hidden_state, cell_state = None, None   \n",
    "        optimizer.zero_grad() #Double check if this is the right position\n",
    "        for batch_idx, (inputs, targets) in enumerate(train_loader):\n",
    "            if batch_idx == len(train_loader) - 1:  \n",
    "                break  # Skip the last batch\n",
    "            # Initialize hidden state and cell state for each batch\n",
    "            # Forward pass\n",
    "            output, cell_state, hidden_state = model(inputs,cell_state, hidden_state)\n",
    "            # Calculate loss\n",
    "            loss = criterion(output, targets)\n",
    "            loss.backward()\n",
    "            optimizer.step()\n",
    "\n",
    "            hidden_state = hidden_state.detach()\n",
    "            cell_state = cell_state.detach()\n",
    "        if epoch %100 == 0:\n",
    "            print(f'Epoch {epoch+1}/{num_epochs}, Loss: {loss/len(dataloader)}')\n",
    "    print(f'Epoch {epoch+1}/{num_epochs}, Loss: {loss/len(dataloader)}')"
   ]
  },
  {
   "cell_type": "code",
   "execution_count": 31,
   "metadata": {},
   "outputs": [
    {
     "name": "stdout",
     "output_type": "stream",
     "text": [
      "Epoch 1/200, Loss: 0.0013758735731244087\n",
      "Epoch 101/200, Loss: 0.0007533583557233214\n",
      "Epoch 200/200, Loss: 0.0005386808188632131\n"
     ]
    }
   ],
   "source": [
    "# Define the model parameters\n",
    "# Following the research paper's instructions\n",
    "input_size = 6\n",
    "hidden_size = 50\n",
    "num_layers = 1 # Can be changed to stack multiple LSTM layers!\n",
    "output_size = 1\n",
    "dataloader = train_loader\n",
    "#Create the model\n",
    "model = LSTM_pt(input_size, hidden_size, num_layers, output_size).to(device)\n",
    "train(model, dataloader,num_layers, hidden_size, num_epochs = 200, learning_rate = 0.01, device = device)\n"
   ]
  },
  {
   "cell_type": "code",
   "execution_count": 32,
   "metadata": {},
   "outputs": [
    {
     "name": "stdout",
     "output_type": "stream",
     "text": [
      "5\n"
     ]
    }
   ],
   "source": [
    "print(len(test_loader))"
   ]
  },
  {
   "cell_type": "code",
   "execution_count": 33,
   "metadata": {},
   "outputs": [
    {
     "name": "stdout",
     "output_type": "stream",
     "text": [
      "output shape:  torch.Size([17, 1])\n",
      "targets shape:  torch.Size([17, 1])\n",
      "output shape:  torch.Size([17, 1])\n",
      "targets shape:  torch.Size([17, 1])\n",
      "output shape:  torch.Size([17, 1])\n",
      "targets shape:  torch.Size([17, 1])\n",
      "output shape:  torch.Size([17, 1])\n",
      "targets shape:  torch.Size([17, 1])\n",
      "Predicted outsssput:  torch.Size([17, 1])\n",
      "True Outpussst:  torch.Size([3, 1])\n",
      "Average Validation Loss: 0.0107\n"
     ]
    }
   ],
   "source": [
    "\n",
    "model.eval()\n",
    "\n",
    "# Initialize variables to track loss\n",
    "loss_value = 0\n",
    "num_batches = 0\n",
    "\n",
    "# Define the loss function\n",
    "criterion = torch.nn.MSELoss()\n",
    "\n",
    "# Initialize hidden state and cell state\n",
    "hidden_state, cell_state = None, None  \n",
    "\n",
    "# Disable gradient computation for validation\n",
    "with torch.no_grad():\n",
    "    for batch_idx, (inputs, targets) in enumerate(test_loader):\n",
    "        if batch_idx == len(test_loader) - 1:  \n",
    "            break  # Skip the last batch\n",
    "        # Forward pass\n",
    "        output, cell_state, hidden_state = model(inputs, cell_state, hidden_state)\n",
    "\n",
    "\n",
    "        # Compute loss\n",
    "        # Compute loss\n",
    "        print(\"output shape: \", output.shape)\n",
    "        print(\"targets shape: \", targets.shape)\n",
    "        loss_value += criterion(output, targets)\n",
    "# Compute average loss\n",
    "loss_value = loss_value / (len(test_loader) -1 )\n",
    "print(\"Predicted outsssput: \", output.shape)\n",
    "print(\"True Outpussst: \", targets.shape)\n",
    "# Print validation results\n",
    "print(f'Average Validation Loss: {loss_value:.4f}')\n"
   ]
  },
  {
   "cell_type": "code",
   "execution_count": 34,
   "metadata": {},
   "outputs": [],
   "source": [
    "\n",
    "# model.eval()\n",
    "\n",
    "# # Initialize variables to track loss\n",
    "# loss_value = 0\n",
    "# num_batches = 0\n",
    "\n",
    "# # Define the loss function\n",
    "# criterion = torch.nn.MSELoss()\n",
    "\n",
    "# # Initialize hidden state and cell state\n",
    "# hidden_state, cell_state = None, None  \n",
    "\n",
    "# # Disable gradient computation for validation\n",
    "# with torch.no_grad():\n",
    "#     for batch_idx, (inputs, targets) in enumerate(test_loader):\n",
    "#         if batch_idx == len(test_loader) - 1:  \n",
    "#             break  # Skip the last batch\n",
    "#         # Forward pass\n",
    "#         output, cell_state, hidden_state = model(inputs, cell_state, hidden_state)\n",
    "#         print(\"Predicted output: \", output)\n",
    "#         print(\"True Output: \", targets)\n",
    "\n",
    "#         # Compute loss\n",
    "#         # Compute loss\n",
    "#         loss_value += criterion(output, targets)\n",
    "# # Compute average loss\n",
    "# loss_value = loss_value / (len(test_loader) -1 )\n",
    "\n",
    "# # Print validation results\n",
    "# print(f'Average Validation Loss: {loss_value:.4f}')\n"
   ]
  }
 ],
 "metadata": {
  "kernelspec": {
   "display_name": "Python 3",
   "language": "python",
   "name": "python3"
  },
  "language_info": {
   "codemirror_mode": {
    "name": "ipython",
    "version": 3
   },
   "file_extension": ".py",
   "mimetype": "text/x-python",
   "name": "python",
   "nbconvert_exporter": "python",
   "pygments_lexer": "ipython3",
   "version": "3.10.1"
  }
 },
 "nbformat": 4,
 "nbformat_minor": 2
}
