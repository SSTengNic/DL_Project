{
 "cells": [
  {
   "cell_type": "code",
   "execution_count": 1,
   "metadata": {},
   "outputs": [],
   "source": [
    "# Matplotlib\n",
    "import requests\n",
    "import matplotlib.pyplot as plt\n",
    "# Numpy\n",
    "import numpy as np\n",
    "# Torch\n",
    "import torch\n",
    "from torch.utils.data import TensorDataset, DataLoader\n",
    "from sklearn.model_selection import train_test_split\n",
    "from sklearn.preprocessing import MinMaxScaler\n",
    "\n",
    "import pandas as pd"
   ]
  },
  {
   "cell_type": "code",
   "execution_count": 2,
   "metadata": {},
   "outputs": [],
   "source": [
    "taxi_availability_file_path = \"taxi_availability.csv\"\n",
    "\n",
    "taxi_df = pd.read_csv(taxi_availability_file_path, delimiter=\",\")\n",
    "weather_file_path = \"merged_weather.csv\"\n",
    "\n",
    "weather_df = pd.read_csv(weather_file_path, delimiter=\",\")\n",
    "\n",
    "weather_df = weather_df[::-1]\n",
    "\n",
    "# Merge on \"Datetime\" column\n",
    "merged_df = pd.merge(taxi_df, weather_df, on=\"DateTime\", how=\"inner\")  # Use \"outer\" for full join\n",
    "\n",
    "# Save the merged DataFrame\n",
    "merged_df.to_csv(\"merged_file.csv\", index=False)\n"
   ]
  },
  {
   "cell_type": "code",
   "execution_count": null,
   "metadata": {},
   "outputs": [],
   "source": []
  }
 ],
 "metadata": {
  "kernelspec": {
   "display_name": "Python 3",
   "language": "python",
   "name": "python3"
  },
  "language_info": {
   "codemirror_mode": {
    "name": "ipython",
    "version": 3
   },
   "file_extension": ".py",
   "mimetype": "text/x-python",
   "name": "python",
   "nbconvert_exporter": "python",
   "pygments_lexer": "ipython3",
   "version": "3.10.1"
  }
 },
 "nbformat": 4,
 "nbformat_minor": 2
}
