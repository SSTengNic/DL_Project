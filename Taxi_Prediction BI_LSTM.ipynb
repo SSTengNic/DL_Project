{
 "cells": [
  {
   "cell_type": "markdown",
   "metadata": {},
   "source": [
    "### Imports and CUDA"
   ]
  },
  {
   "cell_type": "code",
   "execution_count": 1,
   "metadata": {},
   "outputs": [
    {
     "name": "stdout",
     "output_type": "stream",
     "text": [
      "Found existing installation: typing_extensions 4.13.2\n",
      "Uninstalling typing_extensions-4.13.2:\n",
      "  Successfully uninstalled typing_extensions-4.13.2\n",
      "Collecting typing_extensions==4.11.0\n",
      "  Using cached typing_extensions-4.11.0-py3-none-any.whl.metadata (3.0 kB)\n",
      "Using cached typing_extensions-4.11.0-py3-none-any.whl (34 kB)\n",
      "Installing collected packages: typing_extensions\n",
      "\u001b[31mERROR: pip's dependency resolver does not currently take into account all the packages that are installed. This behaviour is the source of the following dependency conflicts.\n",
      "pydantic 2.11.3 requires typing-extensions>=4.12.2, but you have typing-extensions 4.11.0 which is incompatible.\n",
      "typing-inspection 0.4.0 requires typing-extensions>=4.12.0, but you have typing-extensions 4.11.0 which is incompatible.\u001b[0m\u001b[31m\n",
      "\u001b[0mSuccessfully installed typing_extensions-4.11.0\n",
      "Found existing installation: wandb 0.19.9\n",
      "Uninstalling wandb-0.19.9:\n",
      "  Successfully uninstalled wandb-0.19.9\n",
      "Collecting wandb\n",
      "  Using cached wandb-0.19.9-py3-none-manylinux_2_17_x86_64.manylinux2014_x86_64.whl.metadata (10 kB)\n",
      "Requirement already satisfied: click!=8.0.0,>=7.1 in /opt/conda/lib/python3.11/site-packages (from wandb) (8.1.8)\n",
      "Requirement already satisfied: docker-pycreds>=0.4.0 in /opt/conda/lib/python3.11/site-packages (from wandb) (0.4.0)\n",
      "Requirement already satisfied: gitpython!=3.1.29,>=1.0.0 in /opt/conda/lib/python3.11/site-packages (from wandb) (3.1.44)\n",
      "Requirement already satisfied: platformdirs in /opt/conda/lib/python3.11/site-packages (from wandb) (4.0.0)\n",
      "Requirement already satisfied: protobuf!=4.21.0,!=5.28.0,<6,>=3.19.0 in /opt/conda/lib/python3.11/site-packages (from wandb) (5.29.4)\n",
      "Requirement already satisfied: psutil>=5.0.0 in /opt/conda/lib/python3.11/site-packages (from wandb) (5.9.5)\n",
      "Requirement already satisfied: pydantic<3 in /opt/conda/lib/python3.11/site-packages (from wandb) (2.11.3)\n",
      "Requirement already satisfied: pyyaml in /opt/conda/lib/python3.11/site-packages (from wandb) (6.0.1)\n",
      "Requirement already satisfied: requests<3,>=2.0.0 in /opt/conda/lib/python3.11/site-packages (from wandb) (2.31.0)\n",
      "Requirement already satisfied: sentry-sdk>=2.0.0 in /opt/conda/lib/python3.11/site-packages (from wandb) (2.26.1)\n",
      "Requirement already satisfied: setproctitle in /opt/conda/lib/python3.11/site-packages (from wandb) (1.3.5)\n",
      "Requirement already satisfied: setuptools in /opt/conda/lib/python3.11/site-packages (from wandb) (68.2.2)\n",
      "Requirement already satisfied: typing-extensions<5,>=4.4 in /opt/conda/lib/python3.11/site-packages (from wandb) (4.11.0)\n",
      "Requirement already satisfied: six>=1.4.0 in /opt/conda/lib/python3.11/site-packages (from docker-pycreds>=0.4.0->wandb) (1.16.0)\n",
      "Requirement already satisfied: gitdb<5,>=4.0.1 in /opt/conda/lib/python3.11/site-packages (from gitpython!=3.1.29,>=1.0.0->wandb) (4.0.12)\n",
      "Requirement already satisfied: annotated-types>=0.6.0 in /opt/conda/lib/python3.11/site-packages (from pydantic<3->wandb) (0.7.0)\n",
      "Requirement already satisfied: pydantic-core==2.33.1 in /opt/conda/lib/python3.11/site-packages (from pydantic<3->wandb) (2.33.1)\n",
      "Collecting typing-extensions<5,>=4.4 (from wandb)\n",
      "  Using cached typing_extensions-4.13.2-py3-none-any.whl.metadata (3.0 kB)\n",
      "Requirement already satisfied: typing-inspection>=0.4.0 in /opt/conda/lib/python3.11/site-packages (from pydantic<3->wandb) (0.4.0)\n",
      "Requirement already satisfied: charset-normalizer<4,>=2 in /opt/conda/lib/python3.11/site-packages (from requests<3,>=2.0.0->wandb) (3.3.2)\n",
      "Requirement already satisfied: idna<4,>=2.5 in /opt/conda/lib/python3.11/site-packages (from requests<3,>=2.0.0->wandb) (3.4)\n",
      "Requirement already satisfied: urllib3<3,>=1.21.1 in /opt/conda/lib/python3.11/site-packages (from requests<3,>=2.0.0->wandb) (2.1.0)\n",
      "Requirement already satisfied: certifi>=2017.4.17 in /opt/conda/lib/python3.11/site-packages (from requests<3,>=2.0.0->wandb) (2023.7.22)\n",
      "Requirement already satisfied: smmap<6,>=3.0.1 in /opt/conda/lib/python3.11/site-packages (from gitdb<5,>=4.0.1->gitpython!=3.1.29,>=1.0.0->wandb) (5.0.2)\n",
      "Using cached wandb-0.19.9-py3-none-manylinux_2_17_x86_64.manylinux2014_x86_64.whl (20.9 MB)\n",
      "Using cached typing_extensions-4.13.2-py3-none-any.whl (45 kB)\n",
      "Installing collected packages: typing-extensions, wandb\n",
      "  Attempting uninstall: typing-extensions\n",
      "    Found existing installation: typing_extensions 4.11.0\n",
      "    Uninstalling typing_extensions-4.11.0:\n",
      "      Successfully uninstalled typing_extensions-4.11.0\n",
      "Successfully installed typing-extensions-4.13.2 wandb-0.19.9\n",
      "Requirement already satisfied: matplotlib in /opt/conda/lib/python3.11/site-packages (3.10.1)\n",
      "Requirement already satisfied: contourpy>=1.0.1 in /opt/conda/lib/python3.11/site-packages (from matplotlib) (1.3.2)\n",
      "Requirement already satisfied: cycler>=0.10 in /opt/conda/lib/python3.11/site-packages (from matplotlib) (0.12.1)\n",
      "Requirement already satisfied: fonttools>=4.22.0 in /opt/conda/lib/python3.11/site-packages (from matplotlib) (4.57.0)\n",
      "Requirement already satisfied: kiwisolver>=1.3.1 in /opt/conda/lib/python3.11/site-packages (from matplotlib) (1.4.8)\n",
      "Requirement already satisfied: numpy>=1.23 in /opt/conda/lib/python3.11/site-packages (from matplotlib) (1.26.0)\n",
      "Requirement already satisfied: packaging>=20.0 in /opt/conda/lib/python3.11/site-packages (from matplotlib) (23.2)\n",
      "Requirement already satisfied: pillow>=8 in /opt/conda/lib/python3.11/site-packages (from matplotlib) (9.3.0)\n",
      "Requirement already satisfied: pyparsing>=2.3.1 in /opt/conda/lib/python3.11/site-packages (from matplotlib) (3.2.3)\n",
      "Requirement already satisfied: python-dateutil>=2.7 in /opt/conda/lib/python3.11/site-packages (from matplotlib) (2.8.2)\n",
      "Requirement already satisfied: six>=1.5 in /opt/conda/lib/python3.11/site-packages (from python-dateutil>=2.7->matplotlib) (1.16.0)\n",
      "Requirement already satisfied: scikit-learn in /opt/conda/lib/python3.11/site-packages (1.6.1)\n",
      "Requirement already satisfied: numpy>=1.19.5 in /opt/conda/lib/python3.11/site-packages (from scikit-learn) (1.26.0)\n",
      "Requirement already satisfied: scipy>=1.6.0 in /opt/conda/lib/python3.11/site-packages (from scikit-learn) (1.15.2)\n",
      "Requirement already satisfied: joblib>=1.2.0 in /opt/conda/lib/python3.11/site-packages (from scikit-learn) (1.4.2)\n",
      "Requirement already satisfied: threadpoolctl>=3.1.0 in /opt/conda/lib/python3.11/site-packages (from scikit-learn) (3.6.0)\n",
      "Requirement already satisfied: pandas in /opt/conda/lib/python3.11/site-packages (2.2.3)\n",
      "Requirement already satisfied: numpy>=1.23.2 in /opt/conda/lib/python3.11/site-packages (from pandas) (1.26.0)\n",
      "Requirement already satisfied: python-dateutil>=2.8.2 in /opt/conda/lib/python3.11/site-packages (from pandas) (2.8.2)\n",
      "Requirement already satisfied: pytz>=2020.1 in /opt/conda/lib/python3.11/site-packages (from pandas) (2023.3.post1)\n",
      "Requirement already satisfied: tzdata>=2022.7 in /opt/conda/lib/python3.11/site-packages (from pandas) (2025.2)\n",
      "Requirement already satisfied: six>=1.5 in /opt/conda/lib/python3.11/site-packages (from python-dateutil>=2.8.2->pandas) (1.16.0)\n"
     ]
    }
   ],
   "source": [
    "!pip uninstall -y typing_extensions\n",
    "!pip install typing_extensions==4.11.0\n",
    "!pip uninstall wandb -y\n",
    "!pip install wandb\n",
    "!pip install matplotlib\n",
    "!pip install scikit-learn\n",
    "!pip install pandas"
   ]
  },
  {
   "cell_type": "code",
   "execution_count": 1,
   "metadata": {},
   "outputs": [
    {
     "name": "stderr",
     "output_type": "stream",
     "text": [
      "\u001b[34m\u001b[1mwandb\u001b[0m: Using wandb-core as the SDK backend.  Please refer to https://wandb.me/wandb-core for more information.\n",
      "\u001b[34m\u001b[1mwandb\u001b[0m: Currently logged in as: \u001b[33mdarrenchanyuhao\u001b[0m (\u001b[33mdarrenchanyuhao-singapore-university-of-technology-and-d\u001b[0m) to \u001b[32mhttps://api.wandb.ai\u001b[0m. Use \u001b[1m`wandb login --relogin`\u001b[0m to force relogin\n"
     ]
    },
    {
     "data": {
      "text/plain": [
       "True"
      ]
     },
     "execution_count": 1,
     "metadata": {},
     "output_type": "execute_result"
    }
   ],
   "source": [
    "# Matplotlib\n",
    "import requests\n",
    "import matplotlib.pyplot as plt\n",
    "# Numpy\n",
    "import numpy as np\n",
    "# Torch\n",
    "import torch\n",
    "from torch.utils.data import TensorDataset, DataLoader\n",
    "from sklearn.model_selection import train_test_split\n",
    "from sklearn.preprocessing import MinMaxScaler\n",
    "import pandas as pd\n",
    "import wandb\n",
    "wandb.login()"
   ]
  },
  {
   "cell_type": "code",
   "execution_count": 2,
   "metadata": {},
   "outputs": [
    {
     "name": "stdout",
     "output_type": "stream",
     "text": [
      "cuda\n"
     ]
    }
   ],
   "source": [
    "# Use GPU if available, else use CPU\n",
    "device = torch.device(\"cuda\" if torch.cuda.is_available() else \"cpu\")\n",
    "print(device)"
   ]
  },
  {
   "cell_type": "markdown",
   "metadata": {},
   "source": [
    "### Objective\n",
    "\n",
    "#### To develop a model that predicts taxi availability within a specific area for the next three hours. This means that if the model is run at 12 PM, it will provide predicted taxi availability for 1 PM, 2 PM, and 3 PM.\n",
    "\n",
    "The area of interest is defined by the following geographical boundaries:\n",
    "\n",
    "    North: 1.35106\n",
    "    South: 1.32206\n",
    "    East: 103.97839\n",
    "    West: 103.92805\n",
    "\n",
    "To identify the taxis currently available within this region, we use the TaxiAvailabilityScript.py.\n",
    "\n",
    "This script collects real-time data, which serves as input for our predictive model.\n",
    "\n",
    "By leveraging historical taxi availability trends and real-time data, our model aims to provide accurate forecasts, helping commuters, ride-hailing services, and urban planners make informed decisions.\n"
   ]
  },
  {
   "cell_type": "markdown",
   "metadata": {},
   "source": [
    "# **To-Do List for Taxi Availability Prediction**\n",
    "\n",
    "## **Step 1: Cleaning the Taxi Availability Data**\n",
    "The first step involves retrieving and preprocessing the taxi availability dataset. The dataset consists of the following columns:\n",
    "\n",
    "1. **DateTime**  \n",
    "2. **Taxi Available Throughout Singapore**  \n",
    "3. **Taxi Available in Selected Box Area**  \n",
    "4. **Coordinates[]**  \n",
    "\n",
    "For our specific use case, **the coordinates column will not be used for now**.  \n",
    "\n",
    "To prepare the data for the neural network:  \n",
    "- **Inputs:** We will use `DateTime` and `Taxi Available Throughout Singapore` as features.  \n",
    "- **Output:** `Taxi Available in Selected Box Area` will be the target variable.  \n",
    "- **DateTime Conversion:** Since `DateTime` is not in a format suitable for neural networks, we will extract relevant features:\n",
    "  - **IsWeekend**: A binary feature (1 if it's a weekend, 0 otherwise).  \n",
    "  - **Hour**: Transformed into a numerical value between **1 and 24** (avoiding 0, which may cause training issues).  \n",
    "\n",
    "---\n",
    "\n",
    "## **Step 2: Adding Additional Features**  \n",
    "*(Partially completed; will be refined over time)*  \n",
    "\n",
    "Aside from the existing columns, we aim to incorporate additional features that may improve prediction accuracy:  \n",
    "\n",
    "1. **ERP Rates (Electronic Road Pricing) at the given time and location**  \n",
    "   - Uncertain if this will significantly impact predictions. Further analysis is needed.  \n",
    "\n",
    "2. **Number of LTA (Land Transport Authority) gantry locations**  \n",
    "   - Again, its usefulness remains uncertain—further evaluation required.  \n",
    "\n",
    "3. **Traffic Incidents in the Selected Area**  \n",
    "   - A script (`TrafficIncidentScript.py`) has been written to update `traffic_incident.csv` with the latest traffic incidents.  \n",
    "   - Over time, as the dataset grows, we hope this feature will become useful.  \n",
    "\n",
    "4. **Number of Taxi Stands in the Area**  \n",
    "   - Currently **not useful** because our area of interest is fixed.  \n",
    "   - However, if we allow dynamic selection of areas in the future, this could become relevant.  \n",
    "\n",
    "5. **Temperature at a Given Time and Date** *(To be implemented)*  \n",
    "\n",
    "6. **Rainfall Data** *(To be implemented)*  \n",
    "\n",
    "To ensure all features align properly, we will **synchronize all datasets based on DateTime** before feeding them into the model.  \n",
    "\n",
    "---\n",
    "\n",
    "## **Step 3: Creating the Training-Test Split**  \n",
    "- Initially, we will perform an **80/20 Training-Test split** for simplicity.  \n",
    "- In the future, we may introduce a **Training-Validation-Test split** to further refine model performance.  \n",
    "\n",
    "---\n",
    "\n",
    "## **Step 4: Building the Model**  \n",
    "We will begin with an **LSTM model**, as LSTMs are well-suited for time-series forecasting.  \n",
    "- **Initial Limitation:** The model, in its basic form, will only predict the next hour.  \n",
    "- **Future Improvement:** A **sliding window approach** will be explored and implemented to extend predictions further.  \n",
    "\n",
    "---\n",
    "\n",
    "## **Step 5: Model Evaluation and Improvement**  \n",
    "- After the initial model is trained, we will assess its performance.  \n",
    "- Based on results, we will explore potential improvements, such as hyperparameter tuning, architectural modifications, or additional feature engineering.  \n",
    "\n",
    "---\n",
    "\n",
    "This structured approach will guide the development of a robust and accurate taxi availability prediction model. 🚖💡\n"
   ]
  },
  {
   "cell_type": "markdown",
   "metadata": {},
   "source": [
    "## **Preparing the taxi_availability data here.**\n",
    "\n",
    "Normalization of certain inputs are done as well, but I am unsure if it is the right thing to do as well."
   ]
  },
  {
   "cell_type": "code",
   "execution_count": 3,
   "metadata": {},
   "outputs": [
    {
     "name": "stdout",
     "output_type": "stream",
     "text": [
      "<bound method NDFrame.head of        Taxi Available throughout SG  temp_value  humidity_value  \\\n",
      "0                              1924        27.1            84.1   \n",
      "1                              2259        27.3            82.5   \n",
      "2                              2400        27.4            81.2   \n",
      "3                              2677        27.5            81.9   \n",
      "4                              2437        27.7            78.0   \n",
      "...                             ...         ...             ...   \n",
      "25586                          1962        27.0            82.9   \n",
      "25587                          2025        27.3            81.7   \n",
      "25588                          2144        27.4            82.2   \n",
      "25589                          2447        27.3            82.9   \n",
      "25590                          2615        27.6            82.3   \n",
      "\n",
      "       rainfall_value  peak_period  Average Taxi Availability  IsWeekend  Hour  \n",
      "0                 0.0            1                 102.416667          0    24  \n",
      "1                 0.0            1                  91.166667          0    23  \n",
      "2                 0.0            1                 100.666667          0    22  \n",
      "3                 0.0            1                  99.916667          0    21  \n",
      "4                 0.0            1                  85.250000          0    20  \n",
      "...               ...          ...                        ...        ...   ...  \n",
      "25586             0.0            0                 101.000000          0     5  \n",
      "25587             0.0            0                 109.500000          0     4  \n",
      "25588             0.0            0                 115.583333          0     3  \n",
      "25589             0.0            0                 121.833333          0     2  \n",
      "25590             0.0            0                 107.583333          0     1  \n",
      "\n",
      "[25591 rows x 8 columns]>\n"
     ]
    }
   ],
   "source": [
    "# taxi_availability_file_path = \"taxi_availability.csv\"\n",
    "\n",
    "# taxi_df = pd.read_csv(taxi_availability_file_path, delimiter=\",\")\n",
    "\n",
    "merged_weather_taxi_df = \"merged_file_with_mean.csv\"\n",
    "taxi_df = pd.read_csv(merged_weather_taxi_df, delimiter = \",\")\n",
    "\n",
    "#Adjusting for weather parameters\n",
    "taxi_df = taxi_df.drop(columns = \"stationId\")\n",
    "\n",
    "#Adjusting for taxi_vailability parameters\n",
    "taxi_df_coordinates = taxi_df[\"Coordinates[]\"]\n",
    "taxt_df_datetime = taxi_df[\"DateTime\"]\n",
    "taxi_df = taxi_df.drop(columns = \"Coordinates[]\")\n",
    "taxi_df[\"DateTime\"] = pd.to_datetime(taxi_df[\"DateTime\"])\n",
    "taxi_df = taxi_df.drop(columns = \"Taxi Available in Selected Box Area\")\n",
    "\n",
    "taxi_df[\"IsWeekend\"] = (taxi_df[\"DateTime\"].dt.weekday >= 5).astype(int)\n",
    "taxi_df[\"Hour\"] = taxi_df[\"DateTime\"].dt.hour + 1  # Convert 0-23 to 1-24\n",
    "taxi_df = taxi_df.drop(columns = \"DateTime\")\n",
    "\n",
    "# print(taxi_df.dtypes)\n",
    "print(taxi_df.head)"
   ]
  },
  {
   "cell_type": "markdown",
   "metadata": {},
   "source": [
    "### Converting all dtypes into float32"
   ]
  },
  {
   "cell_type": "code",
   "execution_count": 4,
   "metadata": {},
   "outputs": [
    {
     "name": "stdout",
     "output_type": "stream",
     "text": [
      "numeric_columns Index(['Taxi Available throughout SG', 'temp_value', 'humidity_value',\n",
      "       'rainfall_value', 'peak_period', 'Average Taxi Availability',\n",
      "       'IsWeekend', 'Hour'],\n",
      "      dtype='object')\n"
     ]
    }
   ],
   "source": [
    "# taxi_df=taxi_df[:5120]\n",
    "numeric_columns = taxi_df.select_dtypes(include=['int64', 'int32','float64','object']).columns\n",
    "print(\"numeric_columns\",numeric_columns)\n",
    "taxi_df[numeric_columns] = taxi_df[numeric_columns].astype('float32')\n",
    "numeric_columns = taxi_df.select_dtypes(include=['int64', 'int32','float64','object']).columns\n",
    "\n",
    "# Convert selected columns to float32\n",
    "taxi_df[numeric_columns] = taxi_df[numeric_columns].astype('float32')"
   ]
  },
  {
   "cell_type": "markdown",
   "metadata": {},
   "source": [
    "### Normalizing all values"
   ]
  },
  {
   "cell_type": "code",
   "execution_count": 5,
   "metadata": {},
   "outputs": [
    {
     "name": "stdout",
     "output_type": "stream",
     "text": [
      "Input Data:  (25591, 7)\n",
      "Output Data:  (25591,)\n"
     ]
    }
   ],
   "source": [
    "#---------------Normalise-----------------------\n",
    "data_min = taxi_df.min(axis=0)\n",
    "data_max = taxi_df.max(axis=0)\n",
    "taxi_df_normalized = (taxi_df - data_min) / (data_max - data_min)\n",
    "\n",
    "\n",
    "taxi_df_output_normalized  = taxi_df_normalized[\"Average Taxi Availability\"]\n",
    "taxi_df_normalized = taxi_df_normalized.drop(columns = \"Average Taxi Availability\")\n",
    "taxi_df_normalized.to_csv(\"normalized_data.csv\", index=False)  # Set index=False to exclude row numbers\n",
    "\n",
    "# Convert to NumPy arrays\n",
    "input_data = taxi_df_normalized.values  # Shape: (5120, num_features)\n",
    "output_data = taxi_df_output_normalized.values  # Shape: (5120,)\n",
    "\n",
    "print(\"Input Data: \",input_data.shape)\n",
    "print(\"Output Data: \",output_data.shape)\n"
   ]
  },
  {
   "cell_type": "markdown",
   "metadata": {},
   "source": [
    "### No Normalization Style"
   ]
  },
  {
   "cell_type": "code",
   "execution_count": 6,
   "metadata": {},
   "outputs": [],
   "source": [
    "# #---------------No Normalization-----------------------\n",
    "\n",
    "# # Drop 'DateTime' as it's no longer needed\n",
    "# taxi_df_no_norm = taxi_df  # Remove DateTime but keep raw values\n",
    "\n",
    "# # Separate input and output data\n",
    "# taxi_df_output_no_norm = taxi_df_no_norm[\"Taxi Available in Selected Box Area\"]\n",
    "# taxi_df_no_norm = taxi_df_no_norm.drop(columns=[\"Taxi Available in Selected Box Area\"])\n",
    "\n",
    "# # Save to CSV for checking\n",
    "# taxi_df_no_norm.to_csv(\"checker_no_norm.csv\", index=False)  # Set index=False to exclude row numbers\n",
    "\n",
    "# # Convert to NumPy arrays (raw values)\n",
    "# input_data = taxi_df_no_norm.values  # Shape: (5120, num_features)\n",
    "# output_data = taxi_df_output_no_norm.values  # Shape: (5120,)\n",
    "\n",
    "# print(\"Input Data: \", input_data.shape)\n",
    "# print(\"Input Data: \", input_data[0])\n",
    "\n",
    "# print(\"Output Data: \", output_data.shape)\n",
    "# print(\"Input Data: \", output_data[0])\n"
   ]
  },
  {
   "cell_type": "markdown",
   "metadata": {},
   "source": [
    "### Create Sequence Function"
   ]
  },
  {
   "cell_type": "code",
   "execution_count": 7,
   "metadata": {},
   "outputs": [],
   "source": [
    "seq_length = 24\n",
    "pred_horizon = 3  # Number of future time steps to predict\n",
    "\n",
    "def create_sequences(data, labels, seq_length, pred_horizon):\n",
    "    xs, ys = [], []\n",
    "    for i in range(0, len(data), seq_length):  # Start from 0 and increment by seq_length\n",
    "        if i + seq_length + pred_horizon <= len(data):  # Ensure enough data for prediction horizon\n",
    "            xs.append(data[i:i + seq_length])  # Input sequence (continuous)\n",
    "            ys.append(labels[i + seq_length : i + seq_length + pred_horizon])  # Next 3 values\n",
    "    return np.array(xs), np.array(ys)\n"
   ]
  },
  {
   "cell_type": "code",
   "execution_count": 8,
   "metadata": {},
   "outputs": [
    {
     "name": "stdout",
     "output_type": "stream",
     "text": [
      "Inputs: torch.Size([17, 24, 7]), Targets: torch.Size([17, 3, 1])\n"
     ]
    }
   ],
   "source": [
    "\n",
    "# X, y = create_sequences(input_data, output_data, seq_length,pred_horizon)\n",
    "X, y = create_sequences(input_data, output_data, seq_length,pred_horizon)\n",
    "\n",
    "# Convert to PyTorch tensors\n",
    "X = torch.tensor(X, dtype=torch.float32)\n",
    "y = torch.tensor(y[:, None], dtype=torch.float32)\n",
    "y = y.permute(0, 2, 1)  # Shape: (samples, pred_horizon, 1)\n",
    "\n",
    "# Split sizes\n",
    "total_samples = len(X)\n",
    "train_size = int(0.8 * total_samples)\n",
    "val_size = int(0.1 * total_samples)\n",
    "test_size = total_samples - train_size - val_size\n",
    "\n",
    "# Split the data\n",
    "trainX, valX, testX = X[:train_size], X[train_size:train_size+val_size], X[train_size+val_size:]\n",
    "trainY, valY, testY = y[:train_size], y[train_size:train_size+val_size], y[train_size+val_size:]\n",
    "\n",
    "# Create TensorDatasets\n",
    "train_dataset = TensorDataset(trainX, trainY)\n",
    "val_dataset = TensorDataset(valX, valY)\n",
    "test_dataset = TensorDataset(testX, testY)\n",
    "\n",
    "# DataLoaders\n",
    "batch_size = 17\n",
    "train_loader = DataLoader(train_dataset, batch_size=batch_size, shuffle=True, drop_last=True)\n",
    "val_loader = DataLoader(val_dataset, batch_size=batch_size, shuffle=True, drop_last=True)\n",
    "test_loader = DataLoader(test_dataset, batch_size=batch_size, shuffle=True, drop_last=True)\n",
    "\n",
    "# Example of accessing a batch of data\n",
    "for inputs, targets in train_loader:\n",
    "    print(f'Inputs: {inputs.shape}, Targets: {targets.shape}')\n",
    "    break  # Only print the first batch for verification"
   ]
  },
  {
   "cell_type": "code",
   "execution_count": 9,
   "metadata": {},
   "outputs": [
    {
     "name": "stdout",
     "output_type": "stream",
     "text": [
      "test_loader 6\n"
     ]
    }
   ],
   "source": [
    "print(\"test_loader\",len(test_loader))"
   ]
  },
  {
   "cell_type": "code",
   "execution_count": 10,
   "metadata": {},
   "outputs": [],
   "source": [
    "class BiLSTM_pt(torch.nn.Module):\n",
    "    def __init__(self, input_dim, hidden_dim, layer_dim, output_dim):\n",
    "        super(BiLSTM_pt, self).__init__()\n",
    "        self.hidden_dim = hidden_dim\n",
    "        self.layer_dim = layer_dim\n",
    "        self.num_directions = 2  # Since it's bidirectional\n",
    "        \n",
    "        # LSTM layer\n",
    "        self.lstm = torch.nn.LSTM(input_dim, hidden_dim, layer_dim, batch_first=True, bidirectional=True)\n",
    "\n",
    "        # Fully connected layer\n",
    "        self.fc = torch.nn.Linear(hidden_dim * 2, output_dim)  # Fix here\n",
    "\n",
    "    def forward(self, x, h0=None, c0=None):\n",
    "        if h0 is None or c0 is None:\n",
    "            h0 = torch.randn(self.layer_dim * self.num_directions, x.size(0), self.hidden_dim).to(x.device)\n",
    "            c0 = torch.randn(self.layer_dim * self.num_directions, x.size(0), self.hidden_dim).to(x.device)\n",
    "\n",
    "        # LSTM forward pass\n",
    "        out, (hn, cn) = self.lstm(x, (h0, c0))\n",
    "\n",
    "        # Pass only the last timestep's output to the FC layer\n",
    "        out = self.fc(out[:, -1, :])  \n",
    "\n",
    "        return out, hn, cn\n"
   ]
  },
  {
   "cell_type": "code",
   "execution_count": 55,
   "metadata": {},
   "outputs": [],
   "source": [
    "def train(model, dataloader, val_loader, num_epochs, learning_rate):\n",
    "    # Set the loss function and optimizer\n",
    "    criterion = torch.nn.MSELoss()\n",
    "    optimizer = torch.optim.Adam(model.parameters(), lr=learning_rate)\n",
    "    model.train()  # Set the model to training mode\n",
    "    loss_graph = []\n",
    "    val_graph = []\n",
    "    \n",
    "    for epoch in range(num_epochs):\n",
    "        epoch_loss = 0.0\n",
    "\n",
    "        hidden_state, cell_state = None, None  # Reset for each epoch\n",
    "\n",
    "        for batch_idx, (inputs, targets) in enumerate(dataloader):\n",
    "            inputs, targets = inputs.to(device), targets.to(device)\n",
    "\n",
    "            optimizer.zero_grad()\n",
    "\n",
    "            output, hidden_state, cell_state = model(inputs, hidden_state, cell_state)\n",
    "            output = output.unsqueeze(-1)\n",
    "            output = output.permute(0, 2, 1)\n",
    "\n",
    "            # Compute loss\n",
    "            loss = criterion(output, targets)\n",
    "            loss.backward()\n",
    "            optimizer.step()\n",
    "\n",
    "            hidden_state = hidden_state.detach()\n",
    "            cell_state = cell_state.detach()\n",
    "\n",
    "            epoch_loss += loss.item()\n",
    "\n",
    "        avg_loss = epoch_loss / len(dataloader)\n",
    "        loss_graph.append(avg_loss)\n",
    "\n",
    "        # Validation step (optional)\n",
    "        model.eval()\n",
    "        val_loss = 0.0\n",
    "        with torch.no_grad():\n",
    "            for val_inputs, val_targets in val_loader:\n",
    "                val_inputs, val_targets = val_inputs.to(device), val_targets.to(device)\n",
    "\n",
    "                val_output, _, _ = model(val_inputs, hidden_state, cell_state)\n",
    "                val_output = val_output.unsqueeze(-1)\n",
    "                val_output = val_output.permute(0, 2, 1)\n",
    "\n",
    "                # Compute validation loss\n",
    "                v_loss = criterion(val_output, val_targets)\n",
    "                val_loss += v_loss.item()\n",
    "        avg_val_loss = v_loss / len(dataloader)\n",
    "        val_graph.append(avg_val_loss)\n",
    "        model.train()\n",
    "        \n",
    "        if epoch % 50 == 0 or epoch == num_epochs - 1:\n",
    "            print(f'Epoch {epoch+1}/{num_epochs}, Loss: {avg_loss:.6f}, Validation Loss: {avg_val_loss:.6f}')\n",
    "            # Save model after every epoch\n",
    "            save_path = os.path.join(f'./bi_LSTM/bi_LSTM{epoch+1}_loss_{avg_loss:.6f}.pth')\n",
    "            torch.save(model.state_dict(), save_path)\n",
    "\n",
    "    return loss_graph, val_graph"
   ]
  },
  {
   "cell_type": "code",
   "execution_count": 56,
   "metadata": {},
   "outputs": [
    {
     "name": "stdout",
     "output_type": "stream",
     "text": [
      "Epoch 1/1000, Loss: 0.015474, Validation Loss: 0.000313\n",
      "Epoch 51/1000, Loss: 0.004468, Validation Loss: 0.000132\n",
      "Epoch 101/1000, Loss: 0.003814, Validation Loss: 0.000193\n",
      "Epoch 151/1000, Loss: 0.002647, Validation Loss: 0.000107\n",
      "Epoch 201/1000, Loss: 0.002149, Validation Loss: 0.000215\n",
      "Epoch 251/1000, Loss: 0.001719, Validation Loss: 0.000244\n"
     ]
    },
    {
     "ename": "KeyboardInterrupt",
     "evalue": "",
     "output_type": "error",
     "traceback": [
      "\u001b[0;31m---------------------------------------------------------------------------\u001b[0m",
      "\u001b[0;31mKeyboardInterrupt\u001b[0m                         Traceback (most recent call last)",
      "Cell \u001b[0;32mIn[56], line 14\u001b[0m\n\u001b[1;32m     12\u001b[0m \u001b[38;5;66;03m#Create the model\u001b[39;00m\n\u001b[1;32m     13\u001b[0m model \u001b[38;5;241m=\u001b[39m BiLSTM_pt(input_size, hidden_size, num_layers, output_size)\u001b[38;5;241m.\u001b[39mto(device)\n\u001b[0;32m---> 14\u001b[0m loss_graph, val_graph \u001b[38;5;241m=\u001b[39m \u001b[43mtrain\u001b[49m\u001b[43m(\u001b[49m\u001b[43mdataloader\u001b[49m\u001b[43m \u001b[49m\u001b[38;5;241;43m=\u001b[39;49m\u001b[43m \u001b[49m\u001b[43mdataloader\u001b[49m\u001b[43m,\u001b[49m\u001b[43m \u001b[49m\u001b[43mval_loader\u001b[49m\u001b[38;5;241;43m=\u001b[39;49m\u001b[43mval_loader\u001b[49m\u001b[43m,\u001b[49m\u001b[43m \u001b[49m\u001b[43mmodel\u001b[49m\u001b[43m \u001b[49m\u001b[38;5;241;43m=\u001b[39;49m\u001b[43m \u001b[49m\u001b[43mmodel\u001b[49m\u001b[43m,\u001b[49m\u001b[43m \u001b[49m\u001b[43mnum_epochs\u001b[49m\u001b[43m \u001b[49m\u001b[38;5;241;43m=\u001b[39;49m\u001b[43m \u001b[49m\u001b[43mnum_epochs\u001b[49m\u001b[43m,\u001b[49m\u001b[43m \u001b[49m\u001b[43mlearning_rate\u001b[49m\u001b[43m \u001b[49m\u001b[38;5;241;43m=\u001b[39;49m\u001b[43m \u001b[49m\u001b[43mlearning_rate\u001b[49m\u001b[43m)\u001b[49m\n\u001b[1;32m     16\u001b[0m \u001b[38;5;66;03m# Plot the loss graph\u001b[39;00m\n\u001b[1;32m     17\u001b[0m plt\u001b[38;5;241m.\u001b[39mplot(loss_graph)\n",
      "Cell \u001b[0;32mIn[55], line 25\u001b[0m, in \u001b[0;36mtrain\u001b[0;34m(model, dataloader, val_loader, num_epochs, learning_rate)\u001b[0m\n\u001b[1;32m     23\u001b[0m \u001b[38;5;66;03m# Compute loss\u001b[39;00m\n\u001b[1;32m     24\u001b[0m loss \u001b[38;5;241m=\u001b[39m criterion(output, targets)\n\u001b[0;32m---> 25\u001b[0m \u001b[43mloss\u001b[49m\u001b[38;5;241;43m.\u001b[39;49m\u001b[43mbackward\u001b[49m\u001b[43m(\u001b[49m\u001b[43m)\u001b[49m\n\u001b[1;32m     26\u001b[0m optimizer\u001b[38;5;241m.\u001b[39mstep()\n\u001b[1;32m     28\u001b[0m hidden_state \u001b[38;5;241m=\u001b[39m hidden_state\u001b[38;5;241m.\u001b[39mdetach()\n",
      "File \u001b[0;32m/opt/conda/lib/python3.11/site-packages/torch/_tensor.py:492\u001b[0m, in \u001b[0;36mTensor.backward\u001b[0;34m(self, gradient, retain_graph, create_graph, inputs)\u001b[0m\n\u001b[1;32m    482\u001b[0m \u001b[38;5;28;01mif\u001b[39;00m has_torch_function_unary(\u001b[38;5;28mself\u001b[39m):\n\u001b[1;32m    483\u001b[0m     \u001b[38;5;28;01mreturn\u001b[39;00m handle_torch_function(\n\u001b[1;32m    484\u001b[0m         Tensor\u001b[38;5;241m.\u001b[39mbackward,\n\u001b[1;32m    485\u001b[0m         (\u001b[38;5;28mself\u001b[39m,),\n\u001b[0;32m   (...)\u001b[0m\n\u001b[1;32m    490\u001b[0m         inputs\u001b[38;5;241m=\u001b[39minputs,\n\u001b[1;32m    491\u001b[0m     )\n\u001b[0;32m--> 492\u001b[0m \u001b[43mtorch\u001b[49m\u001b[38;5;241;43m.\u001b[39;49m\u001b[43mautograd\u001b[49m\u001b[38;5;241;43m.\u001b[39;49m\u001b[43mbackward\u001b[49m\u001b[43m(\u001b[49m\n\u001b[1;32m    493\u001b[0m \u001b[43m    \u001b[49m\u001b[38;5;28;43mself\u001b[39;49m\u001b[43m,\u001b[49m\u001b[43m \u001b[49m\u001b[43mgradient\u001b[49m\u001b[43m,\u001b[49m\u001b[43m \u001b[49m\u001b[43mretain_graph\u001b[49m\u001b[43m,\u001b[49m\u001b[43m \u001b[49m\u001b[43mcreate_graph\u001b[49m\u001b[43m,\u001b[49m\u001b[43m \u001b[49m\u001b[43minputs\u001b[49m\u001b[38;5;241;43m=\u001b[39;49m\u001b[43minputs\u001b[49m\n\u001b[1;32m    494\u001b[0m \u001b[43m\u001b[49m\u001b[43m)\u001b[49m\n",
      "File \u001b[0;32m/opt/conda/lib/python3.11/site-packages/torch/autograd/__init__.py:244\u001b[0m, in \u001b[0;36mbackward\u001b[0;34m(tensors, grad_tensors, retain_graph, create_graph, grad_variables, inputs)\u001b[0m\n\u001b[1;32m    235\u001b[0m inputs \u001b[38;5;241m=\u001b[39m (\n\u001b[1;32m    236\u001b[0m     (inputs,)\n\u001b[1;32m    237\u001b[0m     \u001b[38;5;28;01mif\u001b[39;00m \u001b[38;5;28misinstance\u001b[39m(inputs, torch\u001b[38;5;241m.\u001b[39mTensor)\n\u001b[0;32m   (...)\u001b[0m\n\u001b[1;32m    240\u001b[0m     \u001b[38;5;28;01melse\u001b[39;00m \u001b[38;5;28mtuple\u001b[39m()\n\u001b[1;32m    241\u001b[0m )\n\u001b[1;32m    243\u001b[0m grad_tensors_ \u001b[38;5;241m=\u001b[39m _tensor_or_tensors_to_tuple(grad_tensors, \u001b[38;5;28mlen\u001b[39m(tensors))\n\u001b[0;32m--> 244\u001b[0m grad_tensors_ \u001b[38;5;241m=\u001b[39m \u001b[43m_make_grads\u001b[49m\u001b[43m(\u001b[49m\u001b[43mtensors\u001b[49m\u001b[43m,\u001b[49m\u001b[43m \u001b[49m\u001b[43mgrad_tensors_\u001b[49m\u001b[43m,\u001b[49m\u001b[43m \u001b[49m\u001b[43mis_grads_batched\u001b[49m\u001b[38;5;241;43m=\u001b[39;49m\u001b[38;5;28;43;01mFalse\u001b[39;49;00m\u001b[43m)\u001b[49m\n\u001b[1;32m    245\u001b[0m \u001b[38;5;28;01mif\u001b[39;00m retain_graph \u001b[38;5;129;01mis\u001b[39;00m \u001b[38;5;28;01mNone\u001b[39;00m:\n\u001b[1;32m    246\u001b[0m     retain_graph \u001b[38;5;241m=\u001b[39m create_graph\n",
      "File \u001b[0;32m/opt/conda/lib/python3.11/site-packages/torch/autograd/__init__.py:127\u001b[0m, in \u001b[0;36m_make_grads\u001b[0;34m(outputs, grads, is_grads_batched)\u001b[0m\n\u001b[1;32m    121\u001b[0m         msg \u001b[38;5;241m=\u001b[39m (\n\u001b[1;32m    122\u001b[0m             \u001b[38;5;124m\"\u001b[39m\u001b[38;5;124mgrad can be implicitly created only for real scalar outputs\u001b[39m\u001b[38;5;124m\"\u001b[39m\n\u001b[1;32m    123\u001b[0m             \u001b[38;5;124mf\u001b[39m\u001b[38;5;124m\"\u001b[39m\u001b[38;5;124m but got \u001b[39m\u001b[38;5;132;01m{\u001b[39;00mout\u001b[38;5;241m.\u001b[39mdtype\u001b[38;5;132;01m}\u001b[39;00m\u001b[38;5;124m\"\u001b[39m\n\u001b[1;32m    124\u001b[0m         )\n\u001b[1;32m    125\u001b[0m         \u001b[38;5;28;01mraise\u001b[39;00m \u001b[38;5;167;01mRuntimeError\u001b[39;00m(msg)\n\u001b[1;32m    126\u001b[0m     new_grads\u001b[38;5;241m.\u001b[39mappend(\n\u001b[0;32m--> 127\u001b[0m         \u001b[43mtorch\u001b[49m\u001b[38;5;241;43m.\u001b[39;49m\u001b[43mones_like\u001b[49m\u001b[43m(\u001b[49m\u001b[43mout\u001b[49m\u001b[43m,\u001b[49m\u001b[43m \u001b[49m\u001b[43mmemory_format\u001b[49m\u001b[38;5;241;43m=\u001b[39;49m\u001b[43mtorch\u001b[49m\u001b[38;5;241;43m.\u001b[39;49m\u001b[43mpreserve_format\u001b[49m\u001b[43m)\u001b[49m\n\u001b[1;32m    128\u001b[0m     )\n\u001b[1;32m    129\u001b[0m \u001b[38;5;28;01melse\u001b[39;00m:\n\u001b[1;32m    130\u001b[0m     new_grads\u001b[38;5;241m.\u001b[39mappend(\u001b[38;5;28;01mNone\u001b[39;00m)\n",
      "\u001b[0;31mKeyboardInterrupt\u001b[0m: "
     ]
    }
   ],
   "source": [
    "import os\n",
    "# Define the model parameters\n",
    "# Following the research paper's instructions\n",
    "input_size = 7\n",
    "hidden_size = 256\n",
    "num_layers = 2 # Can be changed to stack multiple LSTM layers!\n",
    "output_size = 3\n",
    "num_epochs = 1000\n",
    "dataloader = train_loader\n",
    "learning_rate = 1e-3\n",
    "\n",
    "#Create the model\n",
    "model = BiLSTM_pt(input_size, hidden_size, num_layers, output_size).to(device)\n",
    "loss_graph, val_graph = train(dataloader = dataloader, val_loader=val_loader, model = model, num_epochs = num_epochs, learning_rate = learning_rate)\n",
    "\n",
    "# Plot the loss graph\n",
    "plt.plot(loss_graph)\n",
    "plt.plot(val_graph)\n",
    "plt.legend(['Training Loss', 'Validation Loss'])\n",
    "plt.title(\"Loss Graph\")\n",
    "plt.xlabel(\"Epochs\")\n",
    "plt.ylabel(\"Loss\")"
   ]
  },
  {
   "cell_type": "code",
   "execution_count": 46,
   "metadata": {},
   "outputs": [],
   "source": [
    "# Saving the final model\n",
    "import os\n",
    "\n",
    "# Create the 'models' directory if it doesn't exist\n",
    "os.makedirs('./final_models', exist_ok=True)\n",
    "torch.save(model.state_dict(), './final_mod els/Bi_LSTM.pth')"
   ]
  },
  {
   "cell_type": "markdown",
   "metadata": {},
   "source": [
    "### This will be to set up the Sweep"
   ]
  },
  {
   "cell_type": "code",
   "execution_count": null,
   "metadata": {},
   "outputs": [],
   "source": [
    "sweep_config = {\n",
    "    \"method\": \"bayes\",\n",
    "    \"metric\": {\n",
    "        \"name\": \"loss\",\n",
    "        \"goal\": \"minimize\"\n",
    "    },\n",
    "    \"parameters\": {\n",
    "        \"learning_rate\": {\n",
    "            \"min\": 1e-3,\n",
    "            \"max\": 0.01\n",
    "        },\n",
    "        \"hidden_size\": {\n",
    "            \"values\": [64, 128, 256]\n",
    "        },\n",
    "        \"num_layers\": {\n",
    "            \"values\": [1, 2, 3]\n",
    "        },\n",
    "        \"num_epochs\": {\n",
    "            \"values\": [300, 500, 1000]\n",
    "        }\n",
    "    }\n",
    "}"
   ]
  },
  {
   "cell_type": "code",
   "execution_count": 26,
   "metadata": {},
   "outputs": [],
   "source": [
    "def sweep_train():\n",
    "    config_defaults = {\n",
    "        \"learning_rate\": 0.01,\n",
    "        \"num_epochs\": 300,\n",
    "        \"hidden_size\": 50,\n",
    "        \"num_layers\": 2\n",
    "    }\n",
    "\n",
    "    # Initialize wandb\n",
    "    wandb.init(config=config_defaults)\n",
    "    config = wandb.config\n",
    "    model = BiLSTM_pt(6, config.hidden_size, config.num_layers, 3).to(device)\n",
    "\n",
    "    # Same training as above\n",
    "    criterion = torch.nn.MSELoss()\n",
    "    optimizer = torch.optim.Adam(model.parameters(), lr=config.learning_rate)\n",
    "    model.train()\n",
    "    loss_graph = []\n",
    "\n",
    "    for epoch in range(config.num_epochs):\n",
    "        epoch_loss = 0.0\n",
    "        hidden_state, cell_state = None, None\n",
    "\n",
    "        for batch_idx, (inputs, targets) in enumerate(train_loader):\n",
    "            inputs, targets = inputs.to(device), targets.to(device)\n",
    "\n",
    "            optimizer.zero_grad()\n",
    "            output, hidden_state, cell_state = model(inputs, hidden_state, cell_state)\n",
    "            output = output.unsqueeze(-1).permute(0, 2, 1)\n",
    "\n",
    "            loss = criterion(output, targets)\n",
    "            loss.backward()\n",
    "            optimizer.step()\n",
    "\n",
    "            hidden_state = hidden_state.detach()\n",
    "            cell_state = cell_state.detach()\n",
    "\n",
    "            epoch_loss += loss.item()\n",
    "\n",
    "        avg_loss = epoch_loss / len(train_loader)\n",
    "        loss_graph.append(avg_loss)\n",
    "\n",
    "        # Log to wandb\n",
    "        wandb.log({\"epoch\": epoch, \"loss\": avg_loss})\n",
    "\n",
    "        if epoch % 50 == 0 or epoch == config.num_epochs - 1:\n",
    "            print(f\"Epoch {epoch+1}/{config.num_epochs}, Loss: {avg_loss:.6f}\")"
   ]
  },
  {
   "cell_type": "code",
   "execution_count": 27,
   "metadata": {},
   "outputs": [
    {
     "name": "stdout",
     "output_type": "stream",
     "text": [
      "Create sweep with ID: fe6fgats\n",
      "Sweep URL: https://wandb.ai/darrenchanyuhao-singapore-university-of-technology-and-d/DeepLearning%20Project/sweeps/fe6fgats\n"
     ]
    },
    {
     "name": "stderr",
     "output_type": "stream",
     "text": [
      "\u001b[34m\u001b[1mwandb\u001b[0m: Agent Starting Run: oi1oz7u8 with config:\n",
      "\u001b[34m\u001b[1mwandb\u001b[0m: \thidden_size: 128\n",
      "\u001b[34m\u001b[1mwandb\u001b[0m: \tlearning_rate: 0.002730549256187793\n",
      "\u001b[34m\u001b[1mwandb\u001b[0m: \tnum_epochs: 500\n",
      "\u001b[34m\u001b[1mwandb\u001b[0m: \tnum_layers: 2\n"
     ]
    },
    {
     "name": "stdout",
     "output_type": "stream",
     "text": [
      "\u001b[1;34mwandb\u001b[0m: \n",
      "\u001b[1;34mwandb\u001b[0m: 🚀 View run \u001b[33mscarlet-sweep-5\u001b[0m at: \u001b[34mhttps://wandb.ai/darrenchanyuhao-singapore-university-of-technology-and-d/DeepLearning%20Project/runs/nz3wi9d8\u001b[0m\n",
      "\u001b[1;34mwandb\u001b[0m: Find logs at: \u001b[1;35mwandb/run-20250414_183820-nz3wi9d8/logs\u001b[0m\n"
     ]
    },
    {
     "data": {
      "text/html": [
       "Tracking run with wandb version 0.19.9"
      ],
      "text/plain": [
       "<IPython.core.display.HTML object>"
      ]
     },
     "metadata": {},
     "output_type": "display_data"
    },
    {
     "data": {
      "text/html": [
       "Run data is saved locally in <code>/home/jovyan/DL_Project/wandb/run-20250414_184016-oi1oz7u8</code>"
      ],
      "text/plain": [
       "<IPython.core.display.HTML object>"
      ]
     },
     "metadata": {},
     "output_type": "display_data"
    },
    {
     "data": {
      "text/html": [
       "Syncing run <strong><a href='https://wandb.ai/darrenchanyuhao-singapore-university-of-technology-and-d/DeepLearning%20Project/runs/oi1oz7u8' target=\"_blank\">rose-sweep-1</a></strong> to <a href='https://wandb.ai/darrenchanyuhao-singapore-university-of-technology-and-d/DeepLearning%20Project' target=\"_blank\">Weights & Biases</a> (<a href='https://wandb.me/developer-guide' target=\"_blank\">docs</a>)<br>Sweep page: <a href='https://wandb.ai/darrenchanyuhao-singapore-university-of-technology-and-d/DeepLearning%20Project/sweeps/fe6fgats' target=\"_blank\">https://wandb.ai/darrenchanyuhao-singapore-university-of-technology-and-d/DeepLearning%20Project/sweeps/fe6fgats</a>"
      ],
      "text/plain": [
       "<IPython.core.display.HTML object>"
      ]
     },
     "metadata": {},
     "output_type": "display_data"
    },
    {
     "data": {
      "text/html": [
       " View project at <a href='https://wandb.ai/darrenchanyuhao-singapore-university-of-technology-and-d/DeepLearning%20Project' target=\"_blank\">https://wandb.ai/darrenchanyuhao-singapore-university-of-technology-and-d/DeepLearning%20Project</a>"
      ],
      "text/plain": [
       "<IPython.core.display.HTML object>"
      ]
     },
     "metadata": {},
     "output_type": "display_data"
    },
    {
     "data": {
      "text/html": [
       " View sweep at <a href='https://wandb.ai/darrenchanyuhao-singapore-university-of-technology-and-d/DeepLearning%20Project/sweeps/fe6fgats' target=\"_blank\">https://wandb.ai/darrenchanyuhao-singapore-university-of-technology-and-d/DeepLearning%20Project/sweeps/fe6fgats</a>"
      ],
      "text/plain": [
       "<IPython.core.display.HTML object>"
      ]
     },
     "metadata": {},
     "output_type": "display_data"
    },
    {
     "data": {
      "text/html": [
       " View run at <a href='https://wandb.ai/darrenchanyuhao-singapore-university-of-technology-and-d/DeepLearning%20Project/runs/oi1oz7u8' target=\"_blank\">https://wandb.ai/darrenchanyuhao-singapore-university-of-technology-and-d/DeepLearning%20Project/runs/oi1oz7u8</a>"
      ],
      "text/plain": [
       "<IPython.core.display.HTML object>"
      ]
     },
     "metadata": {},
     "output_type": "display_data"
    },
    {
     "name": "stdout",
     "output_type": "stream",
     "text": [
      "Epoch 1/500, Loss: 0.022477\n",
      "Epoch 51/500, Loss: 0.006083\n",
      "Epoch 101/500, Loss: 0.003258\n",
      "Epoch 151/500, Loss: 0.001554\n",
      "Epoch 201/500, Loss: 0.001047\n",
      "Epoch 251/500, Loss: 0.000739\n",
      "Epoch 301/500, Loss: 0.000480\n",
      "Epoch 351/500, Loss: 0.000347\n",
      "Epoch 401/500, Loss: 0.000295\n",
      "Epoch 451/500, Loss: 0.000437\n",
      "Epoch 500/500, Loss: 0.000321\n"
     ]
    },
    {
     "data": {
      "text/html": [],
      "text/plain": [
       "<IPython.core.display.HTML object>"
      ]
     },
     "metadata": {},
     "output_type": "display_data"
    },
    {
     "data": {
      "text/html": [
       "<br>    <style><br>        .wandb-row {<br>            display: flex;<br>            flex-direction: row;<br>            flex-wrap: wrap;<br>            justify-content: flex-start;<br>            width: 100%;<br>        }<br>        .wandb-col {<br>            display: flex;<br>            flex-direction: column;<br>            flex-basis: 100%;<br>            flex: 1;<br>            padding: 10px;<br>        }<br>    </style><br><div class=\"wandb-row\"><div class=\"wandb-col\"><h3>Run history:</h3><br/><table class=\"wandb\"><tr><td>epoch</td><td>▁▁▁▁▂▂▂▂▂▃▃▄▄▄▄▄▄▄▄▅▅▅▅▅▅▆▆▆▆▆▆▇▇▇▇█████</td></tr><tr><td>loss</td><td>███▆▆▆▅▅▅▅▄▄▄▃▃▂▂▂▁▁▁▂▁▁▁▁▁▁▁▁▁▁▁▁▁▁▁▁▁▁</td></tr></table><br/></div><div class=\"wandb-col\"><h3>Run summary:</h3><br/><table class=\"wandb\"><tr><td>epoch</td><td>499</td></tr><tr><td>loss</td><td>0.00032</td></tr></table><br/></div></div>"
      ],
      "text/plain": [
       "<IPython.core.display.HTML object>"
      ]
     },
     "metadata": {},
     "output_type": "display_data"
    },
    {
     "data": {
      "text/html": [
       " View run <strong style=\"color:#cdcd00\">rose-sweep-1</strong> at: <a href='https://wandb.ai/darrenchanyuhao-singapore-university-of-technology-and-d/DeepLearning%20Project/runs/oi1oz7u8' target=\"_blank\">https://wandb.ai/darrenchanyuhao-singapore-university-of-technology-and-d/DeepLearning%20Project/runs/oi1oz7u8</a><br> View project at: <a href='https://wandb.ai/darrenchanyuhao-singapore-university-of-technology-and-d/DeepLearning%20Project' target=\"_blank\">https://wandb.ai/darrenchanyuhao-singapore-university-of-technology-and-d/DeepLearning%20Project</a><br>Synced 5 W&B file(s), 0 media file(s), 0 artifact file(s) and 0 other file(s)"
      ],
      "text/plain": [
       "<IPython.core.display.HTML object>"
      ]
     },
     "metadata": {},
     "output_type": "display_data"
    },
    {
     "data": {
      "text/html": [
       "Find logs at: <code>./wandb/run-20250414_184016-oi1oz7u8/logs</code>"
      ],
      "text/plain": [
       "<IPython.core.display.HTML object>"
      ]
     },
     "metadata": {},
     "output_type": "display_data"
    },
    {
     "name": "stderr",
     "output_type": "stream",
     "text": [
      "\u001b[34m\u001b[1mwandb\u001b[0m: Agent Starting Run: ejxiu4jd with config:\n",
      "\u001b[34m\u001b[1mwandb\u001b[0m: \thidden_size: 256\n",
      "\u001b[34m\u001b[1mwandb\u001b[0m: \tlearning_rate: 0.0024207902763121276\n",
      "\u001b[34m\u001b[1mwandb\u001b[0m: \tnum_epochs: 500\n",
      "\u001b[34m\u001b[1mwandb\u001b[0m: \tnum_layers: 3\n"
     ]
    },
    {
     "data": {
      "text/html": [
       "Tracking run with wandb version 0.19.9"
      ],
      "text/plain": [
       "<IPython.core.display.HTML object>"
      ]
     },
     "metadata": {},
     "output_type": "display_data"
    },
    {
     "data": {
      "text/html": [
       "Run data is saved locally in <code>/home/jovyan/DL_Project/wandb/run-20250414_184124-ejxiu4jd</code>"
      ],
      "text/plain": [
       "<IPython.core.display.HTML object>"
      ]
     },
     "metadata": {},
     "output_type": "display_data"
    },
    {
     "data": {
      "text/html": [
       "Syncing run <strong><a href='https://wandb.ai/darrenchanyuhao-singapore-university-of-technology-and-d/DeepLearning%20Project/runs/ejxiu4jd' target=\"_blank\">clear-sweep-2</a></strong> to <a href='https://wandb.ai/darrenchanyuhao-singapore-university-of-technology-and-d/DeepLearning%20Project' target=\"_blank\">Weights & Biases</a> (<a href='https://wandb.me/developer-guide' target=\"_blank\">docs</a>)<br>Sweep page: <a href='https://wandb.ai/darrenchanyuhao-singapore-university-of-technology-and-d/DeepLearning%20Project/sweeps/fe6fgats' target=\"_blank\">https://wandb.ai/darrenchanyuhao-singapore-university-of-technology-and-d/DeepLearning%20Project/sweeps/fe6fgats</a>"
      ],
      "text/plain": [
       "<IPython.core.display.HTML object>"
      ]
     },
     "metadata": {},
     "output_type": "display_data"
    },
    {
     "data": {
      "text/html": [
       " View project at <a href='https://wandb.ai/darrenchanyuhao-singapore-university-of-technology-and-d/DeepLearning%20Project' target=\"_blank\">https://wandb.ai/darrenchanyuhao-singapore-university-of-technology-and-d/DeepLearning%20Project</a>"
      ],
      "text/plain": [
       "<IPython.core.display.HTML object>"
      ]
     },
     "metadata": {},
     "output_type": "display_data"
    },
    {
     "data": {
      "text/html": [
       " View sweep at <a href='https://wandb.ai/darrenchanyuhao-singapore-university-of-technology-and-d/DeepLearning%20Project/sweeps/fe6fgats' target=\"_blank\">https://wandb.ai/darrenchanyuhao-singapore-university-of-technology-and-d/DeepLearning%20Project/sweeps/fe6fgats</a>"
      ],
      "text/plain": [
       "<IPython.core.display.HTML object>"
      ]
     },
     "metadata": {},
     "output_type": "display_data"
    },
    {
     "data": {
      "text/html": [
       " View run at <a href='https://wandb.ai/darrenchanyuhao-singapore-university-of-technology-and-d/DeepLearning%20Project/runs/ejxiu4jd' target=\"_blank\">https://wandb.ai/darrenchanyuhao-singapore-university-of-technology-and-d/DeepLearning%20Project/runs/ejxiu4jd</a>"
      ],
      "text/plain": [
       "<IPython.core.display.HTML object>"
      ]
     },
     "metadata": {},
     "output_type": "display_data"
    },
    {
     "name": "stdout",
     "output_type": "stream",
     "text": [
      "Epoch 1/500, Loss: 0.027981\n",
      "Epoch 51/500, Loss: 0.006172\n",
      "Epoch 101/500, Loss: 0.004013\n",
      "Epoch 151/500, Loss: 0.001187\n",
      "Epoch 201/500, Loss: 0.000444\n",
      "Epoch 251/500, Loss: 0.000284\n",
      "Epoch 301/500, Loss: 0.000257\n",
      "Epoch 351/500, Loss: 0.000353\n",
      "Epoch 401/500, Loss: 0.000170\n",
      "Epoch 451/500, Loss: 0.000456\n",
      "Epoch 500/500, Loss: 0.000160\n"
     ]
    },
    {
     "data": {
      "text/html": [],
      "text/plain": [
       "<IPython.core.display.HTML object>"
      ]
     },
     "metadata": {},
     "output_type": "display_data"
    },
    {
     "data": {
      "text/html": [
       "<br>    <style><br>        .wandb-row {<br>            display: flex;<br>            flex-direction: row;<br>            flex-wrap: wrap;<br>            justify-content: flex-start;<br>            width: 100%;<br>        }<br>        .wandb-col {<br>            display: flex;<br>            flex-direction: column;<br>            flex-basis: 100%;<br>            flex: 1;<br>            padding: 10px;<br>        }<br>    </style><br><div class=\"wandb-row\"><div class=\"wandb-col\"><h3>Run history:</h3><br/><table class=\"wandb\"><tr><td>epoch</td><td>▁▁▁▂▂▂▂▂▃▃▃▃▃▄▄▄▄▄▄▄▅▅▅▅▅▆▆▆▆▆▆▆▆▇▇▇▇███</td></tr><tr><td>loss</td><td>█▅▄▄▄▃▃▃▃▂▂▂▁▂▁▁▁▁▁▁▁▁▁▁▁▁▁▁▁▁▁▁▁▁▁▁▁▁▁▁</td></tr></table><br/></div><div class=\"wandb-col\"><h3>Run summary:</h3><br/><table class=\"wandb\"><tr><td>epoch</td><td>499</td></tr><tr><td>loss</td><td>0.00016</td></tr></table><br/></div></div>"
      ],
      "text/plain": [
       "<IPython.core.display.HTML object>"
      ]
     },
     "metadata": {},
     "output_type": "display_data"
    },
    {
     "data": {
      "text/html": [
       " View run <strong style=\"color:#cdcd00\">clear-sweep-2</strong> at: <a href='https://wandb.ai/darrenchanyuhao-singapore-university-of-technology-and-d/DeepLearning%20Project/runs/ejxiu4jd' target=\"_blank\">https://wandb.ai/darrenchanyuhao-singapore-university-of-technology-and-d/DeepLearning%20Project/runs/ejxiu4jd</a><br> View project at: <a href='https://wandb.ai/darrenchanyuhao-singapore-university-of-technology-and-d/DeepLearning%20Project' target=\"_blank\">https://wandb.ai/darrenchanyuhao-singapore-university-of-technology-and-d/DeepLearning%20Project</a><br>Synced 5 W&B file(s), 0 media file(s), 0 artifact file(s) and 0 other file(s)"
      ],
      "text/plain": [
       "<IPython.core.display.HTML object>"
      ]
     },
     "metadata": {},
     "output_type": "display_data"
    },
    {
     "data": {
      "text/html": [
       "Find logs at: <code>./wandb/run-20250414_184124-ejxiu4jd/logs</code>"
      ],
      "text/plain": [
       "<IPython.core.display.HTML object>"
      ]
     },
     "metadata": {},
     "output_type": "display_data"
    },
    {
     "name": "stderr",
     "output_type": "stream",
     "text": [
      "\u001b[34m\u001b[1mwandb\u001b[0m: Agent Starting Run: x91ft5fu with config:\n",
      "\u001b[34m\u001b[1mwandb\u001b[0m: \thidden_size: 128\n",
      "\u001b[34m\u001b[1mwandb\u001b[0m: \tlearning_rate: 0.0044657173680859915\n",
      "\u001b[34m\u001b[1mwandb\u001b[0m: \tnum_epochs: 500\n",
      "\u001b[34m\u001b[1mwandb\u001b[0m: \tnum_layers: 1\n"
     ]
    },
    {
     "data": {
      "text/html": [
       "Tracking run with wandb version 0.19.9"
      ],
      "text/plain": [
       "<IPython.core.display.HTML object>"
      ]
     },
     "metadata": {},
     "output_type": "display_data"
    },
    {
     "data": {
      "text/html": [
       "Run data is saved locally in <code>/home/jovyan/DL_Project/wandb/run-20250414_184551-x91ft5fu</code>"
      ],
      "text/plain": [
       "<IPython.core.display.HTML object>"
      ]
     },
     "metadata": {},
     "output_type": "display_data"
    },
    {
     "data": {
      "text/html": [
       "Syncing run <strong><a href='https://wandb.ai/darrenchanyuhao-singapore-university-of-technology-and-d/DeepLearning%20Project/runs/x91ft5fu' target=\"_blank\">deft-sweep-3</a></strong> to <a href='https://wandb.ai/darrenchanyuhao-singapore-university-of-technology-and-d/DeepLearning%20Project' target=\"_blank\">Weights & Biases</a> (<a href='https://wandb.me/developer-guide' target=\"_blank\">docs</a>)<br>Sweep page: <a href='https://wandb.ai/darrenchanyuhao-singapore-university-of-technology-and-d/DeepLearning%20Project/sweeps/fe6fgats' target=\"_blank\">https://wandb.ai/darrenchanyuhao-singapore-university-of-technology-and-d/DeepLearning%20Project/sweeps/fe6fgats</a>"
      ],
      "text/plain": [
       "<IPython.core.display.HTML object>"
      ]
     },
     "metadata": {},
     "output_type": "display_data"
    },
    {
     "data": {
      "text/html": [
       " View project at <a href='https://wandb.ai/darrenchanyuhao-singapore-university-of-technology-and-d/DeepLearning%20Project' target=\"_blank\">https://wandb.ai/darrenchanyuhao-singapore-university-of-technology-and-d/DeepLearning%20Project</a>"
      ],
      "text/plain": [
       "<IPython.core.display.HTML object>"
      ]
     },
     "metadata": {},
     "output_type": "display_data"
    },
    {
     "data": {
      "text/html": [
       " View sweep at <a href='https://wandb.ai/darrenchanyuhao-singapore-university-of-technology-and-d/DeepLearning%20Project/sweeps/fe6fgats' target=\"_blank\">https://wandb.ai/darrenchanyuhao-singapore-university-of-technology-and-d/DeepLearning%20Project/sweeps/fe6fgats</a>"
      ],
      "text/plain": [
       "<IPython.core.display.HTML object>"
      ]
     },
     "metadata": {},
     "output_type": "display_data"
    },
    {
     "data": {
      "text/html": [
       " View run at <a href='https://wandb.ai/darrenchanyuhao-singapore-university-of-technology-and-d/DeepLearning%20Project/runs/x91ft5fu' target=\"_blank\">https://wandb.ai/darrenchanyuhao-singapore-university-of-technology-and-d/DeepLearning%20Project/runs/x91ft5fu</a>"
      ],
      "text/plain": [
       "<IPython.core.display.HTML object>"
      ]
     },
     "metadata": {},
     "output_type": "display_data"
    },
    {
     "name": "stdout",
     "output_type": "stream",
     "text": [
      "Epoch 1/500, Loss: 0.019934\n",
      "Epoch 51/500, Loss: 0.006537\n",
      "Epoch 101/500, Loss: 0.005222\n",
      "Epoch 151/500, Loss: 0.003832\n",
      "Epoch 201/500, Loss: 0.002879\n",
      "Epoch 251/500, Loss: 0.002034\n",
      "Epoch 301/500, Loss: 0.001350\n",
      "Epoch 351/500, Loss: 0.000924\n",
      "Epoch 401/500, Loss: 0.001083\n",
      "Epoch 451/500, Loss: 0.000824\n",
      "Epoch 500/500, Loss: 0.000526\n"
     ]
    },
    {
     "data": {
      "text/html": [],
      "text/plain": [
       "<IPython.core.display.HTML object>"
      ]
     },
     "metadata": {},
     "output_type": "display_data"
    },
    {
     "data": {
      "text/html": [
       "<br>    <style><br>        .wandb-row {<br>            display: flex;<br>            flex-direction: row;<br>            flex-wrap: wrap;<br>            justify-content: flex-start;<br>            width: 100%;<br>        }<br>        .wandb-col {<br>            display: flex;<br>            flex-direction: column;<br>            flex-basis: 100%;<br>            flex: 1;<br>            padding: 10px;<br>        }<br>    </style><br><div class=\"wandb-row\"><div class=\"wandb-col\"><h3>Run history:</h3><br/><table class=\"wandb\"><tr><td>epoch</td><td>▁▁▁▁▁▂▂▂▂▂▃▃▃▃▃▄▄▄▄▄▄▅▅▅▅▅▅▅▅▅▆▆▇▇▇▇▇▇██</td></tr><tr><td>loss</td><td>█▇▇▇▆▅▄▄▄▄▄▃▃▃▃▃▂▂▂▂▂▂▂▂▁▂▂▁▂▁▁▁▁▁▁▁▁▁▁▁</td></tr></table><br/></div><div class=\"wandb-col\"><h3>Run summary:</h3><br/><table class=\"wandb\"><tr><td>epoch</td><td>499</td></tr><tr><td>loss</td><td>0.00053</td></tr></table><br/></div></div>"
      ],
      "text/plain": [
       "<IPython.core.display.HTML object>"
      ]
     },
     "metadata": {},
     "output_type": "display_data"
    },
    {
     "data": {
      "text/html": [
       " View run <strong style=\"color:#cdcd00\">deft-sweep-3</strong> at: <a href='https://wandb.ai/darrenchanyuhao-singapore-university-of-technology-and-d/DeepLearning%20Project/runs/x91ft5fu' target=\"_blank\">https://wandb.ai/darrenchanyuhao-singapore-university-of-technology-and-d/DeepLearning%20Project/runs/x91ft5fu</a><br> View project at: <a href='https://wandb.ai/darrenchanyuhao-singapore-university-of-technology-and-d/DeepLearning%20Project' target=\"_blank\">https://wandb.ai/darrenchanyuhao-singapore-university-of-technology-and-d/DeepLearning%20Project</a><br>Synced 5 W&B file(s), 0 media file(s), 0 artifact file(s) and 0 other file(s)"
      ],
      "text/plain": [
       "<IPython.core.display.HTML object>"
      ]
     },
     "metadata": {},
     "output_type": "display_data"
    },
    {
     "data": {
      "text/html": [
       "Find logs at: <code>./wandb/run-20250414_184551-x91ft5fu/logs</code>"
      ],
      "text/plain": [
       "<IPython.core.display.HTML object>"
      ]
     },
     "metadata": {},
     "output_type": "display_data"
    },
    {
     "name": "stderr",
     "output_type": "stream",
     "text": [
      "\u001b[34m\u001b[1mwandb\u001b[0m: Agent Starting Run: ckvtl4gt with config:\n",
      "\u001b[34m\u001b[1mwandb\u001b[0m: \thidden_size: 128\n",
      "\u001b[34m\u001b[1mwandb\u001b[0m: \tlearning_rate: 0.003706092218269441\n",
      "\u001b[34m\u001b[1mwandb\u001b[0m: \tnum_epochs: 500\n",
      "\u001b[34m\u001b[1mwandb\u001b[0m: \tnum_layers: 2\n"
     ]
    },
    {
     "data": {
      "text/html": [
       "Tracking run with wandb version 0.19.9"
      ],
      "text/plain": [
       "<IPython.core.display.HTML object>"
      ]
     },
     "metadata": {},
     "output_type": "display_data"
    },
    {
     "data": {
      "text/html": [
       "Run data is saved locally in <code>/home/jovyan/DL_Project/wandb/run-20250414_184654-ckvtl4gt</code>"
      ],
      "text/plain": [
       "<IPython.core.display.HTML object>"
      ]
     },
     "metadata": {},
     "output_type": "display_data"
    },
    {
     "data": {
      "text/html": [
       "Syncing run <strong><a href='https://wandb.ai/darrenchanyuhao-singapore-university-of-technology-and-d/DeepLearning%20Project/runs/ckvtl4gt' target=\"_blank\">fancy-sweep-4</a></strong> to <a href='https://wandb.ai/darrenchanyuhao-singapore-university-of-technology-and-d/DeepLearning%20Project' target=\"_blank\">Weights & Biases</a> (<a href='https://wandb.me/developer-guide' target=\"_blank\">docs</a>)<br>Sweep page: <a href='https://wandb.ai/darrenchanyuhao-singapore-university-of-technology-and-d/DeepLearning%20Project/sweeps/fe6fgats' target=\"_blank\">https://wandb.ai/darrenchanyuhao-singapore-university-of-technology-and-d/DeepLearning%20Project/sweeps/fe6fgats</a>"
      ],
      "text/plain": [
       "<IPython.core.display.HTML object>"
      ]
     },
     "metadata": {},
     "output_type": "display_data"
    },
    {
     "data": {
      "text/html": [
       " View project at <a href='https://wandb.ai/darrenchanyuhao-singapore-university-of-technology-and-d/DeepLearning%20Project' target=\"_blank\">https://wandb.ai/darrenchanyuhao-singapore-university-of-technology-and-d/DeepLearning%20Project</a>"
      ],
      "text/plain": [
       "<IPython.core.display.HTML object>"
      ]
     },
     "metadata": {},
     "output_type": "display_data"
    },
    {
     "data": {
      "text/html": [
       " View sweep at <a href='https://wandb.ai/darrenchanyuhao-singapore-university-of-technology-and-d/DeepLearning%20Project/sweeps/fe6fgats' target=\"_blank\">https://wandb.ai/darrenchanyuhao-singapore-university-of-technology-and-d/DeepLearning%20Project/sweeps/fe6fgats</a>"
      ],
      "text/plain": [
       "<IPython.core.display.HTML object>"
      ]
     },
     "metadata": {},
     "output_type": "display_data"
    },
    {
     "data": {
      "text/html": [
       " View run at <a href='https://wandb.ai/darrenchanyuhao-singapore-university-of-technology-and-d/DeepLearning%20Project/runs/ckvtl4gt' target=\"_blank\">https://wandb.ai/darrenchanyuhao-singapore-university-of-technology-and-d/DeepLearning%20Project/runs/ckvtl4gt</a>"
      ],
      "text/plain": [
       "<IPython.core.display.HTML object>"
      ]
     },
     "metadata": {},
     "output_type": "display_data"
    },
    {
     "name": "stdout",
     "output_type": "stream",
     "text": [
      "Epoch 1/500, Loss: 0.016937\n",
      "Epoch 51/500, Loss: 0.006171\n",
      "Epoch 101/500, Loss: 0.003947\n",
      "Epoch 151/500, Loss: 0.001879\n",
      "Epoch 201/500, Loss: 0.001273\n",
      "Epoch 251/500, Loss: 0.000730\n",
      "Epoch 301/500, Loss: 0.000599\n",
      "Epoch 351/500, Loss: 0.000405\n",
      "Epoch 401/500, Loss: 0.000334\n",
      "Epoch 451/500, Loss: 0.000371\n",
      "Epoch 500/500, Loss: 0.000412\n"
     ]
    },
    {
     "data": {
      "text/html": [],
      "text/plain": [
       "<IPython.core.display.HTML object>"
      ]
     },
     "metadata": {},
     "output_type": "display_data"
    },
    {
     "data": {
      "text/html": [
       "<br>    <style><br>        .wandb-row {<br>            display: flex;<br>            flex-direction: row;<br>            flex-wrap: wrap;<br>            justify-content: flex-start;<br>            width: 100%;<br>        }<br>        .wandb-col {<br>            display: flex;<br>            flex-direction: column;<br>            flex-basis: 100%;<br>            flex: 1;<br>            padding: 10px;<br>        }<br>    </style><br><div class=\"wandb-row\"><div class=\"wandb-col\"><h3>Run history:</h3><br/><table class=\"wandb\"><tr><td>epoch</td><td>▁▁▁▁▁▁▂▂▂▂▃▃▃▃▃▄▄▄▅▅▅▅▅▆▆▆▆▆▆▆▇▇▇▇▇█████</td></tr><tr><td>loss</td><td>█▆▆▆▆▆▆▅▅▅▄▄▄▃▃▃▃▂▂▂▂▂▁▂▁▁▁▁▁▁▁▁▁▁▁▁▁▁▁▁</td></tr></table><br/></div><div class=\"wandb-col\"><h3>Run summary:</h3><br/><table class=\"wandb\"><tr><td>epoch</td><td>499</td></tr><tr><td>loss</td><td>0.00041</td></tr></table><br/></div></div>"
      ],
      "text/plain": [
       "<IPython.core.display.HTML object>"
      ]
     },
     "metadata": {},
     "output_type": "display_data"
    },
    {
     "data": {
      "text/html": [
       " View run <strong style=\"color:#cdcd00\">fancy-sweep-4</strong> at: <a href='https://wandb.ai/darrenchanyuhao-singapore-university-of-technology-and-d/DeepLearning%20Project/runs/ckvtl4gt' target=\"_blank\">https://wandb.ai/darrenchanyuhao-singapore-university-of-technology-and-d/DeepLearning%20Project/runs/ckvtl4gt</a><br> View project at: <a href='https://wandb.ai/darrenchanyuhao-singapore-university-of-technology-and-d/DeepLearning%20Project' target=\"_blank\">https://wandb.ai/darrenchanyuhao-singapore-university-of-technology-and-d/DeepLearning%20Project</a><br>Synced 5 W&B file(s), 0 media file(s), 0 artifact file(s) and 0 other file(s)"
      ],
      "text/plain": [
       "<IPython.core.display.HTML object>"
      ]
     },
     "metadata": {},
     "output_type": "display_data"
    },
    {
     "data": {
      "text/html": [
       "Find logs at: <code>./wandb/run-20250414_184654-ckvtl4gt/logs</code>"
      ],
      "text/plain": [
       "<IPython.core.display.HTML object>"
      ]
     },
     "metadata": {},
     "output_type": "display_data"
    },
    {
     "name": "stderr",
     "output_type": "stream",
     "text": [
      "\u001b[34m\u001b[1mwandb\u001b[0m: Agent Starting Run: 10pbypug with config:\n",
      "\u001b[34m\u001b[1mwandb\u001b[0m: \thidden_size: 256\n",
      "\u001b[34m\u001b[1mwandb\u001b[0m: \tlearning_rate: 0.0014371643773841217\n",
      "\u001b[34m\u001b[1mwandb\u001b[0m: \tnum_epochs: 500\n",
      "\u001b[34m\u001b[1mwandb\u001b[0m: \tnum_layers: 3\n"
     ]
    },
    {
     "data": {
      "text/html": [
       "Tracking run with wandb version 0.19.9"
      ],
      "text/plain": [
       "<IPython.core.display.HTML object>"
      ]
     },
     "metadata": {},
     "output_type": "display_data"
    },
    {
     "data": {
      "text/html": [
       "Run data is saved locally in <code>/home/jovyan/DL_Project/wandb/run-20250414_184758-10pbypug</code>"
      ],
      "text/plain": [
       "<IPython.core.display.HTML object>"
      ]
     },
     "metadata": {},
     "output_type": "display_data"
    },
    {
     "data": {
      "text/html": [
       "Syncing run <strong><a href='https://wandb.ai/darrenchanyuhao-singapore-university-of-technology-and-d/DeepLearning%20Project/runs/10pbypug' target=\"_blank\">grateful-sweep-5</a></strong> to <a href='https://wandb.ai/darrenchanyuhao-singapore-university-of-technology-and-d/DeepLearning%20Project' target=\"_blank\">Weights & Biases</a> (<a href='https://wandb.me/developer-guide' target=\"_blank\">docs</a>)<br>Sweep page: <a href='https://wandb.ai/darrenchanyuhao-singapore-university-of-technology-and-d/DeepLearning%20Project/sweeps/fe6fgats' target=\"_blank\">https://wandb.ai/darrenchanyuhao-singapore-university-of-technology-and-d/DeepLearning%20Project/sweeps/fe6fgats</a>"
      ],
      "text/plain": [
       "<IPython.core.display.HTML object>"
      ]
     },
     "metadata": {},
     "output_type": "display_data"
    },
    {
     "data": {
      "text/html": [
       " View project at <a href='https://wandb.ai/darrenchanyuhao-singapore-university-of-technology-and-d/DeepLearning%20Project' target=\"_blank\">https://wandb.ai/darrenchanyuhao-singapore-university-of-technology-and-d/DeepLearning%20Project</a>"
      ],
      "text/plain": [
       "<IPython.core.display.HTML object>"
      ]
     },
     "metadata": {},
     "output_type": "display_data"
    },
    {
     "data": {
      "text/html": [
       " View sweep at <a href='https://wandb.ai/darrenchanyuhao-singapore-university-of-technology-and-d/DeepLearning%20Project/sweeps/fe6fgats' target=\"_blank\">https://wandb.ai/darrenchanyuhao-singapore-university-of-technology-and-d/DeepLearning%20Project/sweeps/fe6fgats</a>"
      ],
      "text/plain": [
       "<IPython.core.display.HTML object>"
      ]
     },
     "metadata": {},
     "output_type": "display_data"
    },
    {
     "data": {
      "text/html": [
       " View run at <a href='https://wandb.ai/darrenchanyuhao-singapore-university-of-technology-and-d/DeepLearning%20Project/runs/10pbypug' target=\"_blank\">https://wandb.ai/darrenchanyuhao-singapore-university-of-technology-and-d/DeepLearning%20Project/runs/10pbypug</a>"
      ],
      "text/plain": [
       "<IPython.core.display.HTML object>"
      ]
     },
     "metadata": {},
     "output_type": "display_data"
    },
    {
     "name": "stdout",
     "output_type": "stream",
     "text": [
      "Epoch 1/500, Loss: 0.032382\n",
      "Epoch 51/500, Loss: 0.006630\n",
      "Epoch 101/500, Loss: 0.003676\n",
      "Epoch 151/500, Loss: 0.001228\n",
      "Epoch 201/500, Loss: 0.000716\n",
      "Epoch 251/500, Loss: 0.000219\n",
      "Epoch 301/500, Loss: 0.000236\n",
      "Epoch 351/500, Loss: 0.000680\n",
      "Epoch 401/500, Loss: 0.000178\n",
      "Epoch 451/500, Loss: 0.000384\n",
      "Epoch 500/500, Loss: 0.000165\n"
     ]
    },
    {
     "data": {
      "text/html": [],
      "text/plain": [
       "<IPython.core.display.HTML object>"
      ]
     },
     "metadata": {},
     "output_type": "display_data"
    },
    {
     "data": {
      "text/html": [
       "<br>    <style><br>        .wandb-row {<br>            display: flex;<br>            flex-direction: row;<br>            flex-wrap: wrap;<br>            justify-content: flex-start;<br>            width: 100%;<br>        }<br>        .wandb-col {<br>            display: flex;<br>            flex-direction: column;<br>            flex-basis: 100%;<br>            flex: 1;<br>            padding: 10px;<br>        }<br>    </style><br><div class=\"wandb-row\"><div class=\"wandb-col\"><h3>Run history:</h3><br/><table class=\"wandb\"><tr><td>epoch</td><td>▁▁▁▁▁▂▂▂▂▂▂▂▂▃▃▃▃▃▄▄▅▅▅▅▅▆▆▆▆▆▆▆▆▇▇▇████</td></tr><tr><td>loss</td><td>█▇▆▆▅▅▅▄▂▂▂▂▂▁▂▁▁▁▁▁▁▁▁▁▁▁▁▁▁▁▁▁▁▁▁▁▁▁▁▁</td></tr></table><br/></div><div class=\"wandb-col\"><h3>Run summary:</h3><br/><table class=\"wandb\"><tr><td>epoch</td><td>499</td></tr><tr><td>loss</td><td>0.00016</td></tr></table><br/></div></div>"
      ],
      "text/plain": [
       "<IPython.core.display.HTML object>"
      ]
     },
     "metadata": {},
     "output_type": "display_data"
    },
    {
     "data": {
      "text/html": [
       " View run <strong style=\"color:#cdcd00\">grateful-sweep-5</strong> at: <a href='https://wandb.ai/darrenchanyuhao-singapore-university-of-technology-and-d/DeepLearning%20Project/runs/10pbypug' target=\"_blank\">https://wandb.ai/darrenchanyuhao-singapore-university-of-technology-and-d/DeepLearning%20Project/runs/10pbypug</a><br> View project at: <a href='https://wandb.ai/darrenchanyuhao-singapore-university-of-technology-and-d/DeepLearning%20Project' target=\"_blank\">https://wandb.ai/darrenchanyuhao-singapore-university-of-technology-and-d/DeepLearning%20Project</a><br>Synced 5 W&B file(s), 0 media file(s), 0 artifact file(s) and 0 other file(s)"
      ],
      "text/plain": [
       "<IPython.core.display.HTML object>"
      ]
     },
     "metadata": {},
     "output_type": "display_data"
    },
    {
     "data": {
      "text/html": [
       "Find logs at: <code>./wandb/run-20250414_184758-10pbypug/logs</code>"
      ],
      "text/plain": [
       "<IPython.core.display.HTML object>"
      ]
     },
     "metadata": {},
     "output_type": "display_data"
    },
    {
     "name": "stderr",
     "output_type": "stream",
     "text": [
      "\u001b[34m\u001b[1mwandb\u001b[0m: Agent Starting Run: wb8n0kf9 with config:\n",
      "\u001b[34m\u001b[1mwandb\u001b[0m: \thidden_size: 256\n",
      "\u001b[34m\u001b[1mwandb\u001b[0m: \tlearning_rate: 0.0013877079015223214\n",
      "\u001b[34m\u001b[1mwandb\u001b[0m: \tnum_epochs: 500\n",
      "\u001b[34m\u001b[1mwandb\u001b[0m: \tnum_layers: 3\n"
     ]
    },
    {
     "data": {
      "text/html": [
       "Tracking run with wandb version 0.19.9"
      ],
      "text/plain": [
       "<IPython.core.display.HTML object>"
      ]
     },
     "metadata": {},
     "output_type": "display_data"
    },
    {
     "data": {
      "text/html": [
       "Run data is saved locally in <code>/home/jovyan/DL_Project/wandb/run-20250414_185215-wb8n0kf9</code>"
      ],
      "text/plain": [
       "<IPython.core.display.HTML object>"
      ]
     },
     "metadata": {},
     "output_type": "display_data"
    },
    {
     "data": {
      "text/html": [
       "Syncing run <strong><a href='https://wandb.ai/darrenchanyuhao-singapore-university-of-technology-and-d/DeepLearning%20Project/runs/wb8n0kf9' target=\"_blank\">magic-sweep-6</a></strong> to <a href='https://wandb.ai/darrenchanyuhao-singapore-university-of-technology-and-d/DeepLearning%20Project' target=\"_blank\">Weights & Biases</a> (<a href='https://wandb.me/developer-guide' target=\"_blank\">docs</a>)<br>Sweep page: <a href='https://wandb.ai/darrenchanyuhao-singapore-university-of-technology-and-d/DeepLearning%20Project/sweeps/fe6fgats' target=\"_blank\">https://wandb.ai/darrenchanyuhao-singapore-university-of-technology-and-d/DeepLearning%20Project/sweeps/fe6fgats</a>"
      ],
      "text/plain": [
       "<IPython.core.display.HTML object>"
      ]
     },
     "metadata": {},
     "output_type": "display_data"
    },
    {
     "data": {
      "text/html": [
       " View project at <a href='https://wandb.ai/darrenchanyuhao-singapore-university-of-technology-and-d/DeepLearning%20Project' target=\"_blank\">https://wandb.ai/darrenchanyuhao-singapore-university-of-technology-and-d/DeepLearning%20Project</a>"
      ],
      "text/plain": [
       "<IPython.core.display.HTML object>"
      ]
     },
     "metadata": {},
     "output_type": "display_data"
    },
    {
     "data": {
      "text/html": [
       " View sweep at <a href='https://wandb.ai/darrenchanyuhao-singapore-university-of-technology-and-d/DeepLearning%20Project/sweeps/fe6fgats' target=\"_blank\">https://wandb.ai/darrenchanyuhao-singapore-university-of-technology-and-d/DeepLearning%20Project/sweeps/fe6fgats</a>"
      ],
      "text/plain": [
       "<IPython.core.display.HTML object>"
      ]
     },
     "metadata": {},
     "output_type": "display_data"
    },
    {
     "data": {
      "text/html": [
       " View run at <a href='https://wandb.ai/darrenchanyuhao-singapore-university-of-technology-and-d/DeepLearning%20Project/runs/wb8n0kf9' target=\"_blank\">https://wandb.ai/darrenchanyuhao-singapore-university-of-technology-and-d/DeepLearning%20Project/runs/wb8n0kf9</a>"
      ],
      "text/plain": [
       "<IPython.core.display.HTML object>"
      ]
     },
     "metadata": {},
     "output_type": "display_data"
    },
    {
     "name": "stdout",
     "output_type": "stream",
     "text": [
      "Epoch 1/500, Loss: 0.030115\n",
      "Epoch 51/500, Loss: 0.006311\n",
      "Epoch 101/500, Loss: 0.003959\n",
      "Epoch 151/500, Loss: 0.001876\n",
      "Epoch 201/500, Loss: 0.000500\n",
      "Epoch 251/500, Loss: 0.000697\n",
      "Epoch 301/500, Loss: 0.000315\n",
      "Epoch 351/500, Loss: 0.000196\n",
      "Epoch 401/500, Loss: 0.000447\n",
      "Epoch 451/500, Loss: 0.000129\n",
      "Epoch 500/500, Loss: 0.000147\n"
     ]
    },
    {
     "data": {
      "text/html": [],
      "text/plain": [
       "<IPython.core.display.HTML object>"
      ]
     },
     "metadata": {},
     "output_type": "display_data"
    },
    {
     "data": {
      "text/html": [
       "<br>    <style><br>        .wandb-row {<br>            display: flex;<br>            flex-direction: row;<br>            flex-wrap: wrap;<br>            justify-content: flex-start;<br>            width: 100%;<br>        }<br>        .wandb-col {<br>            display: flex;<br>            flex-direction: column;<br>            flex-basis: 100%;<br>            flex: 1;<br>            padding: 10px;<br>        }<br>    </style><br><div class=\"wandb-row\"><div class=\"wandb-col\"><h3>Run history:</h3><br/><table class=\"wandb\"><tr><td>epoch</td><td>▁▁▁▁▂▂▂▂▂▂▃▃▃▃▃▃▃▃▃▃▄▄▄▄▄▅▅▅▅▅▆▆▆▆▆▇▇▇██</td></tr><tr><td>loss</td><td>█▄▃▃▃▂▂▂▂▂▂▂▂▂▁▁▁▁▁▁▁▁▁▁▁▁▁▁▁▁▁▁▁▁▁▁▁▁▁▁</td></tr></table><br/></div><div class=\"wandb-col\"><h3>Run summary:</h3><br/><table class=\"wandb\"><tr><td>epoch</td><td>499</td></tr><tr><td>loss</td><td>0.00015</td></tr></table><br/></div></div>"
      ],
      "text/plain": [
       "<IPython.core.display.HTML object>"
      ]
     },
     "metadata": {},
     "output_type": "display_data"
    },
    {
     "data": {
      "text/html": [
       " View run <strong style=\"color:#cdcd00\">magic-sweep-6</strong> at: <a href='https://wandb.ai/darrenchanyuhao-singapore-university-of-technology-and-d/DeepLearning%20Project/runs/wb8n0kf9' target=\"_blank\">https://wandb.ai/darrenchanyuhao-singapore-university-of-technology-and-d/DeepLearning%20Project/runs/wb8n0kf9</a><br> View project at: <a href='https://wandb.ai/darrenchanyuhao-singapore-university-of-technology-and-d/DeepLearning%20Project' target=\"_blank\">https://wandb.ai/darrenchanyuhao-singapore-university-of-technology-and-d/DeepLearning%20Project</a><br>Synced 5 W&B file(s), 0 media file(s), 0 artifact file(s) and 0 other file(s)"
      ],
      "text/plain": [
       "<IPython.core.display.HTML object>"
      ]
     },
     "metadata": {},
     "output_type": "display_data"
    },
    {
     "data": {
      "text/html": [
       "Find logs at: <code>./wandb/run-20250414_185215-wb8n0kf9/logs</code>"
      ],
      "text/plain": [
       "<IPython.core.display.HTML object>"
      ]
     },
     "metadata": {},
     "output_type": "display_data"
    },
    {
     "name": "stderr",
     "output_type": "stream",
     "text": [
      "\u001b[34m\u001b[1mwandb\u001b[0m: Agent Starting Run: 6wmjfq8w with config:\n",
      "\u001b[34m\u001b[1mwandb\u001b[0m: \thidden_size: 256\n",
      "\u001b[34m\u001b[1mwandb\u001b[0m: \tlearning_rate: 0.009830837032974552\n",
      "\u001b[34m\u001b[1mwandb\u001b[0m: \tnum_epochs: 1000\n",
      "\u001b[34m\u001b[1mwandb\u001b[0m: \tnum_layers: 3\n"
     ]
    },
    {
     "data": {
      "text/html": [
       "Tracking run with wandb version 0.19.9"
      ],
      "text/plain": [
       "<IPython.core.display.HTML object>"
      ]
     },
     "metadata": {},
     "output_type": "display_data"
    },
    {
     "data": {
      "text/html": [
       "Run data is saved locally in <code>/home/jovyan/DL_Project/wandb/run-20250414_185645-6wmjfq8w</code>"
      ],
      "text/plain": [
       "<IPython.core.display.HTML object>"
      ]
     },
     "metadata": {},
     "output_type": "display_data"
    },
    {
     "data": {
      "text/html": [
       "Syncing run <strong><a href='https://wandb.ai/darrenchanyuhao-singapore-university-of-technology-and-d/DeepLearning%20Project/runs/6wmjfq8w' target=\"_blank\">fresh-sweep-7</a></strong> to <a href='https://wandb.ai/darrenchanyuhao-singapore-university-of-technology-and-d/DeepLearning%20Project' target=\"_blank\">Weights & Biases</a> (<a href='https://wandb.me/developer-guide' target=\"_blank\">docs</a>)<br>Sweep page: <a href='https://wandb.ai/darrenchanyuhao-singapore-university-of-technology-and-d/DeepLearning%20Project/sweeps/fe6fgats' target=\"_blank\">https://wandb.ai/darrenchanyuhao-singapore-university-of-technology-and-d/DeepLearning%20Project/sweeps/fe6fgats</a>"
      ],
      "text/plain": [
       "<IPython.core.display.HTML object>"
      ]
     },
     "metadata": {},
     "output_type": "display_data"
    },
    {
     "data": {
      "text/html": [
       " View project at <a href='https://wandb.ai/darrenchanyuhao-singapore-university-of-technology-and-d/DeepLearning%20Project' target=\"_blank\">https://wandb.ai/darrenchanyuhao-singapore-university-of-technology-and-d/DeepLearning%20Project</a>"
      ],
      "text/plain": [
       "<IPython.core.display.HTML object>"
      ]
     },
     "metadata": {},
     "output_type": "display_data"
    },
    {
     "data": {
      "text/html": [
       " View sweep at <a href='https://wandb.ai/darrenchanyuhao-singapore-university-of-technology-and-d/DeepLearning%20Project/sweeps/fe6fgats' target=\"_blank\">https://wandb.ai/darrenchanyuhao-singapore-university-of-technology-and-d/DeepLearning%20Project/sweeps/fe6fgats</a>"
      ],
      "text/plain": [
       "<IPython.core.display.HTML object>"
      ]
     },
     "metadata": {},
     "output_type": "display_data"
    },
    {
     "data": {
      "text/html": [
       " View run at <a href='https://wandb.ai/darrenchanyuhao-singapore-university-of-technology-and-d/DeepLearning%20Project/runs/6wmjfq8w' target=\"_blank\">https://wandb.ai/darrenchanyuhao-singapore-university-of-technology-and-d/DeepLearning%20Project/runs/6wmjfq8w</a>"
      ],
      "text/plain": [
       "<IPython.core.display.HTML object>"
      ]
     },
     "metadata": {},
     "output_type": "display_data"
    },
    {
     "name": "stdout",
     "output_type": "stream",
     "text": [
      "Epoch 1/1000, Loss: 0.157720\n",
      "Epoch 51/1000, Loss: 0.020292\n",
      "Epoch 101/1000, Loss: 0.021495\n",
      "Epoch 151/1000, Loss: 0.025379\n",
      "Epoch 201/1000, Loss: 0.024240\n",
      "Epoch 251/1000, Loss: 0.022292\n",
      "Epoch 301/1000, Loss: 0.020497\n",
      "Epoch 351/1000, Loss: 0.021286\n",
      "Epoch 401/1000, Loss: 0.021485\n",
      "Epoch 451/1000, Loss: 0.021101\n",
      "Epoch 501/1000, Loss: 0.019973\n",
      "Epoch 551/1000, Loss: 0.019683\n",
      "Epoch 601/1000, Loss: 0.018457\n",
      "Epoch 651/1000, Loss: 0.018479\n",
      "Epoch 701/1000, Loss: 0.018022\n",
      "Epoch 751/1000, Loss: 0.018163\n",
      "Epoch 801/1000, Loss: 0.018759\n",
      "Epoch 851/1000, Loss: 0.018844\n",
      "Epoch 901/1000, Loss: 0.018512\n",
      "Epoch 951/1000, Loss: 0.018689\n",
      "Epoch 1000/1000, Loss: 0.018389\n"
     ]
    },
    {
     "data": {
      "text/html": [],
      "text/plain": [
       "<IPython.core.display.HTML object>"
      ]
     },
     "metadata": {},
     "output_type": "display_data"
    },
    {
     "data": {
      "text/html": [
       "<br>    <style><br>        .wandb-row {<br>            display: flex;<br>            flex-direction: row;<br>            flex-wrap: wrap;<br>            justify-content: flex-start;<br>            width: 100%;<br>        }<br>        .wandb-col {<br>            display: flex;<br>            flex-direction: column;<br>            flex-basis: 100%;<br>            flex: 1;<br>            padding: 10px;<br>        }<br>    </style><br><div class=\"wandb-row\"><div class=\"wandb-col\"><h3>Run history:</h3><br/><table class=\"wandb\"><tr><td>epoch</td><td>▁▁▂▂▂▂▂▂▂▂▂▂▃▃▃▃▃▄▄▄▅▅▅▅▅▅▅▆▆▆▆▆▆▆▆▇████</td></tr><tr><td>loss</td><td>▂▃▁▃▃▂▃▅▃▃▅▃▂▂▃▂▃▃▂▃▃▂▂▃▂▄█▁▁▁▁▁▁▁▁▁▁▁▁▁</td></tr></table><br/></div><div class=\"wandb-col\"><h3>Run summary:</h3><br/><table class=\"wandb\"><tr><td>epoch</td><td>999</td></tr><tr><td>loss</td><td>0.01839</td></tr></table><br/></div></div>"
      ],
      "text/plain": [
       "<IPython.core.display.HTML object>"
      ]
     },
     "metadata": {},
     "output_type": "display_data"
    },
    {
     "data": {
      "text/html": [
       " View run <strong style=\"color:#cdcd00\">fresh-sweep-7</strong> at: <a href='https://wandb.ai/darrenchanyuhao-singapore-university-of-technology-and-d/DeepLearning%20Project/runs/6wmjfq8w' target=\"_blank\">https://wandb.ai/darrenchanyuhao-singapore-university-of-technology-and-d/DeepLearning%20Project/runs/6wmjfq8w</a><br> View project at: <a href='https://wandb.ai/darrenchanyuhao-singapore-university-of-technology-and-d/DeepLearning%20Project' target=\"_blank\">https://wandb.ai/darrenchanyuhao-singapore-university-of-technology-and-d/DeepLearning%20Project</a><br>Synced 5 W&B file(s), 0 media file(s), 0 artifact file(s) and 0 other file(s)"
      ],
      "text/plain": [
       "<IPython.core.display.HTML object>"
      ]
     },
     "metadata": {},
     "output_type": "display_data"
    },
    {
     "data": {
      "text/html": [
       "Find logs at: <code>./wandb/run-20250414_185645-6wmjfq8w/logs</code>"
      ],
      "text/plain": [
       "<IPython.core.display.HTML object>"
      ]
     },
     "metadata": {},
     "output_type": "display_data"
    },
    {
     "name": "stderr",
     "output_type": "stream",
     "text": [
      "\u001b[34m\u001b[1mwandb\u001b[0m: Agent Starting Run: 3e284wmx with config:\n",
      "\u001b[34m\u001b[1mwandb\u001b[0m: \thidden_size: 256\n",
      "\u001b[34m\u001b[1mwandb\u001b[0m: \tlearning_rate: 0.001270022830404644\n",
      "\u001b[34m\u001b[1mwandb\u001b[0m: \tnum_epochs: 300\n",
      "\u001b[34m\u001b[1mwandb\u001b[0m: \tnum_layers: 2\n"
     ]
    },
    {
     "data": {
      "text/html": [
       "Tracking run with wandb version 0.19.9"
      ],
      "text/plain": [
       "<IPython.core.display.HTML object>"
      ]
     },
     "metadata": {},
     "output_type": "display_data"
    },
    {
     "data": {
      "text/html": [
       "Run data is saved locally in <code>/home/jovyan/DL_Project/wandb/run-20250414_190524-3e284wmx</code>"
      ],
      "text/plain": [
       "<IPython.core.display.HTML object>"
      ]
     },
     "metadata": {},
     "output_type": "display_data"
    },
    {
     "data": {
      "text/html": [
       "Syncing run <strong><a href='https://wandb.ai/darrenchanyuhao-singapore-university-of-technology-and-d/DeepLearning%20Project/runs/3e284wmx' target=\"_blank\">dry-sweep-8</a></strong> to <a href='https://wandb.ai/darrenchanyuhao-singapore-university-of-technology-and-d/DeepLearning%20Project' target=\"_blank\">Weights & Biases</a> (<a href='https://wandb.me/developer-guide' target=\"_blank\">docs</a>)<br>Sweep page: <a href='https://wandb.ai/darrenchanyuhao-singapore-university-of-technology-and-d/DeepLearning%20Project/sweeps/fe6fgats' target=\"_blank\">https://wandb.ai/darrenchanyuhao-singapore-university-of-technology-and-d/DeepLearning%20Project/sweeps/fe6fgats</a>"
      ],
      "text/plain": [
       "<IPython.core.display.HTML object>"
      ]
     },
     "metadata": {},
     "output_type": "display_data"
    },
    {
     "data": {
      "text/html": [
       " View project at <a href='https://wandb.ai/darrenchanyuhao-singapore-university-of-technology-and-d/DeepLearning%20Project' target=\"_blank\">https://wandb.ai/darrenchanyuhao-singapore-university-of-technology-and-d/DeepLearning%20Project</a>"
      ],
      "text/plain": [
       "<IPython.core.display.HTML object>"
      ]
     },
     "metadata": {},
     "output_type": "display_data"
    },
    {
     "data": {
      "text/html": [
       " View sweep at <a href='https://wandb.ai/darrenchanyuhao-singapore-university-of-technology-and-d/DeepLearning%20Project/sweeps/fe6fgats' target=\"_blank\">https://wandb.ai/darrenchanyuhao-singapore-university-of-technology-and-d/DeepLearning%20Project/sweeps/fe6fgats</a>"
      ],
      "text/plain": [
       "<IPython.core.display.HTML object>"
      ]
     },
     "metadata": {},
     "output_type": "display_data"
    },
    {
     "data": {
      "text/html": [
       " View run at <a href='https://wandb.ai/darrenchanyuhao-singapore-university-of-technology-and-d/DeepLearning%20Project/runs/3e284wmx' target=\"_blank\">https://wandb.ai/darrenchanyuhao-singapore-university-of-technology-and-d/DeepLearning%20Project/runs/3e284wmx</a>"
      ],
      "text/plain": [
       "<IPython.core.display.HTML object>"
      ]
     },
     "metadata": {},
     "output_type": "display_data"
    },
    {
     "name": "stdout",
     "output_type": "stream",
     "text": [
      "Epoch 1/300, Loss: 0.028555\n",
      "Epoch 51/300, Loss: 0.006564\n",
      "Epoch 101/300, Loss: 0.004727\n",
      "Epoch 151/300, Loss: 0.002557\n",
      "Epoch 201/300, Loss: 0.001288\n",
      "Epoch 251/300, Loss: 0.000796\n",
      "Epoch 300/300, Loss: 0.000641\n"
     ]
    },
    {
     "data": {
      "text/html": [],
      "text/plain": [
       "<IPython.core.display.HTML object>"
      ]
     },
     "metadata": {},
     "output_type": "display_data"
    },
    {
     "data": {
      "text/html": [
       "<br>    <style><br>        .wandb-row {<br>            display: flex;<br>            flex-direction: row;<br>            flex-wrap: wrap;<br>            justify-content: flex-start;<br>            width: 100%;<br>        }<br>        .wandb-col {<br>            display: flex;<br>            flex-direction: column;<br>            flex-basis: 100%;<br>            flex: 1;<br>            padding: 10px;<br>        }<br>    </style><br><div class=\"wandb-row\"><div class=\"wandb-col\"><h3>Run history:</h3><br/><table class=\"wandb\"><tr><td>epoch</td><td>▁▁▁▁▁▂▂▂▃▃▃▃▄▄▄▄▄▅▅▅▅▅▅▆▆▆▆▆▆▇▇▇▇▇██████</td></tr><tr><td>loss</td><td>█▇▇▅▅▄▄▄▄▄▄▄▄▄▄▃▃▃▃▃▃▂▂▂▂▂▂▂▂▂▂▁▂▁▁▁▁▁▁▁</td></tr></table><br/></div><div class=\"wandb-col\"><h3>Run summary:</h3><br/><table class=\"wandb\"><tr><td>epoch</td><td>299</td></tr><tr><td>loss</td><td>0.00064</td></tr></table><br/></div></div>"
      ],
      "text/plain": [
       "<IPython.core.display.HTML object>"
      ]
     },
     "metadata": {},
     "output_type": "display_data"
    },
    {
     "data": {
      "text/html": [
       " View run <strong style=\"color:#cdcd00\">dry-sweep-8</strong> at: <a href='https://wandb.ai/darrenchanyuhao-singapore-university-of-technology-and-d/DeepLearning%20Project/runs/3e284wmx' target=\"_blank\">https://wandb.ai/darrenchanyuhao-singapore-university-of-technology-and-d/DeepLearning%20Project/runs/3e284wmx</a><br> View project at: <a href='https://wandb.ai/darrenchanyuhao-singapore-university-of-technology-and-d/DeepLearning%20Project' target=\"_blank\">https://wandb.ai/darrenchanyuhao-singapore-university-of-technology-and-d/DeepLearning%20Project</a><br>Synced 5 W&B file(s), 0 media file(s), 0 artifact file(s) and 0 other file(s)"
      ],
      "text/plain": [
       "<IPython.core.display.HTML object>"
      ]
     },
     "metadata": {},
     "output_type": "display_data"
    },
    {
     "data": {
      "text/html": [
       "Find logs at: <code>./wandb/run-20250414_190524-3e284wmx/logs</code>"
      ],
      "text/plain": [
       "<IPython.core.display.HTML object>"
      ]
     },
     "metadata": {},
     "output_type": "display_data"
    },
    {
     "name": "stderr",
     "output_type": "stream",
     "text": [
      "\u001b[34m\u001b[1mwandb\u001b[0m: Sweep Agent: Waiting for job.\n",
      "\u001b[34m\u001b[1mwandb\u001b[0m: Job received.\n",
      "\u001b[34m\u001b[1mwandb\u001b[0m: Agent Starting Run: jftvjnsr with config:\n",
      "\u001b[34m\u001b[1mwandb\u001b[0m: \thidden_size: 64\n",
      "\u001b[34m\u001b[1mwandb\u001b[0m: \tlearning_rate: 0.0023563504028319138\n",
      "\u001b[34m\u001b[1mwandb\u001b[0m: \tnum_epochs: 300\n",
      "\u001b[34m\u001b[1mwandb\u001b[0m: \tnum_layers: 1\n"
     ]
    },
    {
     "data": {
      "text/html": [
       "Tracking run with wandb version 0.19.9"
      ],
      "text/plain": [
       "<IPython.core.display.HTML object>"
      ]
     },
     "metadata": {},
     "output_type": "display_data"
    },
    {
     "data": {
      "text/html": [
       "Run data is saved locally in <code>/home/jovyan/DL_Project/wandb/run-20250414_190657-jftvjnsr</code>"
      ],
      "text/plain": [
       "<IPython.core.display.HTML object>"
      ]
     },
     "metadata": {},
     "output_type": "display_data"
    },
    {
     "data": {
      "text/html": [
       "Syncing run <strong><a href='https://wandb.ai/darrenchanyuhao-singapore-university-of-technology-and-d/DeepLearning%20Project/runs/jftvjnsr' target=\"_blank\">denim-sweep-9</a></strong> to <a href='https://wandb.ai/darrenchanyuhao-singapore-university-of-technology-and-d/DeepLearning%20Project' target=\"_blank\">Weights & Biases</a> (<a href='https://wandb.me/developer-guide' target=\"_blank\">docs</a>)<br>Sweep page: <a href='https://wandb.ai/darrenchanyuhao-singapore-university-of-technology-and-d/DeepLearning%20Project/sweeps/fe6fgats' target=\"_blank\">https://wandb.ai/darrenchanyuhao-singapore-university-of-technology-and-d/DeepLearning%20Project/sweeps/fe6fgats</a>"
      ],
      "text/plain": [
       "<IPython.core.display.HTML object>"
      ]
     },
     "metadata": {},
     "output_type": "display_data"
    },
    {
     "data": {
      "text/html": [
       " View project at <a href='https://wandb.ai/darrenchanyuhao-singapore-university-of-technology-and-d/DeepLearning%20Project' target=\"_blank\">https://wandb.ai/darrenchanyuhao-singapore-university-of-technology-and-d/DeepLearning%20Project</a>"
      ],
      "text/plain": [
       "<IPython.core.display.HTML object>"
      ]
     },
     "metadata": {},
     "output_type": "display_data"
    },
    {
     "data": {
      "text/html": [
       " View sweep at <a href='https://wandb.ai/darrenchanyuhao-singapore-university-of-technology-and-d/DeepLearning%20Project/sweeps/fe6fgats' target=\"_blank\">https://wandb.ai/darrenchanyuhao-singapore-university-of-technology-and-d/DeepLearning%20Project/sweeps/fe6fgats</a>"
      ],
      "text/plain": [
       "<IPython.core.display.HTML object>"
      ]
     },
     "metadata": {},
     "output_type": "display_data"
    },
    {
     "data": {
      "text/html": [
       " View run at <a href='https://wandb.ai/darrenchanyuhao-singapore-university-of-technology-and-d/DeepLearning%20Project/runs/jftvjnsr' target=\"_blank\">https://wandb.ai/darrenchanyuhao-singapore-university-of-technology-and-d/DeepLearning%20Project/runs/jftvjnsr</a>"
      ],
      "text/plain": [
       "<IPython.core.display.HTML object>"
      ]
     },
     "metadata": {},
     "output_type": "display_data"
    },
    {
     "name": "stdout",
     "output_type": "stream",
     "text": [
      "Epoch 1/300, Loss: 0.018930\n",
      "Epoch 51/300, Loss: 0.006103\n",
      "Epoch 101/300, Loss: 0.004988\n",
      "Epoch 151/300, Loss: 0.004007\n",
      "Epoch 201/300, Loss: 0.003015\n",
      "Epoch 251/300, Loss: 0.001871\n",
      "Epoch 300/300, Loss: 0.001120\n"
     ]
    },
    {
     "data": {
      "text/html": [],
      "text/plain": [
       "<IPython.core.display.HTML object>"
      ]
     },
     "metadata": {},
     "output_type": "display_data"
    },
    {
     "data": {
      "text/html": [
       "<br>    <style><br>        .wandb-row {<br>            display: flex;<br>            flex-direction: row;<br>            flex-wrap: wrap;<br>            justify-content: flex-start;<br>            width: 100%;<br>        }<br>        .wandb-col {<br>            display: flex;<br>            flex-direction: column;<br>            flex-basis: 100%;<br>            flex: 1;<br>            padding: 10px;<br>        }<br>    </style><br><div class=\"wandb-row\"><div class=\"wandb-col\"><h3>Run history:</h3><br/><table class=\"wandb\"><tr><td>epoch</td><td>▁▁▁▁▂▂▂▂▃▃▃▃▃▃▄▄▄▄▄▄▅▅▅▆▆▆▆▆▆▆▇▇▇▇▇█████</td></tr><tr><td>loss</td><td>█▆▆▅▆▅▅▅▅▄▄▄▄▄▄▄▃▃▃▃▃▃▃▃▂▂▂▃▂▂▂▂▂▂▂▁▁▂▁▁</td></tr></table><br/></div><div class=\"wandb-col\"><h3>Run summary:</h3><br/><table class=\"wandb\"><tr><td>epoch</td><td>299</td></tr><tr><td>loss</td><td>0.00112</td></tr></table><br/></div></div>"
      ],
      "text/plain": [
       "<IPython.core.display.HTML object>"
      ]
     },
     "metadata": {},
     "output_type": "display_data"
    },
    {
     "data": {
      "text/html": [
       " View run <strong style=\"color:#cdcd00\">denim-sweep-9</strong> at: <a href='https://wandb.ai/darrenchanyuhao-singapore-university-of-technology-and-d/DeepLearning%20Project/runs/jftvjnsr' target=\"_blank\">https://wandb.ai/darrenchanyuhao-singapore-university-of-technology-and-d/DeepLearning%20Project/runs/jftvjnsr</a><br> View project at: <a href='https://wandb.ai/darrenchanyuhao-singapore-university-of-technology-and-d/DeepLearning%20Project' target=\"_blank\">https://wandb.ai/darrenchanyuhao-singapore-university-of-technology-and-d/DeepLearning%20Project</a><br>Synced 5 W&B file(s), 0 media file(s), 0 artifact file(s) and 0 other file(s)"
      ],
      "text/plain": [
       "<IPython.core.display.HTML object>"
      ]
     },
     "metadata": {},
     "output_type": "display_data"
    },
    {
     "data": {
      "text/html": [
       "Find logs at: <code>./wandb/run-20250414_190657-jftvjnsr/logs</code>"
      ],
      "text/plain": [
       "<IPython.core.display.HTML object>"
      ]
     },
     "metadata": {},
     "output_type": "display_data"
    },
    {
     "name": "stderr",
     "output_type": "stream",
     "text": [
      "\u001b[34m\u001b[1mwandb\u001b[0m: Agent Starting Run: i7aise80 with config:\n",
      "\u001b[34m\u001b[1mwandb\u001b[0m: \thidden_size: 128\n",
      "\u001b[34m\u001b[1mwandb\u001b[0m: \tlearning_rate: 0.0015800746543442473\n",
      "\u001b[34m\u001b[1mwandb\u001b[0m: \tnum_epochs: 300\n",
      "\u001b[34m\u001b[1mwandb\u001b[0m: \tnum_layers: 3\n"
     ]
    },
    {
     "data": {
      "text/html": [
       "Tracking run with wandb version 0.19.9"
      ],
      "text/plain": [
       "<IPython.core.display.HTML object>"
      ]
     },
     "metadata": {},
     "output_type": "display_data"
    },
    {
     "data": {
      "text/html": [
       "Run data is saved locally in <code>/home/jovyan/DL_Project/wandb/run-20250414_190735-i7aise80</code>"
      ],
      "text/plain": [
       "<IPython.core.display.HTML object>"
      ]
     },
     "metadata": {},
     "output_type": "display_data"
    },
    {
     "data": {
      "text/html": [
       "Syncing run <strong><a href='https://wandb.ai/darrenchanyuhao-singapore-university-of-technology-and-d/DeepLearning%20Project/runs/i7aise80' target=\"_blank\">hardy-sweep-10</a></strong> to <a href='https://wandb.ai/darrenchanyuhao-singapore-university-of-technology-and-d/DeepLearning%20Project' target=\"_blank\">Weights & Biases</a> (<a href='https://wandb.me/developer-guide' target=\"_blank\">docs</a>)<br>Sweep page: <a href='https://wandb.ai/darrenchanyuhao-singapore-university-of-technology-and-d/DeepLearning%20Project/sweeps/fe6fgats' target=\"_blank\">https://wandb.ai/darrenchanyuhao-singapore-university-of-technology-and-d/DeepLearning%20Project/sweeps/fe6fgats</a>"
      ],
      "text/plain": [
       "<IPython.core.display.HTML object>"
      ]
     },
     "metadata": {},
     "output_type": "display_data"
    },
    {
     "data": {
      "text/html": [
       " View project at <a href='https://wandb.ai/darrenchanyuhao-singapore-university-of-technology-and-d/DeepLearning%20Project' target=\"_blank\">https://wandb.ai/darrenchanyuhao-singapore-university-of-technology-and-d/DeepLearning%20Project</a>"
      ],
      "text/plain": [
       "<IPython.core.display.HTML object>"
      ]
     },
     "metadata": {},
     "output_type": "display_data"
    },
    {
     "data": {
      "text/html": [
       " View sweep at <a href='https://wandb.ai/darrenchanyuhao-singapore-university-of-technology-and-d/DeepLearning%20Project/sweeps/fe6fgats' target=\"_blank\">https://wandb.ai/darrenchanyuhao-singapore-university-of-technology-and-d/DeepLearning%20Project/sweeps/fe6fgats</a>"
      ],
      "text/plain": [
       "<IPython.core.display.HTML object>"
      ]
     },
     "metadata": {},
     "output_type": "display_data"
    },
    {
     "data": {
      "text/html": [
       " View run at <a href='https://wandb.ai/darrenchanyuhao-singapore-university-of-technology-and-d/DeepLearning%20Project/runs/i7aise80' target=\"_blank\">https://wandb.ai/darrenchanyuhao-singapore-university-of-technology-and-d/DeepLearning%20Project/runs/i7aise80</a>"
      ],
      "text/plain": [
       "<IPython.core.display.HTML object>"
      ]
     },
     "metadata": {},
     "output_type": "display_data"
    },
    {
     "name": "stdout",
     "output_type": "stream",
     "text": [
      "Epoch 1/300, Loss: 0.023433\n",
      "Epoch 51/300, Loss: 0.006153\n",
      "Epoch 101/300, Loss: 0.003062\n",
      "Epoch 151/300, Loss: 0.001319\n",
      "Epoch 201/300, Loss: 0.000403\n",
      "Epoch 251/300, Loss: 0.000240\n",
      "Epoch 300/300, Loss: 0.000251\n"
     ]
    },
    {
     "data": {
      "text/html": [],
      "text/plain": [
       "<IPython.core.display.HTML object>"
      ]
     },
     "metadata": {},
     "output_type": "display_data"
    },
    {
     "data": {
      "text/html": [
       "<br>    <style><br>        .wandb-row {<br>            display: flex;<br>            flex-direction: row;<br>            flex-wrap: wrap;<br>            justify-content: flex-start;<br>            width: 100%;<br>        }<br>        .wandb-col {<br>            display: flex;<br>            flex-direction: column;<br>            flex-basis: 100%;<br>            flex: 1;<br>            padding: 10px;<br>        }<br>    </style><br><div class=\"wandb-row\"><div class=\"wandb-col\"><h3>Run history:</h3><br/><table class=\"wandb\"><tr><td>epoch</td><td>▁▁▁▂▂▂▂▂▂▂▂▃▃▃▃▃▃▄▄▄▄▄▅▅▅▅▅▆▆▆▆▇▇▇▇█████</td></tr><tr><td>loss</td><td>██▇▇▆▆▅▆▅▅▅▄▅▄▄▃▃▃▂▂▂▂▂▂▂▁▂▁▁▁▁▁▁▁▁▁▁▁▁▁</td></tr></table><br/></div><div class=\"wandb-col\"><h3>Run summary:</h3><br/><table class=\"wandb\"><tr><td>epoch</td><td>299</td></tr><tr><td>loss</td><td>0.00025</td></tr></table><br/></div></div>"
      ],
      "text/plain": [
       "<IPython.core.display.HTML object>"
      ]
     },
     "metadata": {},
     "output_type": "display_data"
    },
    {
     "data": {
      "text/html": [
       " View run <strong style=\"color:#cdcd00\">hardy-sweep-10</strong> at: <a href='https://wandb.ai/darrenchanyuhao-singapore-university-of-technology-and-d/DeepLearning%20Project/runs/i7aise80' target=\"_blank\">https://wandb.ai/darrenchanyuhao-singapore-university-of-technology-and-d/DeepLearning%20Project/runs/i7aise80</a><br> View project at: <a href='https://wandb.ai/darrenchanyuhao-singapore-university-of-technology-and-d/DeepLearning%20Project' target=\"_blank\">https://wandb.ai/darrenchanyuhao-singapore-university-of-technology-and-d/DeepLearning%20Project</a><br>Synced 5 W&B file(s), 0 media file(s), 0 artifact file(s) and 0 other file(s)"
      ],
      "text/plain": [
       "<IPython.core.display.HTML object>"
      ]
     },
     "metadata": {},
     "output_type": "display_data"
    },
    {
     "data": {
      "text/html": [
       "Find logs at: <code>./wandb/run-20250414_190735-i7aise80/logs</code>"
      ],
      "text/plain": [
       "<IPython.core.display.HTML object>"
      ]
     },
     "metadata": {},
     "output_type": "display_data"
    },
    {
     "name": "stderr",
     "output_type": "stream",
     "text": [
      "\u001b[34m\u001b[1mwandb\u001b[0m: Agent Starting Run: jrokk55d with config:\n",
      "\u001b[34m\u001b[1mwandb\u001b[0m: \thidden_size: 256\n",
      "\u001b[34m\u001b[1mwandb\u001b[0m: \tlearning_rate: 0.0012486355677667\n",
      "\u001b[34m\u001b[1mwandb\u001b[0m: \tnum_epochs: 500\n",
      "\u001b[34m\u001b[1mwandb\u001b[0m: \tnum_layers: 1\n"
     ]
    },
    {
     "data": {
      "text/html": [
       "Tracking run with wandb version 0.19.9"
      ],
      "text/plain": [
       "<IPython.core.display.HTML object>"
      ]
     },
     "metadata": {},
     "output_type": "display_data"
    },
    {
     "data": {
      "text/html": [
       "Run data is saved locally in <code>/home/jovyan/DL_Project/wandb/run-20250414_190823-jrokk55d</code>"
      ],
      "text/plain": [
       "<IPython.core.display.HTML object>"
      ]
     },
     "metadata": {},
     "output_type": "display_data"
    },
    {
     "data": {
      "text/html": [
       "Syncing run <strong><a href='https://wandb.ai/darrenchanyuhao-singapore-university-of-technology-and-d/DeepLearning%20Project/runs/jrokk55d' target=\"_blank\">super-sweep-11</a></strong> to <a href='https://wandb.ai/darrenchanyuhao-singapore-university-of-technology-and-d/DeepLearning%20Project' target=\"_blank\">Weights & Biases</a> (<a href='https://wandb.me/developer-guide' target=\"_blank\">docs</a>)<br>Sweep page: <a href='https://wandb.ai/darrenchanyuhao-singapore-university-of-technology-and-d/DeepLearning%20Project/sweeps/fe6fgats' target=\"_blank\">https://wandb.ai/darrenchanyuhao-singapore-university-of-technology-and-d/DeepLearning%20Project/sweeps/fe6fgats</a>"
      ],
      "text/plain": [
       "<IPython.core.display.HTML object>"
      ]
     },
     "metadata": {},
     "output_type": "display_data"
    },
    {
     "data": {
      "text/html": [
       " View project at <a href='https://wandb.ai/darrenchanyuhao-singapore-university-of-technology-and-d/DeepLearning%20Project' target=\"_blank\">https://wandb.ai/darrenchanyuhao-singapore-university-of-technology-and-d/DeepLearning%20Project</a>"
      ],
      "text/plain": [
       "<IPython.core.display.HTML object>"
      ]
     },
     "metadata": {},
     "output_type": "display_data"
    },
    {
     "data": {
      "text/html": [
       " View sweep at <a href='https://wandb.ai/darrenchanyuhao-singapore-university-of-technology-and-d/DeepLearning%20Project/sweeps/fe6fgats' target=\"_blank\">https://wandb.ai/darrenchanyuhao-singapore-university-of-technology-and-d/DeepLearning%20Project/sweeps/fe6fgats</a>"
      ],
      "text/plain": [
       "<IPython.core.display.HTML object>"
      ]
     },
     "metadata": {},
     "output_type": "display_data"
    },
    {
     "data": {
      "text/html": [
       " View run at <a href='https://wandb.ai/darrenchanyuhao-singapore-university-of-technology-and-d/DeepLearning%20Project/runs/jrokk55d' target=\"_blank\">https://wandb.ai/darrenchanyuhao-singapore-university-of-technology-and-d/DeepLearning%20Project/runs/jrokk55d</a>"
      ],
      "text/plain": [
       "<IPython.core.display.HTML object>"
      ]
     },
     "metadata": {},
     "output_type": "display_data"
    },
    {
     "name": "stdout",
     "output_type": "stream",
     "text": [
      "Epoch 1/500, Loss: 0.018938\n",
      "Epoch 51/500, Loss: 0.006096\n",
      "Epoch 101/500, Loss: 0.005892\n",
      "Epoch 151/500, Loss: 0.004410\n",
      "Epoch 201/500, Loss: 0.003786\n",
      "Epoch 251/500, Loss: 0.003224\n",
      "Epoch 301/500, Loss: 0.001782\n",
      "Epoch 351/500, Loss: 0.001282\n",
      "Epoch 401/500, Loss: 0.001021\n",
      "Epoch 451/500, Loss: 0.000740\n",
      "Epoch 500/500, Loss: 0.000718\n"
     ]
    },
    {
     "data": {
      "text/html": [],
      "text/plain": [
       "<IPython.core.display.HTML object>"
      ]
     },
     "metadata": {},
     "output_type": "display_data"
    },
    {
     "data": {
      "text/html": [
       "<br>    <style><br>        .wandb-row {<br>            display: flex;<br>            flex-direction: row;<br>            flex-wrap: wrap;<br>            justify-content: flex-start;<br>            width: 100%;<br>        }<br>        .wandb-col {<br>            display: flex;<br>            flex-direction: column;<br>            flex-basis: 100%;<br>            flex: 1;<br>            padding: 10px;<br>        }<br>    </style><br><div class=\"wandb-row\"><div class=\"wandb-col\"><h3>Run history:</h3><br/><table class=\"wandb\"><tr><td>epoch</td><td>▁▁▁▁▁▂▂▂▂▂▃▃▃▃▃▄▄▄▄▄▄▄▅▅▅▆▆▆▆▇▇▇▇▇▇█████</td></tr><tr><td>loss</td><td>█▇▇▇▇▇▆▅▅▅▅▄▅▄▄▄▄▄▄▄▃▃▃▃▂▂▂▂▂▂▂▂▁▂▂▁▁▁▁▁</td></tr></table><br/></div><div class=\"wandb-col\"><h3>Run summary:</h3><br/><table class=\"wandb\"><tr><td>epoch</td><td>499</td></tr><tr><td>loss</td><td>0.00072</td></tr></table><br/></div></div>"
      ],
      "text/plain": [
       "<IPython.core.display.HTML object>"
      ]
     },
     "metadata": {},
     "output_type": "display_data"
    },
    {
     "data": {
      "text/html": [
       " View run <strong style=\"color:#cdcd00\">super-sweep-11</strong> at: <a href='https://wandb.ai/darrenchanyuhao-singapore-university-of-technology-and-d/DeepLearning%20Project/runs/jrokk55d' target=\"_blank\">https://wandb.ai/darrenchanyuhao-singapore-university-of-technology-and-d/DeepLearning%20Project/runs/jrokk55d</a><br> View project at: <a href='https://wandb.ai/darrenchanyuhao-singapore-university-of-technology-and-d/DeepLearning%20Project' target=\"_blank\">https://wandb.ai/darrenchanyuhao-singapore-university-of-technology-and-d/DeepLearning%20Project</a><br>Synced 5 W&B file(s), 0 media file(s), 0 artifact file(s) and 0 other file(s)"
      ],
      "text/plain": [
       "<IPython.core.display.HTML object>"
      ]
     },
     "metadata": {},
     "output_type": "display_data"
    },
    {
     "data": {
      "text/html": [
       "Find logs at: <code>./wandb/run-20250414_190823-jrokk55d/logs</code>"
      ],
      "text/plain": [
       "<IPython.core.display.HTML object>"
      ]
     },
     "metadata": {},
     "output_type": "display_data"
    },
    {
     "name": "stderr",
     "output_type": "stream",
     "text": [
      "\u001b[34m\u001b[1mwandb\u001b[0m: Agent Starting Run: l6j3o85c with config:\n",
      "\u001b[34m\u001b[1mwandb\u001b[0m: \thidden_size: 64\n",
      "\u001b[34m\u001b[1mwandb\u001b[0m: \tlearning_rate: 0.0016927739077731783\n",
      "\u001b[34m\u001b[1mwandb\u001b[0m: \tnum_epochs: 1000\n",
      "\u001b[34m\u001b[1mwandb\u001b[0m: \tnum_layers: 1\n"
     ]
    },
    {
     "data": {
      "text/html": [
       "Tracking run with wandb version 0.19.9"
      ],
      "text/plain": [
       "<IPython.core.display.HTML object>"
      ]
     },
     "metadata": {},
     "output_type": "display_data"
    },
    {
     "data": {
      "text/html": [
       "Run data is saved locally in <code>/home/jovyan/DL_Project/wandb/run-20250414_190951-l6j3o85c</code>"
      ],
      "text/plain": [
       "<IPython.core.display.HTML object>"
      ]
     },
     "metadata": {},
     "output_type": "display_data"
    },
    {
     "data": {
      "text/html": [
       "Syncing run <strong><a href='https://wandb.ai/darrenchanyuhao-singapore-university-of-technology-and-d/DeepLearning%20Project/runs/l6j3o85c' target=\"_blank\">true-sweep-12</a></strong> to <a href='https://wandb.ai/darrenchanyuhao-singapore-university-of-technology-and-d/DeepLearning%20Project' target=\"_blank\">Weights & Biases</a> (<a href='https://wandb.me/developer-guide' target=\"_blank\">docs</a>)<br>Sweep page: <a href='https://wandb.ai/darrenchanyuhao-singapore-university-of-technology-and-d/DeepLearning%20Project/sweeps/fe6fgats' target=\"_blank\">https://wandb.ai/darrenchanyuhao-singapore-university-of-technology-and-d/DeepLearning%20Project/sweeps/fe6fgats</a>"
      ],
      "text/plain": [
       "<IPython.core.display.HTML object>"
      ]
     },
     "metadata": {},
     "output_type": "display_data"
    },
    {
     "data": {
      "text/html": [
       " View project at <a href='https://wandb.ai/darrenchanyuhao-singapore-university-of-technology-and-d/DeepLearning%20Project' target=\"_blank\">https://wandb.ai/darrenchanyuhao-singapore-university-of-technology-and-d/DeepLearning%20Project</a>"
      ],
      "text/plain": [
       "<IPython.core.display.HTML object>"
      ]
     },
     "metadata": {},
     "output_type": "display_data"
    },
    {
     "data": {
      "text/html": [
       " View sweep at <a href='https://wandb.ai/darrenchanyuhao-singapore-university-of-technology-and-d/DeepLearning%20Project/sweeps/fe6fgats' target=\"_blank\">https://wandb.ai/darrenchanyuhao-singapore-university-of-technology-and-d/DeepLearning%20Project/sweeps/fe6fgats</a>"
      ],
      "text/plain": [
       "<IPython.core.display.HTML object>"
      ]
     },
     "metadata": {},
     "output_type": "display_data"
    },
    {
     "data": {
      "text/html": [
       " View run at <a href='https://wandb.ai/darrenchanyuhao-singapore-university-of-technology-and-d/DeepLearning%20Project/runs/l6j3o85c' target=\"_blank\">https://wandb.ai/darrenchanyuhao-singapore-university-of-technology-and-d/DeepLearning%20Project/runs/l6j3o85c</a>"
      ],
      "text/plain": [
       "<IPython.core.display.HTML object>"
      ]
     },
     "metadata": {},
     "output_type": "display_data"
    },
    {
     "name": "stdout",
     "output_type": "stream",
     "text": [
      "Epoch 1/1000, Loss: 0.020901\n",
      "Epoch 51/1000, Loss: 0.005894\n",
      "Epoch 101/1000, Loss: 0.004934\n",
      "Epoch 151/1000, Loss: 0.004002\n",
      "Epoch 201/1000, Loss: 0.002787\n",
      "Epoch 251/1000, Loss: 0.002276\n",
      "Epoch 301/1000, Loss: 0.001564\n",
      "Epoch 351/1000, Loss: 0.001472\n",
      "Epoch 401/1000, Loss: 0.001217\n",
      "Epoch 451/1000, Loss: 0.000814\n",
      "Epoch 501/1000, Loss: 0.000658\n",
      "Epoch 551/1000, Loss: 0.000476\n",
      "Epoch 601/1000, Loss: 0.000373\n",
      "Epoch 651/1000, Loss: 0.000360\n",
      "Epoch 701/1000, Loss: 0.000264\n",
      "Epoch 751/1000, Loss: 0.000374\n",
      "Epoch 801/1000, Loss: 0.000240\n",
      "Epoch 851/1000, Loss: 0.000478\n",
      "Epoch 901/1000, Loss: 0.000171\n",
      "Epoch 951/1000, Loss: 0.000186\n",
      "Epoch 1000/1000, Loss: 0.000311\n"
     ]
    },
    {
     "data": {
      "text/html": [],
      "text/plain": [
       "<IPython.core.display.HTML object>"
      ]
     },
     "metadata": {},
     "output_type": "display_data"
    },
    {
     "data": {
      "text/html": [
       "<br>    <style><br>        .wandb-row {<br>            display: flex;<br>            flex-direction: row;<br>            flex-wrap: wrap;<br>            justify-content: flex-start;<br>            width: 100%;<br>        }<br>        .wandb-col {<br>            display: flex;<br>            flex-direction: column;<br>            flex-basis: 100%;<br>            flex: 1;<br>            padding: 10px;<br>        }<br>    </style><br><div class=\"wandb-row\"><div class=\"wandb-col\"><h3>Run history:</h3><br/><table class=\"wandb\"><tr><td>epoch</td><td>▁▁▁▁▂▂▂▂▃▃▃▃▃▃▄▄▄▄▄▄▅▅▅▅▆▆▆▆▆▇▇▇▇▇▇█████</td></tr><tr><td>loss</td><td>█▇▇▇▆▆▆▅▄▄▄▃▃▃▂▂▂▂▂▁▂▁▂▁▁▂▁▁▁▁▁▁▁▁▁▁▁▁▁▁</td></tr></table><br/></div><div class=\"wandb-col\"><h3>Run summary:</h3><br/><table class=\"wandb\"><tr><td>epoch</td><td>999</td></tr><tr><td>loss</td><td>0.00031</td></tr></table><br/></div></div>"
      ],
      "text/plain": [
       "<IPython.core.display.HTML object>"
      ]
     },
     "metadata": {},
     "output_type": "display_data"
    },
    {
     "data": {
      "text/html": [
       " View run <strong style=\"color:#cdcd00\">true-sweep-12</strong> at: <a href='https://wandb.ai/darrenchanyuhao-singapore-university-of-technology-and-d/DeepLearning%20Project/runs/l6j3o85c' target=\"_blank\">https://wandb.ai/darrenchanyuhao-singapore-university-of-technology-and-d/DeepLearning%20Project/runs/l6j3o85c</a><br> View project at: <a href='https://wandb.ai/darrenchanyuhao-singapore-university-of-technology-and-d/DeepLearning%20Project' target=\"_blank\">https://wandb.ai/darrenchanyuhao-singapore-university-of-technology-and-d/DeepLearning%20Project</a><br>Synced 5 W&B file(s), 0 media file(s), 0 artifact file(s) and 0 other file(s)"
      ],
      "text/plain": [
       "<IPython.core.display.HTML object>"
      ]
     },
     "metadata": {},
     "output_type": "display_data"
    },
    {
     "data": {
      "text/html": [
       "Find logs at: <code>./wandb/run-20250414_190951-l6j3o85c/logs</code>"
      ],
      "text/plain": [
       "<IPython.core.display.HTML object>"
      ]
     },
     "metadata": {},
     "output_type": "display_data"
    },
    {
     "name": "stderr",
     "output_type": "stream",
     "text": [
      "\u001b[34m\u001b[1mwandb\u001b[0m: Sweep Agent: Waiting for job.\n",
      "\u001b[34m\u001b[1mwandb\u001b[0m: Job received.\n",
      "\u001b[34m\u001b[1mwandb\u001b[0m: Agent Starting Run: 27dvgp9j with config:\n",
      "\u001b[34m\u001b[1mwandb\u001b[0m: \thidden_size: 64\n",
      "\u001b[34m\u001b[1mwandb\u001b[0m: \tlearning_rate: 0.00266899012927148\n",
      "\u001b[34m\u001b[1mwandb\u001b[0m: \tnum_epochs: 1000\n",
      "\u001b[34m\u001b[1mwandb\u001b[0m: \tnum_layers: 1\n"
     ]
    },
    {
     "data": {
      "text/html": [
       "Tracking run with wandb version 0.19.9"
      ],
      "text/plain": [
       "<IPython.core.display.HTML object>"
      ]
     },
     "metadata": {},
     "output_type": "display_data"
    },
    {
     "data": {
      "text/html": [
       "Run data is saved locally in <code>/home/jovyan/DL_Project/wandb/run-20250414_191146-27dvgp9j</code>"
      ],
      "text/plain": [
       "<IPython.core.display.HTML object>"
      ]
     },
     "metadata": {},
     "output_type": "display_data"
    },
    {
     "data": {
      "text/html": [
       "Syncing run <strong><a href='https://wandb.ai/darrenchanyuhao-singapore-university-of-technology-and-d/DeepLearning%20Project/runs/27dvgp9j' target=\"_blank\">playful-sweep-13</a></strong> to <a href='https://wandb.ai/darrenchanyuhao-singapore-university-of-technology-and-d/DeepLearning%20Project' target=\"_blank\">Weights & Biases</a> (<a href='https://wandb.me/developer-guide' target=\"_blank\">docs</a>)<br>Sweep page: <a href='https://wandb.ai/darrenchanyuhao-singapore-university-of-technology-and-d/DeepLearning%20Project/sweeps/fe6fgats' target=\"_blank\">https://wandb.ai/darrenchanyuhao-singapore-university-of-technology-and-d/DeepLearning%20Project/sweeps/fe6fgats</a>"
      ],
      "text/plain": [
       "<IPython.core.display.HTML object>"
      ]
     },
     "metadata": {},
     "output_type": "display_data"
    },
    {
     "data": {
      "text/html": [
       " View project at <a href='https://wandb.ai/darrenchanyuhao-singapore-university-of-technology-and-d/DeepLearning%20Project' target=\"_blank\">https://wandb.ai/darrenchanyuhao-singapore-university-of-technology-and-d/DeepLearning%20Project</a>"
      ],
      "text/plain": [
       "<IPython.core.display.HTML object>"
      ]
     },
     "metadata": {},
     "output_type": "display_data"
    },
    {
     "data": {
      "text/html": [
       " View sweep at <a href='https://wandb.ai/darrenchanyuhao-singapore-university-of-technology-and-d/DeepLearning%20Project/sweeps/fe6fgats' target=\"_blank\">https://wandb.ai/darrenchanyuhao-singapore-university-of-technology-and-d/DeepLearning%20Project/sweeps/fe6fgats</a>"
      ],
      "text/plain": [
       "<IPython.core.display.HTML object>"
      ]
     },
     "metadata": {},
     "output_type": "display_data"
    },
    {
     "data": {
      "text/html": [
       " View run at <a href='https://wandb.ai/darrenchanyuhao-singapore-university-of-technology-and-d/DeepLearning%20Project/runs/27dvgp9j' target=\"_blank\">https://wandb.ai/darrenchanyuhao-singapore-university-of-technology-and-d/DeepLearning%20Project/runs/27dvgp9j</a>"
      ],
      "text/plain": [
       "<IPython.core.display.HTML object>"
      ]
     },
     "metadata": {},
     "output_type": "display_data"
    },
    {
     "name": "stdout",
     "output_type": "stream",
     "text": [
      "Epoch 1/1000, Loss: 0.018729\n",
      "Epoch 51/1000, Loss: 0.006006\n",
      "Epoch 101/1000, Loss: 0.005073\n",
      "Epoch 151/1000, Loss: 0.004079\n",
      "Epoch 201/1000, Loss: 0.003366\n",
      "Epoch 251/1000, Loss: 0.002562\n",
      "Epoch 301/1000, Loss: 0.001743\n",
      "Epoch 351/1000, Loss: 0.001476\n",
      "Epoch 401/1000, Loss: 0.001500\n",
      "Epoch 451/1000, Loss: 0.001520\n",
      "Epoch 501/1000, Loss: 0.000606\n",
      "Epoch 551/1000, Loss: 0.000584\n",
      "Epoch 601/1000, Loss: 0.000657\n",
      "Epoch 651/1000, Loss: 0.000480\n",
      "Epoch 701/1000, Loss: 0.000432\n",
      "Epoch 751/1000, Loss: 0.000462\n",
      "Epoch 801/1000, Loss: 0.000459\n",
      "Epoch 851/1000, Loss: 0.000340\n",
      "Epoch 901/1000, Loss: 0.000480\n",
      "Epoch 951/1000, Loss: 0.000419\n",
      "Epoch 1000/1000, Loss: 0.000172\n"
     ]
    },
    {
     "data": {
      "text/html": [],
      "text/plain": [
       "<IPython.core.display.HTML object>"
      ]
     },
     "metadata": {},
     "output_type": "display_data"
    },
    {
     "data": {
      "text/html": [
       "<br>    <style><br>        .wandb-row {<br>            display: flex;<br>            flex-direction: row;<br>            flex-wrap: wrap;<br>            justify-content: flex-start;<br>            width: 100%;<br>        }<br>        .wandb-col {<br>            display: flex;<br>            flex-direction: column;<br>            flex-basis: 100%;<br>            flex: 1;<br>            padding: 10px;<br>        }<br>    </style><br><div class=\"wandb-row\"><div class=\"wandb-col\"><h3>Run history:</h3><br/><table class=\"wandb\"><tr><td>epoch</td><td>▁▁▁▁▂▂▂▂▂▂▃▃▃▃▃▃▄▄▄▄▄▄▄▅▅▅▅▆▆▆▆▇▇▇▇▇▇███</td></tr><tr><td>loss</td><td>█▅▅▅▄▄▄▄▄▄▃▃▃▃▃▂▂▂▂▂▂▁▂▁▁▁▁▁▁▁▁▁▁▁▁▁▁▁▁▁</td></tr></table><br/></div><div class=\"wandb-col\"><h3>Run summary:</h3><br/><table class=\"wandb\"><tr><td>epoch</td><td>999</td></tr><tr><td>loss</td><td>0.00017</td></tr></table><br/></div></div>"
      ],
      "text/plain": [
       "<IPython.core.display.HTML object>"
      ]
     },
     "metadata": {},
     "output_type": "display_data"
    },
    {
     "data": {
      "text/html": [
       " View run <strong style=\"color:#cdcd00\">playful-sweep-13</strong> at: <a href='https://wandb.ai/darrenchanyuhao-singapore-university-of-technology-and-d/DeepLearning%20Project/runs/27dvgp9j' target=\"_blank\">https://wandb.ai/darrenchanyuhao-singapore-university-of-technology-and-d/DeepLearning%20Project/runs/27dvgp9j</a><br> View project at: <a href='https://wandb.ai/darrenchanyuhao-singapore-university-of-technology-and-d/DeepLearning%20Project' target=\"_blank\">https://wandb.ai/darrenchanyuhao-singapore-university-of-technology-and-d/DeepLearning%20Project</a><br>Synced 5 W&B file(s), 0 media file(s), 0 artifact file(s) and 0 other file(s)"
      ],
      "text/plain": [
       "<IPython.core.display.HTML object>"
      ]
     },
     "metadata": {},
     "output_type": "display_data"
    },
    {
     "data": {
      "text/html": [
       "Find logs at: <code>./wandb/run-20250414_191146-27dvgp9j/logs</code>"
      ],
      "text/plain": [
       "<IPython.core.display.HTML object>"
      ]
     },
     "metadata": {},
     "output_type": "display_data"
    },
    {
     "name": "stderr",
     "output_type": "stream",
     "text": [
      "\u001b[34m\u001b[1mwandb\u001b[0m: Agent Starting Run: k2kmeott with config:\n",
      "\u001b[34m\u001b[1mwandb\u001b[0m: \thidden_size: 64\n",
      "\u001b[34m\u001b[1mwandb\u001b[0m: \tlearning_rate: 0.004722567174197851\n",
      "\u001b[34m\u001b[1mwandb\u001b[0m: \tnum_epochs: 500\n",
      "\u001b[34m\u001b[1mwandb\u001b[0m: \tnum_layers: 1\n"
     ]
    },
    {
     "data": {
      "text/html": [
       "Tracking run with wandb version 0.19.9"
      ],
      "text/plain": [
       "<IPython.core.display.HTML object>"
      ]
     },
     "metadata": {},
     "output_type": "display_data"
    },
    {
     "data": {
      "text/html": [
       "Run data is saved locally in <code>/home/jovyan/DL_Project/wandb/run-20250414_191332-k2kmeott</code>"
      ],
      "text/plain": [
       "<IPython.core.display.HTML object>"
      ]
     },
     "metadata": {},
     "output_type": "display_data"
    },
    {
     "data": {
      "text/html": [
       "Syncing run <strong><a href='https://wandb.ai/darrenchanyuhao-singapore-university-of-technology-and-d/DeepLearning%20Project/runs/k2kmeott' target=\"_blank\">fragrant-sweep-14</a></strong> to <a href='https://wandb.ai/darrenchanyuhao-singapore-university-of-technology-and-d/DeepLearning%20Project' target=\"_blank\">Weights & Biases</a> (<a href='https://wandb.me/developer-guide' target=\"_blank\">docs</a>)<br>Sweep page: <a href='https://wandb.ai/darrenchanyuhao-singapore-university-of-technology-and-d/DeepLearning%20Project/sweeps/fe6fgats' target=\"_blank\">https://wandb.ai/darrenchanyuhao-singapore-university-of-technology-and-d/DeepLearning%20Project/sweeps/fe6fgats</a>"
      ],
      "text/plain": [
       "<IPython.core.display.HTML object>"
      ]
     },
     "metadata": {},
     "output_type": "display_data"
    },
    {
     "data": {
      "text/html": [
       " View project at <a href='https://wandb.ai/darrenchanyuhao-singapore-university-of-technology-and-d/DeepLearning%20Project' target=\"_blank\">https://wandb.ai/darrenchanyuhao-singapore-university-of-technology-and-d/DeepLearning%20Project</a>"
      ],
      "text/plain": [
       "<IPython.core.display.HTML object>"
      ]
     },
     "metadata": {},
     "output_type": "display_data"
    },
    {
     "data": {
      "text/html": [
       " View sweep at <a href='https://wandb.ai/darrenchanyuhao-singapore-university-of-technology-and-d/DeepLearning%20Project/sweeps/fe6fgats' target=\"_blank\">https://wandb.ai/darrenchanyuhao-singapore-university-of-technology-and-d/DeepLearning%20Project/sweeps/fe6fgats</a>"
      ],
      "text/plain": [
       "<IPython.core.display.HTML object>"
      ]
     },
     "metadata": {},
     "output_type": "display_data"
    },
    {
     "data": {
      "text/html": [
       " View run at <a href='https://wandb.ai/darrenchanyuhao-singapore-university-of-technology-and-d/DeepLearning%20Project/runs/k2kmeott' target=\"_blank\">https://wandb.ai/darrenchanyuhao-singapore-university-of-technology-and-d/DeepLearning%20Project/runs/k2kmeott</a>"
      ],
      "text/plain": [
       "<IPython.core.display.HTML object>"
      ]
     },
     "metadata": {},
     "output_type": "display_data"
    },
    {
     "name": "stdout",
     "output_type": "stream",
     "text": [
      "Epoch 1/500, Loss: 0.020423\n",
      "Epoch 51/500, Loss: 0.006328\n",
      "Epoch 101/500, Loss: 0.005198\n",
      "Epoch 151/500, Loss: 0.004679\n",
      "Epoch 201/500, Loss: 0.003356\n",
      "Epoch 251/500, Loss: 0.002343\n",
      "Epoch 301/500, Loss: 0.002143\n",
      "Epoch 351/500, Loss: 0.001399\n",
      "Epoch 401/500, Loss: 0.001181\n",
      "Epoch 451/500, Loss: 0.001267\n",
      "Epoch 500/500, Loss: 0.001282\n"
     ]
    },
    {
     "data": {
      "text/html": [],
      "text/plain": [
       "<IPython.core.display.HTML object>"
      ]
     },
     "metadata": {},
     "output_type": "display_data"
    },
    {
     "data": {
      "text/html": [
       "<br>    <style><br>        .wandb-row {<br>            display: flex;<br>            flex-direction: row;<br>            flex-wrap: wrap;<br>            justify-content: flex-start;<br>            width: 100%;<br>        }<br>        .wandb-col {<br>            display: flex;<br>            flex-direction: column;<br>            flex-basis: 100%;<br>            flex: 1;<br>            padding: 10px;<br>        }<br>    </style><br><div class=\"wandb-row\"><div class=\"wandb-col\"><h3>Run history:</h3><br/><table class=\"wandb\"><tr><td>epoch</td><td>▁▁▁▂▂▂▂▃▃▃▃▃▄▄▄▄▄▄▅▅▅▅▅▅▅▅▅▆▆▆▆▆▇▇▇▇▇▇██</td></tr><tr><td>loss</td><td>█▃▃▃▃▃▃▃▃▃▂▂▂▂▂▂▂▂▂▂▂▁▁▁▁▁▁▁▁▁▁▁▁▁▁▁▁▁▁▁</td></tr></table><br/></div><div class=\"wandb-col\"><h3>Run summary:</h3><br/><table class=\"wandb\"><tr><td>epoch</td><td>499</td></tr><tr><td>loss</td><td>0.00128</td></tr></table><br/></div></div>"
      ],
      "text/plain": [
       "<IPython.core.display.HTML object>"
      ]
     },
     "metadata": {},
     "output_type": "display_data"
    },
    {
     "data": {
      "text/html": [
       " View run <strong style=\"color:#cdcd00\">fragrant-sweep-14</strong> at: <a href='https://wandb.ai/darrenchanyuhao-singapore-university-of-technology-and-d/DeepLearning%20Project/runs/k2kmeott' target=\"_blank\">https://wandb.ai/darrenchanyuhao-singapore-university-of-technology-and-d/DeepLearning%20Project/runs/k2kmeott</a><br> View project at: <a href='https://wandb.ai/darrenchanyuhao-singapore-university-of-technology-and-d/DeepLearning%20Project' target=\"_blank\">https://wandb.ai/darrenchanyuhao-singapore-university-of-technology-and-d/DeepLearning%20Project</a><br>Synced 5 W&B file(s), 0 media file(s), 0 artifact file(s) and 0 other file(s)"
      ],
      "text/plain": [
       "<IPython.core.display.HTML object>"
      ]
     },
     "metadata": {},
     "output_type": "display_data"
    },
    {
     "data": {
      "text/html": [
       "Find logs at: <code>./wandb/run-20250414_191332-k2kmeott/logs</code>"
      ],
      "text/plain": [
       "<IPython.core.display.HTML object>"
      ]
     },
     "metadata": {},
     "output_type": "display_data"
    },
    {
     "name": "stderr",
     "output_type": "stream",
     "text": [
      "\u001b[34m\u001b[1mwandb\u001b[0m: Sweep Agent: Waiting for job.\n",
      "\u001b[34m\u001b[1mwandb\u001b[0m: Job received.\n",
      "\u001b[34m\u001b[1mwandb\u001b[0m: Agent Starting Run: sh291mvv with config:\n",
      "\u001b[34m\u001b[1mwandb\u001b[0m: \thidden_size: 128\n",
      "\u001b[34m\u001b[1mwandb\u001b[0m: \tlearning_rate: 0.0019307308447955496\n",
      "\u001b[34m\u001b[1mwandb\u001b[0m: \tnum_epochs: 1000\n",
      "\u001b[34m\u001b[1mwandb\u001b[0m: \tnum_layers: 1\n"
     ]
    },
    {
     "data": {
      "text/html": [
       "Tracking run with wandb version 0.19.9"
      ],
      "text/plain": [
       "<IPython.core.display.HTML object>"
      ]
     },
     "metadata": {},
     "output_type": "display_data"
    },
    {
     "data": {
      "text/html": [
       "Run data is saved locally in <code>/home/jovyan/DL_Project/wandb/run-20250414_191537-sh291mvv</code>"
      ],
      "text/plain": [
       "<IPython.core.display.HTML object>"
      ]
     },
     "metadata": {},
     "output_type": "display_data"
    },
    {
     "data": {
      "text/html": [
       "Syncing run <strong><a href='https://wandb.ai/darrenchanyuhao-singapore-university-of-technology-and-d/DeepLearning%20Project/runs/sh291mvv' target=\"_blank\">lemon-sweep-15</a></strong> to <a href='https://wandb.ai/darrenchanyuhao-singapore-university-of-technology-and-d/DeepLearning%20Project' target=\"_blank\">Weights & Biases</a> (<a href='https://wandb.me/developer-guide' target=\"_blank\">docs</a>)<br>Sweep page: <a href='https://wandb.ai/darrenchanyuhao-singapore-university-of-technology-and-d/DeepLearning%20Project/sweeps/fe6fgats' target=\"_blank\">https://wandb.ai/darrenchanyuhao-singapore-university-of-technology-and-d/DeepLearning%20Project/sweeps/fe6fgats</a>"
      ],
      "text/plain": [
       "<IPython.core.display.HTML object>"
      ]
     },
     "metadata": {},
     "output_type": "display_data"
    },
    {
     "data": {
      "text/html": [
       " View project at <a href='https://wandb.ai/darrenchanyuhao-singapore-university-of-technology-and-d/DeepLearning%20Project' target=\"_blank\">https://wandb.ai/darrenchanyuhao-singapore-university-of-technology-and-d/DeepLearning%20Project</a>"
      ],
      "text/plain": [
       "<IPython.core.display.HTML object>"
      ]
     },
     "metadata": {},
     "output_type": "display_data"
    },
    {
     "data": {
      "text/html": [
       " View sweep at <a href='https://wandb.ai/darrenchanyuhao-singapore-university-of-technology-and-d/DeepLearning%20Project/sweeps/fe6fgats' target=\"_blank\">https://wandb.ai/darrenchanyuhao-singapore-university-of-technology-and-d/DeepLearning%20Project/sweeps/fe6fgats</a>"
      ],
      "text/plain": [
       "<IPython.core.display.HTML object>"
      ]
     },
     "metadata": {},
     "output_type": "display_data"
    },
    {
     "data": {
      "text/html": [
       " View run at <a href='https://wandb.ai/darrenchanyuhao-singapore-university-of-technology-and-d/DeepLearning%20Project/runs/sh291mvv' target=\"_blank\">https://wandb.ai/darrenchanyuhao-singapore-university-of-technology-and-d/DeepLearning%20Project/runs/sh291mvv</a>"
      ],
      "text/plain": [
       "<IPython.core.display.HTML object>"
      ]
     },
     "metadata": {},
     "output_type": "display_data"
    },
    {
     "name": "stdout",
     "output_type": "stream",
     "text": [
      "Epoch 1/1000, Loss: 0.017830\n",
      "Epoch 51/1000, Loss: 0.006120\n",
      "Epoch 101/1000, Loss: 0.005402\n",
      "Epoch 151/1000, Loss: 0.003828\n",
      "Epoch 201/1000, Loss: 0.002879\n",
      "Epoch 251/1000, Loss: 0.002018\n",
      "Epoch 301/1000, Loss: 0.001474\n",
      "Epoch 351/1000, Loss: 0.000970\n",
      "Epoch 401/1000, Loss: 0.000761\n",
      "Epoch 451/1000, Loss: 0.000472\n",
      "Epoch 501/1000, Loss: 0.000407\n",
      "Epoch 551/1000, Loss: 0.000574\n",
      "Epoch 601/1000, Loss: 0.000324\n",
      "Epoch 651/1000, Loss: 0.000429\n",
      "Epoch 701/1000, Loss: 0.000330\n",
      "Epoch 751/1000, Loss: 0.000182\n",
      "Epoch 801/1000, Loss: 0.000351\n",
      "Epoch 851/1000, Loss: 0.000252\n",
      "Epoch 901/1000, Loss: 0.000236\n",
      "Epoch 951/1000, Loss: 0.000225\n",
      "Epoch 1000/1000, Loss: 0.000110\n"
     ]
    },
    {
     "data": {
      "text/html": [],
      "text/plain": [
       "<IPython.core.display.HTML object>"
      ]
     },
     "metadata": {},
     "output_type": "display_data"
    },
    {
     "data": {
      "text/html": [
       "<br>    <style><br>        .wandb-row {<br>            display: flex;<br>            flex-direction: row;<br>            flex-wrap: wrap;<br>            justify-content: flex-start;<br>            width: 100%;<br>        }<br>        .wandb-col {<br>            display: flex;<br>            flex-direction: column;<br>            flex-basis: 100%;<br>            flex: 1;<br>            padding: 10px;<br>        }<br>    </style><br><div class=\"wandb-row\"><div class=\"wandb-col\"><h3>Run history:</h3><br/><table class=\"wandb\"><tr><td>epoch</td><td>▁▁▁▁▁▁▂▂▂▂▂▂▂▂▃▃▃▃▃▃▃▄▄▄▄▅▅▅▅▅▆▆▆▆▆▇▇███</td></tr><tr><td>loss</td><td>█▄▄▃▃▃▂▂▂▂▂▁▁▂▁▁▁▁▁▁▁▁▁▁▁▁▁▁▁▁▁▁▁▁▁▁▁▁▁▁</td></tr></table><br/></div><div class=\"wandb-col\"><h3>Run summary:</h3><br/><table class=\"wandb\"><tr><td>epoch</td><td>999</td></tr><tr><td>loss</td><td>0.00011</td></tr></table><br/></div></div>"
      ],
      "text/plain": [
       "<IPython.core.display.HTML object>"
      ]
     },
     "metadata": {},
     "output_type": "display_data"
    },
    {
     "data": {
      "text/html": [
       " View run <strong style=\"color:#cdcd00\">lemon-sweep-15</strong> at: <a href='https://wandb.ai/darrenchanyuhao-singapore-university-of-technology-and-d/DeepLearning%20Project/runs/sh291mvv' target=\"_blank\">https://wandb.ai/darrenchanyuhao-singapore-university-of-technology-and-d/DeepLearning%20Project/runs/sh291mvv</a><br> View project at: <a href='https://wandb.ai/darrenchanyuhao-singapore-university-of-technology-and-d/DeepLearning%20Project' target=\"_blank\">https://wandb.ai/darrenchanyuhao-singapore-university-of-technology-and-d/DeepLearning%20Project</a><br>Synced 5 W&B file(s), 0 media file(s), 0 artifact file(s) and 0 other file(s)"
      ],
      "text/plain": [
       "<IPython.core.display.HTML object>"
      ]
     },
     "metadata": {},
     "output_type": "display_data"
    },
    {
     "data": {
      "text/html": [
       "Find logs at: <code>./wandb/run-20250414_191537-sh291mvv/logs</code>"
      ],
      "text/plain": [
       "<IPython.core.display.HTML object>"
      ]
     },
     "metadata": {},
     "output_type": "display_data"
    },
    {
     "name": "stderr",
     "output_type": "stream",
     "text": [
      "\u001b[34m\u001b[1mwandb\u001b[0m: Agent Starting Run: xskwkopr with config:\n",
      "\u001b[34m\u001b[1mwandb\u001b[0m: \thidden_size: 256\n",
      "\u001b[34m\u001b[1mwandb\u001b[0m: \tlearning_rate: 0.0046455279583774885\n",
      "\u001b[34m\u001b[1mwandb\u001b[0m: \tnum_epochs: 300\n",
      "\u001b[34m\u001b[1mwandb\u001b[0m: \tnum_layers: 1\n"
     ]
    },
    {
     "data": {
      "text/html": [
       "Tracking run with wandb version 0.19.9"
      ],
      "text/plain": [
       "<IPython.core.display.HTML object>"
      ]
     },
     "metadata": {},
     "output_type": "display_data"
    },
    {
     "data": {
      "text/html": [
       "Run data is saved locally in <code>/home/jovyan/DL_Project/wandb/run-20250414_191724-xskwkopr</code>"
      ],
      "text/plain": [
       "<IPython.core.display.HTML object>"
      ]
     },
     "metadata": {},
     "output_type": "display_data"
    },
    {
     "data": {
      "text/html": [
       "Syncing run <strong><a href='https://wandb.ai/darrenchanyuhao-singapore-university-of-technology-and-d/DeepLearning%20Project/runs/xskwkopr' target=\"_blank\">restful-sweep-16</a></strong> to <a href='https://wandb.ai/darrenchanyuhao-singapore-university-of-technology-and-d/DeepLearning%20Project' target=\"_blank\">Weights & Biases</a> (<a href='https://wandb.me/developer-guide' target=\"_blank\">docs</a>)<br>Sweep page: <a href='https://wandb.ai/darrenchanyuhao-singapore-university-of-technology-and-d/DeepLearning%20Project/sweeps/fe6fgats' target=\"_blank\">https://wandb.ai/darrenchanyuhao-singapore-university-of-technology-and-d/DeepLearning%20Project/sweeps/fe6fgats</a>"
      ],
      "text/plain": [
       "<IPython.core.display.HTML object>"
      ]
     },
     "metadata": {},
     "output_type": "display_data"
    },
    {
     "data": {
      "text/html": [
       " View project at <a href='https://wandb.ai/darrenchanyuhao-singapore-university-of-technology-and-d/DeepLearning%20Project' target=\"_blank\">https://wandb.ai/darrenchanyuhao-singapore-university-of-technology-and-d/DeepLearning%20Project</a>"
      ],
      "text/plain": [
       "<IPython.core.display.HTML object>"
      ]
     },
     "metadata": {},
     "output_type": "display_data"
    },
    {
     "data": {
      "text/html": [
       " View sweep at <a href='https://wandb.ai/darrenchanyuhao-singapore-university-of-technology-and-d/DeepLearning%20Project/sweeps/fe6fgats' target=\"_blank\">https://wandb.ai/darrenchanyuhao-singapore-university-of-technology-and-d/DeepLearning%20Project/sweeps/fe6fgats</a>"
      ],
      "text/plain": [
       "<IPython.core.display.HTML object>"
      ]
     },
     "metadata": {},
     "output_type": "display_data"
    },
    {
     "data": {
      "text/html": [
       " View run at <a href='https://wandb.ai/darrenchanyuhao-singapore-university-of-technology-and-d/DeepLearning%20Project/runs/xskwkopr' target=\"_blank\">https://wandb.ai/darrenchanyuhao-singapore-university-of-technology-and-d/DeepLearning%20Project/runs/xskwkopr</a>"
      ],
      "text/plain": [
       "<IPython.core.display.HTML object>"
      ]
     },
     "metadata": {},
     "output_type": "display_data"
    },
    {
     "name": "stdout",
     "output_type": "stream",
     "text": [
      "Epoch 1/300, Loss: 0.026437\n",
      "Epoch 51/300, Loss: 0.009766\n",
      "Epoch 101/300, Loss: 0.005978\n",
      "Epoch 151/300, Loss: 0.004329\n",
      "Epoch 201/300, Loss: 0.003414\n",
      "Epoch 251/300, Loss: 0.002650\n",
      "Epoch 300/300, Loss: 0.002703\n"
     ]
    },
    {
     "data": {
      "text/html": [],
      "text/plain": [
       "<IPython.core.display.HTML object>"
      ]
     },
     "metadata": {},
     "output_type": "display_data"
    },
    {
     "data": {
      "text/html": [
       "<br>    <style><br>        .wandb-row {<br>            display: flex;<br>            flex-direction: row;<br>            flex-wrap: wrap;<br>            justify-content: flex-start;<br>            width: 100%;<br>        }<br>        .wandb-col {<br>            display: flex;<br>            flex-direction: column;<br>            flex-basis: 100%;<br>            flex: 1;<br>            padding: 10px;<br>        }<br>    </style><br><div class=\"wandb-row\"><div class=\"wandb-col\"><h3>Run history:</h3><br/><table class=\"wandb\"><tr><td>epoch</td><td>▁▁▁▂▂▂▃▃▃▃▄▄▄▄▄▄▄▅▅▅▅▅▅▅▆▆▆▆▆▇▇▇▇▇▇▇████</td></tr><tr><td>loss</td><td>▆▇█▇▇▆▅▆▅▅▄▃▄▃▄▃▃▃▄▄▃▃▂▃▄▂▃▂▂▃▁▂▂▁▂▁▁▁▁▁</td></tr></table><br/></div><div class=\"wandb-col\"><h3>Run summary:</h3><br/><table class=\"wandb\"><tr><td>epoch</td><td>299</td></tr><tr><td>loss</td><td>0.0027</td></tr></table><br/></div></div>"
      ],
      "text/plain": [
       "<IPython.core.display.HTML object>"
      ]
     },
     "metadata": {},
     "output_type": "display_data"
    },
    {
     "data": {
      "text/html": [
       " View run <strong style=\"color:#cdcd00\">restful-sweep-16</strong> at: <a href='https://wandb.ai/darrenchanyuhao-singapore-university-of-technology-and-d/DeepLearning%20Project/runs/xskwkopr' target=\"_blank\">https://wandb.ai/darrenchanyuhao-singapore-university-of-technology-and-d/DeepLearning%20Project/runs/xskwkopr</a><br> View project at: <a href='https://wandb.ai/darrenchanyuhao-singapore-university-of-technology-and-d/DeepLearning%20Project' target=\"_blank\">https://wandb.ai/darrenchanyuhao-singapore-university-of-technology-and-d/DeepLearning%20Project</a><br>Synced 5 W&B file(s), 0 media file(s), 0 artifact file(s) and 0 other file(s)"
      ],
      "text/plain": [
       "<IPython.core.display.HTML object>"
      ]
     },
     "metadata": {},
     "output_type": "display_data"
    },
    {
     "data": {
      "text/html": [
       "Find logs at: <code>./wandb/run-20250414_191724-xskwkopr/logs</code>"
      ],
      "text/plain": [
       "<IPython.core.display.HTML object>"
      ]
     },
     "metadata": {},
     "output_type": "display_data"
    },
    {
     "name": "stderr",
     "output_type": "stream",
     "text": [
      "\u001b[34m\u001b[1mwandb\u001b[0m: Agent Starting Run: p6is7vhl with config:\n",
      "\u001b[34m\u001b[1mwandb\u001b[0m: \thidden_size: 256\n",
      "\u001b[34m\u001b[1mwandb\u001b[0m: \tlearning_rate: 0.001775493541872476\n",
      "\u001b[34m\u001b[1mwandb\u001b[0m: \tnum_epochs: 1000\n",
      "\u001b[34m\u001b[1mwandb\u001b[0m: \tnum_layers: 1\n"
     ]
    },
    {
     "data": {
      "text/html": [
       "Tracking run with wandb version 0.19.9"
      ],
      "text/plain": [
       "<IPython.core.display.HTML object>"
      ]
     },
     "metadata": {},
     "output_type": "display_data"
    },
    {
     "data": {
      "text/html": [
       "Run data is saved locally in <code>/home/jovyan/DL_Project/wandb/run-20250414_191822-p6is7vhl</code>"
      ],
      "text/plain": [
       "<IPython.core.display.HTML object>"
      ]
     },
     "metadata": {},
     "output_type": "display_data"
    },
    {
     "data": {
      "text/html": [
       "Syncing run <strong><a href='https://wandb.ai/darrenchanyuhao-singapore-university-of-technology-and-d/DeepLearning%20Project/runs/p6is7vhl' target=\"_blank\">silvery-sweep-17</a></strong> to <a href='https://wandb.ai/darrenchanyuhao-singapore-university-of-technology-and-d/DeepLearning%20Project' target=\"_blank\">Weights & Biases</a> (<a href='https://wandb.me/developer-guide' target=\"_blank\">docs</a>)<br>Sweep page: <a href='https://wandb.ai/darrenchanyuhao-singapore-university-of-technology-and-d/DeepLearning%20Project/sweeps/fe6fgats' target=\"_blank\">https://wandb.ai/darrenchanyuhao-singapore-university-of-technology-and-d/DeepLearning%20Project/sweeps/fe6fgats</a>"
      ],
      "text/plain": [
       "<IPython.core.display.HTML object>"
      ]
     },
     "metadata": {},
     "output_type": "display_data"
    },
    {
     "data": {
      "text/html": [
       " View project at <a href='https://wandb.ai/darrenchanyuhao-singapore-university-of-technology-and-d/DeepLearning%20Project' target=\"_blank\">https://wandb.ai/darrenchanyuhao-singapore-university-of-technology-and-d/DeepLearning%20Project</a>"
      ],
      "text/plain": [
       "<IPython.core.display.HTML object>"
      ]
     },
     "metadata": {},
     "output_type": "display_data"
    },
    {
     "data": {
      "text/html": [
       " View sweep at <a href='https://wandb.ai/darrenchanyuhao-singapore-university-of-technology-and-d/DeepLearning%20Project/sweeps/fe6fgats' target=\"_blank\">https://wandb.ai/darrenchanyuhao-singapore-university-of-technology-and-d/DeepLearning%20Project/sweeps/fe6fgats</a>"
      ],
      "text/plain": [
       "<IPython.core.display.HTML object>"
      ]
     },
     "metadata": {},
     "output_type": "display_data"
    },
    {
     "data": {
      "text/html": [
       " View run at <a href='https://wandb.ai/darrenchanyuhao-singapore-university-of-technology-and-d/DeepLearning%20Project/runs/p6is7vhl' target=\"_blank\">https://wandb.ai/darrenchanyuhao-singapore-university-of-technology-and-d/DeepLearning%20Project/runs/p6is7vhl</a>"
      ],
      "text/plain": [
       "<IPython.core.display.HTML object>"
      ]
     },
     "metadata": {},
     "output_type": "display_data"
    },
    {
     "name": "stdout",
     "output_type": "stream",
     "text": [
      "Epoch 1/1000, Loss: 0.017522\n",
      "Epoch 51/1000, Loss: 0.007214\n",
      "Epoch 101/1000, Loss: 0.005662\n",
      "Epoch 151/1000, Loss: 0.004344\n",
      "Epoch 201/1000, Loss: 0.003669\n",
      "Epoch 251/1000, Loss: 0.003437\n",
      "Epoch 301/1000, Loss: 0.002026\n",
      "Epoch 351/1000, Loss: 0.001474\n",
      "Epoch 401/1000, Loss: 0.001171\n",
      "Epoch 451/1000, Loss: 0.000956\n",
      "Epoch 501/1000, Loss: 0.000911\n",
      "Epoch 551/1000, Loss: 0.000597\n",
      "Epoch 601/1000, Loss: 0.000475\n",
      "Epoch 651/1000, Loss: 0.000259\n",
      "Epoch 701/1000, Loss: 0.000194\n",
      "Epoch 751/1000, Loss: 0.000323\n",
      "Epoch 801/1000, Loss: 0.000242\n",
      "Epoch 851/1000, Loss: 0.000229\n",
      "Epoch 901/1000, Loss: 0.000133\n",
      "Epoch 951/1000, Loss: 0.000212\n",
      "Epoch 1000/1000, Loss: 0.000153\n"
     ]
    },
    {
     "data": {
      "text/html": [],
      "text/plain": [
       "<IPython.core.display.HTML object>"
      ]
     },
     "metadata": {},
     "output_type": "display_data"
    },
    {
     "data": {
      "text/html": [
       "<br>    <style><br>        .wandb-row {<br>            display: flex;<br>            flex-direction: row;<br>            flex-wrap: wrap;<br>            justify-content: flex-start;<br>            width: 100%;<br>        }<br>        .wandb-col {<br>            display: flex;<br>            flex-direction: column;<br>            flex-basis: 100%;<br>            flex: 1;<br>            padding: 10px;<br>        }<br>    </style><br><div class=\"wandb-row\"><div class=\"wandb-col\"><h3>Run history:</h3><br/><table class=\"wandb\"><tr><td>epoch</td><td>▁▁▁▁▁▁▁▁▁▁▂▂▂▂▂▂▃▃▃▄▄▄▄▄▄▄▅▅▅▅▆▆▆▆▇▇▇▇▇█</td></tr><tr><td>loss</td><td>█▇▇▆▆▆▅▅▅▄▄▄▄▃▃▃▂▂▂▁▁▁▁▁▁▁▁▁▁▁▁▁▁▁▁▁▁▁▁▁</td></tr></table><br/></div><div class=\"wandb-col\"><h3>Run summary:</h3><br/><table class=\"wandb\"><tr><td>epoch</td><td>999</td></tr><tr><td>loss</td><td>0.00015</td></tr></table><br/></div></div>"
      ],
      "text/plain": [
       "<IPython.core.display.HTML object>"
      ]
     },
     "metadata": {},
     "output_type": "display_data"
    },
    {
     "data": {
      "text/html": [
       " View run <strong style=\"color:#cdcd00\">silvery-sweep-17</strong> at: <a href='https://wandb.ai/darrenchanyuhao-singapore-university-of-technology-and-d/DeepLearning%20Project/runs/p6is7vhl' target=\"_blank\">https://wandb.ai/darrenchanyuhao-singapore-university-of-technology-and-d/DeepLearning%20Project/runs/p6is7vhl</a><br> View project at: <a href='https://wandb.ai/darrenchanyuhao-singapore-university-of-technology-and-d/DeepLearning%20Project' target=\"_blank\">https://wandb.ai/darrenchanyuhao-singapore-university-of-technology-and-d/DeepLearning%20Project</a><br>Synced 5 W&B file(s), 0 media file(s), 0 artifact file(s) and 0 other file(s)"
      ],
      "text/plain": [
       "<IPython.core.display.HTML object>"
      ]
     },
     "metadata": {},
     "output_type": "display_data"
    },
    {
     "data": {
      "text/html": [
       "Find logs at: <code>./wandb/run-20250414_191822-p6is7vhl/logs</code>"
      ],
      "text/plain": [
       "<IPython.core.display.HTML object>"
      ]
     },
     "metadata": {},
     "output_type": "display_data"
    },
    {
     "name": "stderr",
     "output_type": "stream",
     "text": [
      "\u001b[34m\u001b[1mwandb\u001b[0m: Agent Starting Run: m2f1ew4f with config:\n",
      "\u001b[34m\u001b[1mwandb\u001b[0m: \thidden_size: 128\n",
      "\u001b[34m\u001b[1mwandb\u001b[0m: \tlearning_rate: 0.00212003751635999\n",
      "\u001b[34m\u001b[1mwandb\u001b[0m: \tnum_epochs: 1000\n",
      "\u001b[34m\u001b[1mwandb\u001b[0m: \tnum_layers: 1\n"
     ]
    },
    {
     "data": {
      "text/html": [
       "Tracking run with wandb version 0.19.9"
      ],
      "text/plain": [
       "<IPython.core.display.HTML object>"
      ]
     },
     "metadata": {},
     "output_type": "display_data"
    },
    {
     "data": {
      "text/html": [
       "Run data is saved locally in <code>/home/jovyan/DL_Project/wandb/run-20250414_192110-m2f1ew4f</code>"
      ],
      "text/plain": [
       "<IPython.core.display.HTML object>"
      ]
     },
     "metadata": {},
     "output_type": "display_data"
    },
    {
     "data": {
      "text/html": [
       "Syncing run <strong><a href='https://wandb.ai/darrenchanyuhao-singapore-university-of-technology-and-d/DeepLearning%20Project/runs/m2f1ew4f' target=\"_blank\">jolly-sweep-18</a></strong> to <a href='https://wandb.ai/darrenchanyuhao-singapore-university-of-technology-and-d/DeepLearning%20Project' target=\"_blank\">Weights & Biases</a> (<a href='https://wandb.me/developer-guide' target=\"_blank\">docs</a>)<br>Sweep page: <a href='https://wandb.ai/darrenchanyuhao-singapore-university-of-technology-and-d/DeepLearning%20Project/sweeps/fe6fgats' target=\"_blank\">https://wandb.ai/darrenchanyuhao-singapore-university-of-technology-and-d/DeepLearning%20Project/sweeps/fe6fgats</a>"
      ],
      "text/plain": [
       "<IPython.core.display.HTML object>"
      ]
     },
     "metadata": {},
     "output_type": "display_data"
    },
    {
     "data": {
      "text/html": [
       " View project at <a href='https://wandb.ai/darrenchanyuhao-singapore-university-of-technology-and-d/DeepLearning%20Project' target=\"_blank\">https://wandb.ai/darrenchanyuhao-singapore-university-of-technology-and-d/DeepLearning%20Project</a>"
      ],
      "text/plain": [
       "<IPython.core.display.HTML object>"
      ]
     },
     "metadata": {},
     "output_type": "display_data"
    },
    {
     "data": {
      "text/html": [
       " View sweep at <a href='https://wandb.ai/darrenchanyuhao-singapore-university-of-technology-and-d/DeepLearning%20Project/sweeps/fe6fgats' target=\"_blank\">https://wandb.ai/darrenchanyuhao-singapore-university-of-technology-and-d/DeepLearning%20Project/sweeps/fe6fgats</a>"
      ],
      "text/plain": [
       "<IPython.core.display.HTML object>"
      ]
     },
     "metadata": {},
     "output_type": "display_data"
    },
    {
     "data": {
      "text/html": [
       " View run at <a href='https://wandb.ai/darrenchanyuhao-singapore-university-of-technology-and-d/DeepLearning%20Project/runs/m2f1ew4f' target=\"_blank\">https://wandb.ai/darrenchanyuhao-singapore-university-of-technology-and-d/DeepLearning%20Project/runs/m2f1ew4f</a>"
      ],
      "text/plain": [
       "<IPython.core.display.HTML object>"
      ]
     },
     "metadata": {},
     "output_type": "display_data"
    },
    {
     "name": "stdout",
     "output_type": "stream",
     "text": [
      "Epoch 1/1000, Loss: 0.018340\n",
      "Epoch 51/1000, Loss: 0.006100\n",
      "Epoch 101/1000, Loss: 0.004986\n",
      "Epoch 151/1000, Loss: 0.004078\n",
      "Epoch 201/1000, Loss: 0.002607\n",
      "Epoch 251/1000, Loss: 0.002061\n",
      "Epoch 301/1000, Loss: 0.001173\n",
      "Epoch 351/1000, Loss: 0.001064\n",
      "Epoch 401/1000, Loss: 0.000656\n",
      "Epoch 451/1000, Loss: 0.000290\n",
      "Epoch 501/1000, Loss: 0.000323\n",
      "Epoch 551/1000, Loss: 0.000307\n",
      "Epoch 601/1000, Loss: 0.000364\n",
      "Epoch 651/1000, Loss: 0.000185\n",
      "Epoch 701/1000, Loss: 0.000141\n",
      "Epoch 751/1000, Loss: 0.000206\n",
      "Epoch 801/1000, Loss: 0.000156\n",
      "Epoch 851/1000, Loss: 0.000362\n",
      "Epoch 901/1000, Loss: 0.000146\n",
      "Epoch 951/1000, Loss: 0.000188\n",
      "Epoch 1000/1000, Loss: 0.000104\n"
     ]
    },
    {
     "data": {
      "text/html": [],
      "text/plain": [
       "<IPython.core.display.HTML object>"
      ]
     },
     "metadata": {},
     "output_type": "display_data"
    },
    {
     "data": {
      "text/html": [
       "<br>    <style><br>        .wandb-row {<br>            display: flex;<br>            flex-direction: row;<br>            flex-wrap: wrap;<br>            justify-content: flex-start;<br>            width: 100%;<br>        }<br>        .wandb-col {<br>            display: flex;<br>            flex-direction: column;<br>            flex-basis: 100%;<br>            flex: 1;<br>            padding: 10px;<br>        }<br>    </style><br><div class=\"wandb-row\"><div class=\"wandb-col\"><h3>Run history:</h3><br/><table class=\"wandb\"><tr><td>epoch</td><td>▁▁▂▂▂▃▃▃▃▃▃▃▄▄▄▄▄▄▅▅▅▅▅▆▆▆▆▆▆▆▇▇▇▇▇█████</td></tr><tr><td>loss</td><td>██▇▆▅▆▅▄▃▂▂▂▂▂▂▂▁▁▁▁▁▁▁▁▁▁▁▁▁▁▁▁▁▁▁▁▁▁▁▁</td></tr></table><br/></div><div class=\"wandb-col\"><h3>Run summary:</h3><br/><table class=\"wandb\"><tr><td>epoch</td><td>999</td></tr><tr><td>loss</td><td>0.0001</td></tr></table><br/></div></div>"
      ],
      "text/plain": [
       "<IPython.core.display.HTML object>"
      ]
     },
     "metadata": {},
     "output_type": "display_data"
    },
    {
     "data": {
      "text/html": [
       " View run <strong style=\"color:#cdcd00\">jolly-sweep-18</strong> at: <a href='https://wandb.ai/darrenchanyuhao-singapore-university-of-technology-and-d/DeepLearning%20Project/runs/m2f1ew4f' target=\"_blank\">https://wandb.ai/darrenchanyuhao-singapore-university-of-technology-and-d/DeepLearning%20Project/runs/m2f1ew4f</a><br> View project at: <a href='https://wandb.ai/darrenchanyuhao-singapore-university-of-technology-and-d/DeepLearning%20Project' target=\"_blank\">https://wandb.ai/darrenchanyuhao-singapore-university-of-technology-and-d/DeepLearning%20Project</a><br>Synced 5 W&B file(s), 0 media file(s), 0 artifact file(s) and 0 other file(s)"
      ],
      "text/plain": [
       "<IPython.core.display.HTML object>"
      ]
     },
     "metadata": {},
     "output_type": "display_data"
    },
    {
     "data": {
      "text/html": [
       "Find logs at: <code>./wandb/run-20250414_192110-m2f1ew4f/logs</code>"
      ],
      "text/plain": [
       "<IPython.core.display.HTML object>"
      ]
     },
     "metadata": {},
     "output_type": "display_data"
    },
    {
     "name": "stderr",
     "output_type": "stream",
     "text": [
      "\u001b[34m\u001b[1mwandb\u001b[0m: Agent Starting Run: uq5g8vls with config:\n",
      "\u001b[34m\u001b[1mwandb\u001b[0m: \thidden_size: 128\n",
      "\u001b[34m\u001b[1mwandb\u001b[0m: \tlearning_rate: 0.001486474826746672\n",
      "\u001b[34m\u001b[1mwandb\u001b[0m: \tnum_epochs: 1000\n",
      "\u001b[34m\u001b[1mwandb\u001b[0m: \tnum_layers: 1\n"
     ]
    },
    {
     "data": {
      "text/html": [
       "Tracking run with wandb version 0.19.9"
      ],
      "text/plain": [
       "<IPython.core.display.HTML object>"
      ]
     },
     "metadata": {},
     "output_type": "display_data"
    },
    {
     "data": {
      "text/html": [
       "Run data is saved locally in <code>/home/jovyan/DL_Project/wandb/run-20250414_192300-uq5g8vls</code>"
      ],
      "text/plain": [
       "<IPython.core.display.HTML object>"
      ]
     },
     "metadata": {},
     "output_type": "display_data"
    },
    {
     "data": {
      "text/html": [
       "Syncing run <strong><a href='https://wandb.ai/darrenchanyuhao-singapore-university-of-technology-and-d/DeepLearning%20Project/runs/uq5g8vls' target=\"_blank\">astral-sweep-19</a></strong> to <a href='https://wandb.ai/darrenchanyuhao-singapore-university-of-technology-and-d/DeepLearning%20Project' target=\"_blank\">Weights & Biases</a> (<a href='https://wandb.me/developer-guide' target=\"_blank\">docs</a>)<br>Sweep page: <a href='https://wandb.ai/darrenchanyuhao-singapore-university-of-technology-and-d/DeepLearning%20Project/sweeps/fe6fgats' target=\"_blank\">https://wandb.ai/darrenchanyuhao-singapore-university-of-technology-and-d/DeepLearning%20Project/sweeps/fe6fgats</a>"
      ],
      "text/plain": [
       "<IPython.core.display.HTML object>"
      ]
     },
     "metadata": {},
     "output_type": "display_data"
    },
    {
     "data": {
      "text/html": [
       " View project at <a href='https://wandb.ai/darrenchanyuhao-singapore-university-of-technology-and-d/DeepLearning%20Project' target=\"_blank\">https://wandb.ai/darrenchanyuhao-singapore-university-of-technology-and-d/DeepLearning%20Project</a>"
      ],
      "text/plain": [
       "<IPython.core.display.HTML object>"
      ]
     },
     "metadata": {},
     "output_type": "display_data"
    },
    {
     "data": {
      "text/html": [
       " View sweep at <a href='https://wandb.ai/darrenchanyuhao-singapore-university-of-technology-and-d/DeepLearning%20Project/sweeps/fe6fgats' target=\"_blank\">https://wandb.ai/darrenchanyuhao-singapore-university-of-technology-and-d/DeepLearning%20Project/sweeps/fe6fgats</a>"
      ],
      "text/plain": [
       "<IPython.core.display.HTML object>"
      ]
     },
     "metadata": {},
     "output_type": "display_data"
    },
    {
     "data": {
      "text/html": [
       " View run at <a href='https://wandb.ai/darrenchanyuhao-singapore-university-of-technology-and-d/DeepLearning%20Project/runs/uq5g8vls' target=\"_blank\">https://wandb.ai/darrenchanyuhao-singapore-university-of-technology-and-d/DeepLearning%20Project/runs/uq5g8vls</a>"
      ],
      "text/plain": [
       "<IPython.core.display.HTML object>"
      ]
     },
     "metadata": {},
     "output_type": "display_data"
    },
    {
     "name": "stdout",
     "output_type": "stream",
     "text": [
      "Epoch 1/1000, Loss: 0.020812\n",
      "Epoch 51/1000, Loss: 0.005816\n",
      "Epoch 101/1000, Loss: 0.005207\n",
      "Epoch 151/1000, Loss: 0.004432\n",
      "Epoch 201/1000, Loss: 0.004115\n",
      "Epoch 251/1000, Loss: 0.002354\n",
      "Epoch 301/1000, Loss: 0.001422\n",
      "Epoch 351/1000, Loss: 0.001124\n",
      "Epoch 401/1000, Loss: 0.000772\n",
      "Epoch 451/1000, Loss: 0.000756\n",
      "Epoch 501/1000, Loss: 0.000458\n",
      "Epoch 551/1000, Loss: 0.000625\n",
      "Epoch 601/1000, Loss: 0.000269\n",
      "Epoch 651/1000, Loss: 0.000254\n",
      "Epoch 701/1000, Loss: 0.000368\n",
      "Epoch 751/1000, Loss: 0.000227\n",
      "Epoch 801/1000, Loss: 0.000175\n",
      "Epoch 851/1000, Loss: 0.000180\n",
      "Epoch 901/1000, Loss: 0.000261\n",
      "Epoch 951/1000, Loss: 0.000242\n",
      "Epoch 1000/1000, Loss: 0.000108\n"
     ]
    },
    {
     "data": {
      "text/html": [],
      "text/plain": [
       "<IPython.core.display.HTML object>"
      ]
     },
     "metadata": {},
     "output_type": "display_data"
    },
    {
     "data": {
      "text/html": [
       "<br>    <style><br>        .wandb-row {<br>            display: flex;<br>            flex-direction: row;<br>            flex-wrap: wrap;<br>            justify-content: flex-start;<br>            width: 100%;<br>        }<br>        .wandb-col {<br>            display: flex;<br>            flex-direction: column;<br>            flex-basis: 100%;<br>            flex: 1;<br>            padding: 10px;<br>        }<br>    </style><br><div class=\"wandb-row\"><div class=\"wandb-col\"><h3>Run history:</h3><br/><table class=\"wandb\"><tr><td>epoch</td><td>▁▁▁▁▂▂▂▂▂▃▃▃▃▃▃▄▄▄▄▄▅▅▅▅▅▆▆▆▆▇▇▇▇▇▇▇▇▇██</td></tr><tr><td>loss</td><td>█▆▆▆▆▅▅▅▄▄▃▃▂▁▂▁▁▁▂▁▁▁▁▁▁▁▁▁▁▁▁▁▁▁▁▁▁▁▁▁</td></tr></table><br/></div><div class=\"wandb-col\"><h3>Run summary:</h3><br/><table class=\"wandb\"><tr><td>epoch</td><td>999</td></tr><tr><td>loss</td><td>0.00011</td></tr></table><br/></div></div>"
      ],
      "text/plain": [
       "<IPython.core.display.HTML object>"
      ]
     },
     "metadata": {},
     "output_type": "display_data"
    },
    {
     "data": {
      "text/html": [
       " View run <strong style=\"color:#cdcd00\">astral-sweep-19</strong> at: <a href='https://wandb.ai/darrenchanyuhao-singapore-university-of-technology-and-d/DeepLearning%20Project/runs/uq5g8vls' target=\"_blank\">https://wandb.ai/darrenchanyuhao-singapore-university-of-technology-and-d/DeepLearning%20Project/runs/uq5g8vls</a><br> View project at: <a href='https://wandb.ai/darrenchanyuhao-singapore-university-of-technology-and-d/DeepLearning%20Project' target=\"_blank\">https://wandb.ai/darrenchanyuhao-singapore-university-of-technology-and-d/DeepLearning%20Project</a><br>Synced 5 W&B file(s), 0 media file(s), 0 artifact file(s) and 0 other file(s)"
      ],
      "text/plain": [
       "<IPython.core.display.HTML object>"
      ]
     },
     "metadata": {},
     "output_type": "display_data"
    },
    {
     "data": {
      "text/html": [
       "Find logs at: <code>./wandb/run-20250414_192300-uq5g8vls/logs</code>"
      ],
      "text/plain": [
       "<IPython.core.display.HTML object>"
      ]
     },
     "metadata": {},
     "output_type": "display_data"
    },
    {
     "name": "stderr",
     "output_type": "stream",
     "text": [
      "\u001b[34m\u001b[1mwandb\u001b[0m: Agent Starting Run: 3nhtuq53 with config:\n",
      "\u001b[34m\u001b[1mwandb\u001b[0m: \thidden_size: 128\n",
      "\u001b[34m\u001b[1mwandb\u001b[0m: \tlearning_rate: 0.00280666302398226\n",
      "\u001b[34m\u001b[1mwandb\u001b[0m: \tnum_epochs: 1000\n",
      "\u001b[34m\u001b[1mwandb\u001b[0m: \tnum_layers: 1\n"
     ]
    },
    {
     "data": {
      "text/html": [
       "Tracking run with wandb version 0.19.9"
      ],
      "text/plain": [
       "<IPython.core.display.HTML object>"
      ]
     },
     "metadata": {},
     "output_type": "display_data"
    },
    {
     "data": {
      "text/html": [
       "Run data is saved locally in <code>/home/jovyan/DL_Project/wandb/run-20250414_192450-3nhtuq53</code>"
      ],
      "text/plain": [
       "<IPython.core.display.HTML object>"
      ]
     },
     "metadata": {},
     "output_type": "display_data"
    },
    {
     "data": {
      "text/html": [
       "Syncing run <strong><a href='https://wandb.ai/darrenchanyuhao-singapore-university-of-technology-and-d/DeepLearning%20Project/runs/3nhtuq53' target=\"_blank\">ethereal-sweep-20</a></strong> to <a href='https://wandb.ai/darrenchanyuhao-singapore-university-of-technology-and-d/DeepLearning%20Project' target=\"_blank\">Weights & Biases</a> (<a href='https://wandb.me/developer-guide' target=\"_blank\">docs</a>)<br>Sweep page: <a href='https://wandb.ai/darrenchanyuhao-singapore-university-of-technology-and-d/DeepLearning%20Project/sweeps/fe6fgats' target=\"_blank\">https://wandb.ai/darrenchanyuhao-singapore-university-of-technology-and-d/DeepLearning%20Project/sweeps/fe6fgats</a>"
      ],
      "text/plain": [
       "<IPython.core.display.HTML object>"
      ]
     },
     "metadata": {},
     "output_type": "display_data"
    },
    {
     "data": {
      "text/html": [
       " View project at <a href='https://wandb.ai/darrenchanyuhao-singapore-university-of-technology-and-d/DeepLearning%20Project' target=\"_blank\">https://wandb.ai/darrenchanyuhao-singapore-university-of-technology-and-d/DeepLearning%20Project</a>"
      ],
      "text/plain": [
       "<IPython.core.display.HTML object>"
      ]
     },
     "metadata": {},
     "output_type": "display_data"
    },
    {
     "data": {
      "text/html": [
       " View sweep at <a href='https://wandb.ai/darrenchanyuhao-singapore-university-of-technology-and-d/DeepLearning%20Project/sweeps/fe6fgats' target=\"_blank\">https://wandb.ai/darrenchanyuhao-singapore-university-of-technology-and-d/DeepLearning%20Project/sweeps/fe6fgats</a>"
      ],
      "text/plain": [
       "<IPython.core.display.HTML object>"
      ]
     },
     "metadata": {},
     "output_type": "display_data"
    },
    {
     "data": {
      "text/html": [
       " View run at <a href='https://wandb.ai/darrenchanyuhao-singapore-university-of-technology-and-d/DeepLearning%20Project/runs/3nhtuq53' target=\"_blank\">https://wandb.ai/darrenchanyuhao-singapore-university-of-technology-and-d/DeepLearning%20Project/runs/3nhtuq53</a>"
      ],
      "text/plain": [
       "<IPython.core.display.HTML object>"
      ]
     },
     "metadata": {},
     "output_type": "display_data"
    },
    {
     "name": "stdout",
     "output_type": "stream",
     "text": [
      "Epoch 1/1000, Loss: 0.019388\n",
      "Epoch 51/1000, Loss: 0.006429\n",
      "Epoch 101/1000, Loss: 0.005438\n",
      "Epoch 151/1000, Loss: 0.004182\n",
      "Epoch 201/1000, Loss: 0.003310\n",
      "Epoch 251/1000, Loss: 0.002141\n",
      "Epoch 301/1000, Loss: 0.001710\n",
      "Epoch 351/1000, Loss: 0.001280\n",
      "Epoch 401/1000, Loss: 0.000853\n",
      "Epoch 451/1000, Loss: 0.000597\n",
      "Epoch 501/1000, Loss: 0.000660\n",
      "Epoch 551/1000, Loss: 0.000606\n",
      "Epoch 601/1000, Loss: 0.000435\n",
      "Epoch 651/1000, Loss: 0.000546\n",
      "Epoch 701/1000, Loss: 0.000501\n",
      "Epoch 751/1000, Loss: 0.000792\n",
      "Epoch 801/1000, Loss: 0.000202\n",
      "Epoch 851/1000, Loss: 0.000091\n",
      "Epoch 901/1000, Loss: 0.000217\n",
      "Epoch 951/1000, Loss: 0.000197\n",
      "Epoch 1000/1000, Loss: 0.000226\n"
     ]
    },
    {
     "data": {
      "text/html": [],
      "text/plain": [
       "<IPython.core.display.HTML object>"
      ]
     },
     "metadata": {},
     "output_type": "display_data"
    },
    {
     "data": {
      "text/html": [
       "<br>    <style><br>        .wandb-row {<br>            display: flex;<br>            flex-direction: row;<br>            flex-wrap: wrap;<br>            justify-content: flex-start;<br>            width: 100%;<br>        }<br>        .wandb-col {<br>            display: flex;<br>            flex-direction: column;<br>            flex-basis: 100%;<br>            flex: 1;<br>            padding: 10px;<br>        }<br>    </style><br><div class=\"wandb-row\"><div class=\"wandb-col\"><h3>Run history:</h3><br/><table class=\"wandb\"><tr><td>epoch</td><td>▁▁▁▁▁▂▂▂▂▂▂▂▂▃▃▃▃▃▃▃▄▄▄▄▅▅▅▆▆▆▆▇▇▇▇▇▇███</td></tr><tr><td>loss</td><td>█▇▇▆▆▅▃▃▃▂▃▂▂▂▂▁▁▁▁▁▁▁▁▁▁▁▁▁▁▁▁▁▁▁▁▁▁▁▁▁</td></tr></table><br/></div><div class=\"wandb-col\"><h3>Run summary:</h3><br/><table class=\"wandb\"><tr><td>epoch</td><td>999</td></tr><tr><td>loss</td><td>0.00023</td></tr></table><br/></div></div>"
      ],
      "text/plain": [
       "<IPython.core.display.HTML object>"
      ]
     },
     "metadata": {},
     "output_type": "display_data"
    },
    {
     "data": {
      "text/html": [
       " View run <strong style=\"color:#cdcd00\">ethereal-sweep-20</strong> at: <a href='https://wandb.ai/darrenchanyuhao-singapore-university-of-technology-and-d/DeepLearning%20Project/runs/3nhtuq53' target=\"_blank\">https://wandb.ai/darrenchanyuhao-singapore-university-of-technology-and-d/DeepLearning%20Project/runs/3nhtuq53</a><br> View project at: <a href='https://wandb.ai/darrenchanyuhao-singapore-university-of-technology-and-d/DeepLearning%20Project' target=\"_blank\">https://wandb.ai/darrenchanyuhao-singapore-university-of-technology-and-d/DeepLearning%20Project</a><br>Synced 5 W&B file(s), 0 media file(s), 0 artifact file(s) and 0 other file(s)"
      ],
      "text/plain": [
       "<IPython.core.display.HTML object>"
      ]
     },
     "metadata": {},
     "output_type": "display_data"
    },
    {
     "data": {
      "text/html": [
       "Find logs at: <code>./wandb/run-20250414_192450-3nhtuq53/logs</code>"
      ],
      "text/plain": [
       "<IPython.core.display.HTML object>"
      ]
     },
     "metadata": {},
     "output_type": "display_data"
    },
    {
     "name": "stderr",
     "output_type": "stream",
     "text": [
      "\u001b[34m\u001b[1mwandb\u001b[0m: Agent Starting Run: b1i646ws with config:\n",
      "\u001b[34m\u001b[1mwandb\u001b[0m: \thidden_size: 128\n",
      "\u001b[34m\u001b[1mwandb\u001b[0m: \tlearning_rate: 0.001515426960485965\n",
      "\u001b[34m\u001b[1mwandb\u001b[0m: \tnum_epochs: 1000\n",
      "\u001b[34m\u001b[1mwandb\u001b[0m: \tnum_layers: 1\n"
     ]
    },
    {
     "data": {
      "text/html": [
       "Tracking run with wandb version 0.19.9"
      ],
      "text/plain": [
       "<IPython.core.display.HTML object>"
      ]
     },
     "metadata": {},
     "output_type": "display_data"
    },
    {
     "data": {
      "text/html": [
       "Run data is saved locally in <code>/home/jovyan/DL_Project/wandb/run-20250414_192640-b1i646ws</code>"
      ],
      "text/plain": [
       "<IPython.core.display.HTML object>"
      ]
     },
     "metadata": {},
     "output_type": "display_data"
    },
    {
     "data": {
      "text/html": [
       "Syncing run <strong><a href='https://wandb.ai/darrenchanyuhao-singapore-university-of-technology-and-d/DeepLearning%20Project/runs/b1i646ws' target=\"_blank\">elated-sweep-21</a></strong> to <a href='https://wandb.ai/darrenchanyuhao-singapore-university-of-technology-and-d/DeepLearning%20Project' target=\"_blank\">Weights & Biases</a> (<a href='https://wandb.me/developer-guide' target=\"_blank\">docs</a>)<br>Sweep page: <a href='https://wandb.ai/darrenchanyuhao-singapore-university-of-technology-and-d/DeepLearning%20Project/sweeps/fe6fgats' target=\"_blank\">https://wandb.ai/darrenchanyuhao-singapore-university-of-technology-and-d/DeepLearning%20Project/sweeps/fe6fgats</a>"
      ],
      "text/plain": [
       "<IPython.core.display.HTML object>"
      ]
     },
     "metadata": {},
     "output_type": "display_data"
    },
    {
     "data": {
      "text/html": [
       " View project at <a href='https://wandb.ai/darrenchanyuhao-singapore-university-of-technology-and-d/DeepLearning%20Project' target=\"_blank\">https://wandb.ai/darrenchanyuhao-singapore-university-of-technology-and-d/DeepLearning%20Project</a>"
      ],
      "text/plain": [
       "<IPython.core.display.HTML object>"
      ]
     },
     "metadata": {},
     "output_type": "display_data"
    },
    {
     "data": {
      "text/html": [
       " View sweep at <a href='https://wandb.ai/darrenchanyuhao-singapore-university-of-technology-and-d/DeepLearning%20Project/sweeps/fe6fgats' target=\"_blank\">https://wandb.ai/darrenchanyuhao-singapore-university-of-technology-and-d/DeepLearning%20Project/sweeps/fe6fgats</a>"
      ],
      "text/plain": [
       "<IPython.core.display.HTML object>"
      ]
     },
     "metadata": {},
     "output_type": "display_data"
    },
    {
     "data": {
      "text/html": [
       " View run at <a href='https://wandb.ai/darrenchanyuhao-singapore-university-of-technology-and-d/DeepLearning%20Project/runs/b1i646ws' target=\"_blank\">https://wandb.ai/darrenchanyuhao-singapore-university-of-technology-and-d/DeepLearning%20Project/runs/b1i646ws</a>"
      ],
      "text/plain": [
       "<IPython.core.display.HTML object>"
      ]
     },
     "metadata": {},
     "output_type": "display_data"
    },
    {
     "name": "stdout",
     "output_type": "stream",
     "text": [
      "Epoch 1/1000, Loss: 0.019925\n",
      "Epoch 51/1000, Loss: 0.006399\n",
      "Epoch 101/1000, Loss: 0.005406\n",
      "Epoch 151/1000, Loss: 0.004252\n",
      "Epoch 201/1000, Loss: 0.003574\n",
      "Epoch 251/1000, Loss: 0.002624\n",
      "Epoch 301/1000, Loss: 0.001869\n",
      "Epoch 351/1000, Loss: 0.001343\n",
      "Epoch 401/1000, Loss: 0.000802\n",
      "Epoch 451/1000, Loss: 0.000651\n",
      "Epoch 501/1000, Loss: 0.000382\n",
      "Epoch 551/1000, Loss: 0.000309\n",
      "Epoch 601/1000, Loss: 0.000285\n",
      "Epoch 651/1000, Loss: 0.000280\n",
      "Epoch 701/1000, Loss: 0.000308\n",
      "Epoch 751/1000, Loss: 0.000215\n",
      "Epoch 801/1000, Loss: 0.000296\n",
      "Epoch 851/1000, Loss: 0.000122\n",
      "Epoch 901/1000, Loss: 0.000299\n",
      "Epoch 951/1000, Loss: 0.000181\n",
      "Epoch 1000/1000, Loss: 0.000348\n"
     ]
    },
    {
     "data": {
      "text/html": [],
      "text/plain": [
       "<IPython.core.display.HTML object>"
      ]
     },
     "metadata": {},
     "output_type": "display_data"
    },
    {
     "data": {
      "text/html": [
       "<br>    <style><br>        .wandb-row {<br>            display: flex;<br>            flex-direction: row;<br>            flex-wrap: wrap;<br>            justify-content: flex-start;<br>            width: 100%;<br>        }<br>        .wandb-col {<br>            display: flex;<br>            flex-direction: column;<br>            flex-basis: 100%;<br>            flex: 1;<br>            padding: 10px;<br>        }<br>    </style><br><div class=\"wandb-row\"><div class=\"wandb-col\"><h3>Run history:</h3><br/><table class=\"wandb\"><tr><td>epoch</td><td>▁▁▁▁▂▂▂▂▂▃▃▃▃▃▄▄▄▄▄▄▅▅▅▅▅▆▆▆▆▇▇▇▇▇▇█████</td></tr><tr><td>loss</td><td>█▅▅▅▅▄▃▄▃▃▃▂▃▂▂▁▁▁▁▁▁▁▁▁▁▁▁▁▁▁▁▁▁▁▁▁▁▁▁▁</td></tr></table><br/></div><div class=\"wandb-col\"><h3>Run summary:</h3><br/><table class=\"wandb\"><tr><td>epoch</td><td>999</td></tr><tr><td>loss</td><td>0.00035</td></tr></table><br/></div></div>"
      ],
      "text/plain": [
       "<IPython.core.display.HTML object>"
      ]
     },
     "metadata": {},
     "output_type": "display_data"
    },
    {
     "data": {
      "text/html": [
       " View run <strong style=\"color:#cdcd00\">elated-sweep-21</strong> at: <a href='https://wandb.ai/darrenchanyuhao-singapore-university-of-technology-and-d/DeepLearning%20Project/runs/b1i646ws' target=\"_blank\">https://wandb.ai/darrenchanyuhao-singapore-university-of-technology-and-d/DeepLearning%20Project/runs/b1i646ws</a><br> View project at: <a href='https://wandb.ai/darrenchanyuhao-singapore-university-of-technology-and-d/DeepLearning%20Project' target=\"_blank\">https://wandb.ai/darrenchanyuhao-singapore-university-of-technology-and-d/DeepLearning%20Project</a><br>Synced 5 W&B file(s), 0 media file(s), 0 artifact file(s) and 0 other file(s)"
      ],
      "text/plain": [
       "<IPython.core.display.HTML object>"
      ]
     },
     "metadata": {},
     "output_type": "display_data"
    },
    {
     "data": {
      "text/html": [
       "Find logs at: <code>./wandb/run-20250414_192640-b1i646ws/logs</code>"
      ],
      "text/plain": [
       "<IPython.core.display.HTML object>"
      ]
     },
     "metadata": {},
     "output_type": "display_data"
    },
    {
     "name": "stderr",
     "output_type": "stream",
     "text": [
      "\u001b[34m\u001b[1mwandb\u001b[0m: Agent Starting Run: yq97gbm5 with config:\n",
      "\u001b[34m\u001b[1mwandb\u001b[0m: \thidden_size: 128\n",
      "\u001b[34m\u001b[1mwandb\u001b[0m: \tlearning_rate: 0.0013395865691722096\n",
      "\u001b[34m\u001b[1mwandb\u001b[0m: \tnum_epochs: 1000\n",
      "\u001b[34m\u001b[1mwandb\u001b[0m: \tnum_layers: 1\n"
     ]
    },
    {
     "data": {
      "text/html": [
       "Tracking run with wandb version 0.19.9"
      ],
      "text/plain": [
       "<IPython.core.display.HTML object>"
      ]
     },
     "metadata": {},
     "output_type": "display_data"
    },
    {
     "data": {
      "text/html": [
       "Run data is saved locally in <code>/home/jovyan/DL_Project/wandb/run-20250414_192830-yq97gbm5</code>"
      ],
      "text/plain": [
       "<IPython.core.display.HTML object>"
      ]
     },
     "metadata": {},
     "output_type": "display_data"
    },
    {
     "data": {
      "text/html": [
       "Syncing run <strong><a href='https://wandb.ai/darrenchanyuhao-singapore-university-of-technology-and-d/DeepLearning%20Project/runs/yq97gbm5' target=\"_blank\">happy-sweep-22</a></strong> to <a href='https://wandb.ai/darrenchanyuhao-singapore-university-of-technology-and-d/DeepLearning%20Project' target=\"_blank\">Weights & Biases</a> (<a href='https://wandb.me/developer-guide' target=\"_blank\">docs</a>)<br>Sweep page: <a href='https://wandb.ai/darrenchanyuhao-singapore-university-of-technology-and-d/DeepLearning%20Project/sweeps/fe6fgats' target=\"_blank\">https://wandb.ai/darrenchanyuhao-singapore-university-of-technology-and-d/DeepLearning%20Project/sweeps/fe6fgats</a>"
      ],
      "text/plain": [
       "<IPython.core.display.HTML object>"
      ]
     },
     "metadata": {},
     "output_type": "display_data"
    },
    {
     "data": {
      "text/html": [
       " View project at <a href='https://wandb.ai/darrenchanyuhao-singapore-university-of-technology-and-d/DeepLearning%20Project' target=\"_blank\">https://wandb.ai/darrenchanyuhao-singapore-university-of-technology-and-d/DeepLearning%20Project</a>"
      ],
      "text/plain": [
       "<IPython.core.display.HTML object>"
      ]
     },
     "metadata": {},
     "output_type": "display_data"
    },
    {
     "data": {
      "text/html": [
       " View sweep at <a href='https://wandb.ai/darrenchanyuhao-singapore-university-of-technology-and-d/DeepLearning%20Project/sweeps/fe6fgats' target=\"_blank\">https://wandb.ai/darrenchanyuhao-singapore-university-of-technology-and-d/DeepLearning%20Project/sweeps/fe6fgats</a>"
      ],
      "text/plain": [
       "<IPython.core.display.HTML object>"
      ]
     },
     "metadata": {},
     "output_type": "display_data"
    },
    {
     "data": {
      "text/html": [
       " View run at <a href='https://wandb.ai/darrenchanyuhao-singapore-university-of-technology-and-d/DeepLearning%20Project/runs/yq97gbm5' target=\"_blank\">https://wandb.ai/darrenchanyuhao-singapore-university-of-technology-and-d/DeepLearning%20Project/runs/yq97gbm5</a>"
      ],
      "text/plain": [
       "<IPython.core.display.HTML object>"
      ]
     },
     "metadata": {},
     "output_type": "display_data"
    },
    {
     "name": "stdout",
     "output_type": "stream",
     "text": [
      "Epoch 1/1000, Loss: 0.019662\n",
      "Epoch 51/1000, Loss: 0.005995\n",
      "Epoch 101/1000, Loss: 0.004983\n",
      "Epoch 151/1000, Loss: 0.004540\n",
      "Epoch 201/1000, Loss: 0.002998\n",
      "Epoch 251/1000, Loss: 0.001912\n",
      "Epoch 301/1000, Loss: 0.001212\n",
      "Epoch 351/1000, Loss: 0.000953\n",
      "Epoch 401/1000, Loss: 0.000721\n",
      "Epoch 451/1000, Loss: 0.000323\n",
      "Epoch 501/1000, Loss: 0.000371\n",
      "Epoch 551/1000, Loss: 0.000222\n",
      "Epoch 601/1000, Loss: 0.000286\n",
      "Epoch 651/1000, Loss: 0.000218\n",
      "Epoch 701/1000, Loss: 0.000436\n",
      "Epoch 751/1000, Loss: 0.000321\n",
      "Epoch 801/1000, Loss: 0.000242\n",
      "Epoch 851/1000, Loss: 0.000126\n",
      "Epoch 901/1000, Loss: 0.000129\n",
      "Epoch 951/1000, Loss: 0.000121\n",
      "Epoch 1000/1000, Loss: 0.000106\n"
     ]
    },
    {
     "data": {
      "text/html": [],
      "text/plain": [
       "<IPython.core.display.HTML object>"
      ]
     },
     "metadata": {},
     "output_type": "display_data"
    },
    {
     "data": {
      "text/html": [
       "<br>    <style><br>        .wandb-row {<br>            display: flex;<br>            flex-direction: row;<br>            flex-wrap: wrap;<br>            justify-content: flex-start;<br>            width: 100%;<br>        }<br>        .wandb-col {<br>            display: flex;<br>            flex-direction: column;<br>            flex-basis: 100%;<br>            flex: 1;<br>            padding: 10px;<br>        }<br>    </style><br><div class=\"wandb-row\"><div class=\"wandb-col\"><h3>Run history:</h3><br/><table class=\"wandb\"><tr><td>epoch</td><td>▁▁▁▁▂▂▂▂▂▂▃▃▃▃▃▃▄▄▄▄▄▄▄▄▅▅▅▅▆▆▆▇▇▇▇▇████</td></tr><tr><td>loss</td><td>██▇▇▆▄▄▄▄▃▃▂▂▂▂▂▂▂▂▂▂▂▁▁▁▁▁▁▁▁▁▁▁▁▁▁▁▁▁▁</td></tr></table><br/></div><div class=\"wandb-col\"><h3>Run summary:</h3><br/><table class=\"wandb\"><tr><td>epoch</td><td>999</td></tr><tr><td>loss</td><td>0.00011</td></tr></table><br/></div></div>"
      ],
      "text/plain": [
       "<IPython.core.display.HTML object>"
      ]
     },
     "metadata": {},
     "output_type": "display_data"
    },
    {
     "data": {
      "text/html": [
       " View run <strong style=\"color:#cdcd00\">happy-sweep-22</strong> at: <a href='https://wandb.ai/darrenchanyuhao-singapore-university-of-technology-and-d/DeepLearning%20Project/runs/yq97gbm5' target=\"_blank\">https://wandb.ai/darrenchanyuhao-singapore-university-of-technology-and-d/DeepLearning%20Project/runs/yq97gbm5</a><br> View project at: <a href='https://wandb.ai/darrenchanyuhao-singapore-university-of-technology-and-d/DeepLearning%20Project' target=\"_blank\">https://wandb.ai/darrenchanyuhao-singapore-university-of-technology-and-d/DeepLearning%20Project</a><br>Synced 5 W&B file(s), 0 media file(s), 0 artifact file(s) and 0 other file(s)"
      ],
      "text/plain": [
       "<IPython.core.display.HTML object>"
      ]
     },
     "metadata": {},
     "output_type": "display_data"
    },
    {
     "data": {
      "text/html": [
       "Find logs at: <code>./wandb/run-20250414_192830-yq97gbm5/logs</code>"
      ],
      "text/plain": [
       "<IPython.core.display.HTML object>"
      ]
     },
     "metadata": {},
     "output_type": "display_data"
    },
    {
     "name": "stderr",
     "output_type": "stream",
     "text": [
      "\u001b[34m\u001b[1mwandb\u001b[0m: Agent Starting Run: ideuhj75 with config:\n",
      "\u001b[34m\u001b[1mwandb\u001b[0m: \thidden_size: 128\n",
      "\u001b[34m\u001b[1mwandb\u001b[0m: \tlearning_rate: 0.007481059678338014\n",
      "\u001b[34m\u001b[1mwandb\u001b[0m: \tnum_epochs: 300\n",
      "\u001b[34m\u001b[1mwandb\u001b[0m: \tnum_layers: 3\n"
     ]
    },
    {
     "data": {
      "text/html": [
       "Tracking run with wandb version 0.19.9"
      ],
      "text/plain": [
       "<IPython.core.display.HTML object>"
      ]
     },
     "metadata": {},
     "output_type": "display_data"
    },
    {
     "data": {
      "text/html": [
       "Run data is saved locally in <code>/home/jovyan/DL_Project/wandb/run-20250414_193021-ideuhj75</code>"
      ],
      "text/plain": [
       "<IPython.core.display.HTML object>"
      ]
     },
     "metadata": {},
     "output_type": "display_data"
    },
    {
     "data": {
      "text/html": [
       "Syncing run <strong><a href='https://wandb.ai/darrenchanyuhao-singapore-university-of-technology-and-d/DeepLearning%20Project/runs/ideuhj75' target=\"_blank\">hopeful-sweep-23</a></strong> to <a href='https://wandb.ai/darrenchanyuhao-singapore-university-of-technology-and-d/DeepLearning%20Project' target=\"_blank\">Weights & Biases</a> (<a href='https://wandb.me/developer-guide' target=\"_blank\">docs</a>)<br>Sweep page: <a href='https://wandb.ai/darrenchanyuhao-singapore-university-of-technology-and-d/DeepLearning%20Project/sweeps/fe6fgats' target=\"_blank\">https://wandb.ai/darrenchanyuhao-singapore-university-of-technology-and-d/DeepLearning%20Project/sweeps/fe6fgats</a>"
      ],
      "text/plain": [
       "<IPython.core.display.HTML object>"
      ]
     },
     "metadata": {},
     "output_type": "display_data"
    },
    {
     "data": {
      "text/html": [
       " View project at <a href='https://wandb.ai/darrenchanyuhao-singapore-university-of-technology-and-d/DeepLearning%20Project' target=\"_blank\">https://wandb.ai/darrenchanyuhao-singapore-university-of-technology-and-d/DeepLearning%20Project</a>"
      ],
      "text/plain": [
       "<IPython.core.display.HTML object>"
      ]
     },
     "metadata": {},
     "output_type": "display_data"
    },
    {
     "data": {
      "text/html": [
       " View sweep at <a href='https://wandb.ai/darrenchanyuhao-singapore-university-of-technology-and-d/DeepLearning%20Project/sweeps/fe6fgats' target=\"_blank\">https://wandb.ai/darrenchanyuhao-singapore-university-of-technology-and-d/DeepLearning%20Project/sweeps/fe6fgats</a>"
      ],
      "text/plain": [
       "<IPython.core.display.HTML object>"
      ]
     },
     "metadata": {},
     "output_type": "display_data"
    },
    {
     "data": {
      "text/html": [
       " View run at <a href='https://wandb.ai/darrenchanyuhao-singapore-university-of-technology-and-d/DeepLearning%20Project/runs/ideuhj75' target=\"_blank\">https://wandb.ai/darrenchanyuhao-singapore-university-of-technology-and-d/DeepLearning%20Project/runs/ideuhj75</a>"
      ],
      "text/plain": [
       "<IPython.core.display.HTML object>"
      ]
     },
     "metadata": {},
     "output_type": "display_data"
    },
    {
     "name": "stdout",
     "output_type": "stream",
     "text": [
      "Epoch 1/300, Loss: 0.059969\n",
      "Epoch 51/300, Loss: 0.011907\n",
      "Epoch 101/300, Loss: 0.012815\n",
      "Epoch 151/300, Loss: 0.013267\n",
      "Epoch 201/300, Loss: 0.013763\n",
      "Epoch 251/300, Loss: 0.013299\n",
      "Epoch 300/300, Loss: 0.013535\n"
     ]
    },
    {
     "data": {
      "text/html": [],
      "text/plain": [
       "<IPython.core.display.HTML object>"
      ]
     },
     "metadata": {},
     "output_type": "display_data"
    },
    {
     "data": {
      "text/html": [
       "<br>    <style><br>        .wandb-row {<br>            display: flex;<br>            flex-direction: row;<br>            flex-wrap: wrap;<br>            justify-content: flex-start;<br>            width: 100%;<br>        }<br>        .wandb-col {<br>            display: flex;<br>            flex-direction: column;<br>            flex-basis: 100%;<br>            flex: 1;<br>            padding: 10px;<br>        }<br>    </style><br><div class=\"wandb-row\"><div class=\"wandb-col\"><h3>Run history:</h3><br/><table class=\"wandb\"><tr><td>epoch</td><td>▁▁▁▁▂▂▂▂▂▂▂▂▂▃▃▃▃▃▃▃▄▄▄▄▄▅▅▅▅▅▆▆▇▇▇▇▇▇██</td></tr><tr><td>loss</td><td>▃▆▂▂▆▁▁▁▁▃▁▁▁▁▁▃▄▃▃▃▅▄▆▄▄▅▆█▇█▅▅▆▇▅▅▅▅▅▆</td></tr></table><br/></div><div class=\"wandb-col\"><h3>Run summary:</h3><br/><table class=\"wandb\"><tr><td>epoch</td><td>299</td></tr><tr><td>loss</td><td>0.01354</td></tr></table><br/></div></div>"
      ],
      "text/plain": [
       "<IPython.core.display.HTML object>"
      ]
     },
     "metadata": {},
     "output_type": "display_data"
    },
    {
     "data": {
      "text/html": [
       " View run <strong style=\"color:#cdcd00\">hopeful-sweep-23</strong> at: <a href='https://wandb.ai/darrenchanyuhao-singapore-university-of-technology-and-d/DeepLearning%20Project/runs/ideuhj75' target=\"_blank\">https://wandb.ai/darrenchanyuhao-singapore-university-of-technology-and-d/DeepLearning%20Project/runs/ideuhj75</a><br> View project at: <a href='https://wandb.ai/darrenchanyuhao-singapore-university-of-technology-and-d/DeepLearning%20Project' target=\"_blank\">https://wandb.ai/darrenchanyuhao-singapore-university-of-technology-and-d/DeepLearning%20Project</a><br>Synced 5 W&B file(s), 0 media file(s), 0 artifact file(s) and 0 other file(s)"
      ],
      "text/plain": [
       "<IPython.core.display.HTML object>"
      ]
     },
     "metadata": {},
     "output_type": "display_data"
    },
    {
     "data": {
      "text/html": [
       "Find logs at: <code>./wandb/run-20250414_193021-ideuhj75/logs</code>"
      ],
      "text/plain": [
       "<IPython.core.display.HTML object>"
      ]
     },
     "metadata": {},
     "output_type": "display_data"
    },
    {
     "name": "stderr",
     "output_type": "stream",
     "text": [
      "\u001b[34m\u001b[1mwandb\u001b[0m: Sweep Agent: Waiting for job.\n",
      "\u001b[34m\u001b[1mwandb\u001b[0m: Job received.\n",
      "\u001b[34m\u001b[1mwandb\u001b[0m: Agent Starting Run: 5w860dqf with config:\n",
      "\u001b[34m\u001b[1mwandb\u001b[0m: \thidden_size: 64\n",
      "\u001b[34m\u001b[1mwandb\u001b[0m: \tlearning_rate: 0.0019164722630955469\n",
      "\u001b[34m\u001b[1mwandb\u001b[0m: \tnum_epochs: 300\n",
      "\u001b[34m\u001b[1mwandb\u001b[0m: \tnum_layers: 2\n"
     ]
    },
    {
     "data": {
      "text/html": [
       "Tracking run with wandb version 0.19.9"
      ],
      "text/plain": [
       "<IPython.core.display.HTML object>"
      ]
     },
     "metadata": {},
     "output_type": "display_data"
    },
    {
     "data": {
      "text/html": [
       "Run data is saved locally in <code>/home/jovyan/DL_Project/wandb/run-20250414_193117-5w860dqf</code>"
      ],
      "text/plain": [
       "<IPython.core.display.HTML object>"
      ]
     },
     "metadata": {},
     "output_type": "display_data"
    },
    {
     "data": {
      "text/html": [
       "Syncing run <strong><a href='https://wandb.ai/darrenchanyuhao-singapore-university-of-technology-and-d/DeepLearning%20Project/runs/5w860dqf' target=\"_blank\">dauntless-sweep-24</a></strong> to <a href='https://wandb.ai/darrenchanyuhao-singapore-university-of-technology-and-d/DeepLearning%20Project' target=\"_blank\">Weights & Biases</a> (<a href='https://wandb.me/developer-guide' target=\"_blank\">docs</a>)<br>Sweep page: <a href='https://wandb.ai/darrenchanyuhao-singapore-university-of-technology-and-d/DeepLearning%20Project/sweeps/fe6fgats' target=\"_blank\">https://wandb.ai/darrenchanyuhao-singapore-university-of-technology-and-d/DeepLearning%20Project/sweeps/fe6fgats</a>"
      ],
      "text/plain": [
       "<IPython.core.display.HTML object>"
      ]
     },
     "metadata": {},
     "output_type": "display_data"
    },
    {
     "data": {
      "text/html": [
       " View project at <a href='https://wandb.ai/darrenchanyuhao-singapore-university-of-technology-and-d/DeepLearning%20Project' target=\"_blank\">https://wandb.ai/darrenchanyuhao-singapore-university-of-technology-and-d/DeepLearning%20Project</a>"
      ],
      "text/plain": [
       "<IPython.core.display.HTML object>"
      ]
     },
     "metadata": {},
     "output_type": "display_data"
    },
    {
     "data": {
      "text/html": [
       " View sweep at <a href='https://wandb.ai/darrenchanyuhao-singapore-university-of-technology-and-d/DeepLearning%20Project/sweeps/fe6fgats' target=\"_blank\">https://wandb.ai/darrenchanyuhao-singapore-university-of-technology-and-d/DeepLearning%20Project/sweeps/fe6fgats</a>"
      ],
      "text/plain": [
       "<IPython.core.display.HTML object>"
      ]
     },
     "metadata": {},
     "output_type": "display_data"
    },
    {
     "data": {
      "text/html": [
       " View run at <a href='https://wandb.ai/darrenchanyuhao-singapore-university-of-technology-and-d/DeepLearning%20Project/runs/5w860dqf' target=\"_blank\">https://wandb.ai/darrenchanyuhao-singapore-university-of-technology-and-d/DeepLearning%20Project/runs/5w860dqf</a>"
      ],
      "text/plain": [
       "<IPython.core.display.HTML object>"
      ]
     },
     "metadata": {},
     "output_type": "display_data"
    },
    {
     "name": "stdout",
     "output_type": "stream",
     "text": [
      "Epoch 1/300, Loss: 0.020374\n",
      "Epoch 51/300, Loss: 0.005888\n",
      "Epoch 101/300, Loss: 0.003405\n",
      "Epoch 151/300, Loss: 0.001606\n",
      "Epoch 201/300, Loss: 0.001146\n",
      "Epoch 251/300, Loss: 0.000631\n",
      "Epoch 300/300, Loss: 0.000507\n"
     ]
    },
    {
     "data": {
      "text/html": [],
      "text/plain": [
       "<IPython.core.display.HTML object>"
      ]
     },
     "metadata": {},
     "output_type": "display_data"
    },
    {
     "data": {
      "text/html": [
       "<br>    <style><br>        .wandb-row {<br>            display: flex;<br>            flex-direction: row;<br>            flex-wrap: wrap;<br>            justify-content: flex-start;<br>            width: 100%;<br>        }<br>        .wandb-col {<br>            display: flex;<br>            flex-direction: column;<br>            flex-basis: 100%;<br>            flex: 1;<br>            padding: 10px;<br>        }<br>    </style><br><div class=\"wandb-row\"><div class=\"wandb-col\"><h3>Run history:</h3><br/><table class=\"wandb\"><tr><td>epoch</td><td>▁▁▁▁▂▂▂▃▃▃▃▃▃▄▄▄▄▄▄▄▅▅▅▅▅▅▅▆▆▆▆▆▆▆▇▇▇▇▇█</td></tr><tr><td>loss</td><td>█▆▅▅▄▄▄▄▄▃▃▃▃▃▃▂▃▂▂▂▂▂▂▂▂▁▁▁▁▁▁▁▁▁▁▁▁▁▁▁</td></tr></table><br/></div><div class=\"wandb-col\"><h3>Run summary:</h3><br/><table class=\"wandb\"><tr><td>epoch</td><td>299</td></tr><tr><td>loss</td><td>0.00051</td></tr></table><br/></div></div>"
      ],
      "text/plain": [
       "<IPython.core.display.HTML object>"
      ]
     },
     "metadata": {},
     "output_type": "display_data"
    },
    {
     "data": {
      "text/html": [
       " View run <strong style=\"color:#cdcd00\">dauntless-sweep-24</strong> at: <a href='https://wandb.ai/darrenchanyuhao-singapore-university-of-technology-and-d/DeepLearning%20Project/runs/5w860dqf' target=\"_blank\">https://wandb.ai/darrenchanyuhao-singapore-university-of-technology-and-d/DeepLearning%20Project/runs/5w860dqf</a><br> View project at: <a href='https://wandb.ai/darrenchanyuhao-singapore-university-of-technology-and-d/DeepLearning%20Project' target=\"_blank\">https://wandb.ai/darrenchanyuhao-singapore-university-of-technology-and-d/DeepLearning%20Project</a><br>Synced 5 W&B file(s), 0 media file(s), 0 artifact file(s) and 0 other file(s)"
      ],
      "text/plain": [
       "<IPython.core.display.HTML object>"
      ]
     },
     "metadata": {},
     "output_type": "display_data"
    },
    {
     "data": {
      "text/html": [
       "Find logs at: <code>./wandb/run-20250414_193117-5w860dqf/logs</code>"
      ],
      "text/plain": [
       "<IPython.core.display.HTML object>"
      ]
     },
     "metadata": {},
     "output_type": "display_data"
    },
    {
     "name": "stderr",
     "output_type": "stream",
     "text": [
      "\u001b[34m\u001b[1mwandb\u001b[0m: Agent Starting Run: 6vpcrzke with config:\n",
      "\u001b[34m\u001b[1mwandb\u001b[0m: \thidden_size: 128\n",
      "\u001b[34m\u001b[1mwandb\u001b[0m: \tlearning_rate: 0.008288380951227105\n",
      "\u001b[34m\u001b[1mwandb\u001b[0m: \tnum_epochs: 1000\n",
      "\u001b[34m\u001b[1mwandb\u001b[0m: \tnum_layers: 3\n"
     ]
    },
    {
     "data": {
      "text/html": [
       "Tracking run with wandb version 0.19.9"
      ],
      "text/plain": [
       "<IPython.core.display.HTML object>"
      ]
     },
     "metadata": {},
     "output_type": "display_data"
    },
    {
     "data": {
      "text/html": [
       "Run data is saved locally in <code>/home/jovyan/DL_Project/wandb/run-20250414_193201-6vpcrzke</code>"
      ],
      "text/plain": [
       "<IPython.core.display.HTML object>"
      ]
     },
     "metadata": {},
     "output_type": "display_data"
    },
    {
     "data": {
      "text/html": [
       "Syncing run <strong><a href='https://wandb.ai/darrenchanyuhao-singapore-university-of-technology-and-d/DeepLearning%20Project/runs/6vpcrzke' target=\"_blank\">noble-sweep-25</a></strong> to <a href='https://wandb.ai/darrenchanyuhao-singapore-university-of-technology-and-d/DeepLearning%20Project' target=\"_blank\">Weights & Biases</a> (<a href='https://wandb.me/developer-guide' target=\"_blank\">docs</a>)<br>Sweep page: <a href='https://wandb.ai/darrenchanyuhao-singapore-university-of-technology-and-d/DeepLearning%20Project/sweeps/fe6fgats' target=\"_blank\">https://wandb.ai/darrenchanyuhao-singapore-university-of-technology-and-d/DeepLearning%20Project/sweeps/fe6fgats</a>"
      ],
      "text/plain": [
       "<IPython.core.display.HTML object>"
      ]
     },
     "metadata": {},
     "output_type": "display_data"
    },
    {
     "data": {
      "text/html": [
       " View project at <a href='https://wandb.ai/darrenchanyuhao-singapore-university-of-technology-and-d/DeepLearning%20Project' target=\"_blank\">https://wandb.ai/darrenchanyuhao-singapore-university-of-technology-and-d/DeepLearning%20Project</a>"
      ],
      "text/plain": [
       "<IPython.core.display.HTML object>"
      ]
     },
     "metadata": {},
     "output_type": "display_data"
    },
    {
     "data": {
      "text/html": [
       " View sweep at <a href='https://wandb.ai/darrenchanyuhao-singapore-university-of-technology-and-d/DeepLearning%20Project/sweeps/fe6fgats' target=\"_blank\">https://wandb.ai/darrenchanyuhao-singapore-university-of-technology-and-d/DeepLearning%20Project/sweeps/fe6fgats</a>"
      ],
      "text/plain": [
       "<IPython.core.display.HTML object>"
      ]
     },
     "metadata": {},
     "output_type": "display_data"
    },
    {
     "data": {
      "text/html": [
       " View run at <a href='https://wandb.ai/darrenchanyuhao-singapore-university-of-technology-and-d/DeepLearning%20Project/runs/6vpcrzke' target=\"_blank\">https://wandb.ai/darrenchanyuhao-singapore-university-of-technology-and-d/DeepLearning%20Project/runs/6vpcrzke</a>"
      ],
      "text/plain": [
       "<IPython.core.display.HTML object>"
      ]
     },
     "metadata": {},
     "output_type": "display_data"
    },
    {
     "name": "stdout",
     "output_type": "stream",
     "text": [
      "Epoch 1/1000, Loss: 0.028999\n",
      "Epoch 51/1000, Loss: 0.012555\n",
      "Epoch 101/1000, Loss: 0.015141\n",
      "Epoch 151/1000, Loss: 0.013447\n",
      "Epoch 201/1000, Loss: 0.013098\n",
      "Epoch 251/1000, Loss: 0.012822\n",
      "Epoch 301/1000, Loss: 0.013526\n",
      "Epoch 351/1000, Loss: 0.013000\n",
      "Epoch 401/1000, Loss: 0.012718\n",
      "Epoch 451/1000, Loss: 0.012855\n",
      "Epoch 501/1000, Loss: 0.012854\n",
      "Epoch 551/1000, Loss: 0.012853\n",
      "Epoch 601/1000, Loss: 0.012855\n",
      "Epoch 651/1000, Loss: 0.013003\n",
      "Epoch 701/1000, Loss: 0.012888\n",
      "Epoch 751/1000, Loss: 0.012857\n",
      "Epoch 801/1000, Loss: 0.012337\n",
      "Epoch 851/1000, Loss: 0.012355\n",
      "Epoch 901/1000, Loss: 0.012386\n",
      "Epoch 951/1000, Loss: 0.012345\n",
      "Epoch 1000/1000, Loss: 0.013301\n"
     ]
    },
    {
     "data": {
      "text/html": [],
      "text/plain": [
       "<IPython.core.display.HTML object>"
      ]
     },
     "metadata": {},
     "output_type": "display_data"
    },
    {
     "data": {
      "text/html": [
       "<br>    <style><br>        .wandb-row {<br>            display: flex;<br>            flex-direction: row;<br>            flex-wrap: wrap;<br>            justify-content: flex-start;<br>            width: 100%;<br>        }<br>        .wandb-col {<br>            display: flex;<br>            flex-direction: column;<br>            flex-basis: 100%;<br>            flex: 1;<br>            padding: 10px;<br>        }<br>    </style><br><div class=\"wandb-row\"><div class=\"wandb-col\"><h3>Run history:</h3><br/><table class=\"wandb\"><tr><td>epoch</td><td>▁▁▁▂▂▂▂▂▃▃▃▄▄▄▄▄▄▄▅▅▅▅▅▅▅▆▆▆▇▇▇▇▇▇██████</td></tr><tr><td>loss</td><td>▁▄▄▅█▆▆▇▇▇▅▆▅▅▅▅▅▅▅▅▅▅▆▅▅▅▅▅▃▃▄▄▄▄▄▄▄▄▄▄</td></tr></table><br/></div><div class=\"wandb-col\"><h3>Run summary:</h3><br/><table class=\"wandb\"><tr><td>epoch</td><td>999</td></tr><tr><td>loss</td><td>0.0133</td></tr></table><br/></div></div>"
      ],
      "text/plain": [
       "<IPython.core.display.HTML object>"
      ]
     },
     "metadata": {},
     "output_type": "display_data"
    },
    {
     "data": {
      "text/html": [
       " View run <strong style=\"color:#cdcd00\">noble-sweep-25</strong> at: <a href='https://wandb.ai/darrenchanyuhao-singapore-university-of-technology-and-d/DeepLearning%20Project/runs/6vpcrzke' target=\"_blank\">https://wandb.ai/darrenchanyuhao-singapore-university-of-technology-and-d/DeepLearning%20Project/runs/6vpcrzke</a><br> View project at: <a href='https://wandb.ai/darrenchanyuhao-singapore-university-of-technology-and-d/DeepLearning%20Project' target=\"_blank\">https://wandb.ai/darrenchanyuhao-singapore-university-of-technology-and-d/DeepLearning%20Project</a><br>Synced 5 W&B file(s), 0 media file(s), 0 artifact file(s) and 0 other file(s)"
      ],
      "text/plain": [
       "<IPython.core.display.HTML object>"
      ]
     },
     "metadata": {},
     "output_type": "display_data"
    },
    {
     "data": {
      "text/html": [
       "Find logs at: <code>./wandb/run-20250414_193201-6vpcrzke/logs</code>"
      ],
      "text/plain": [
       "<IPython.core.display.HTML object>"
      ]
     },
     "metadata": {},
     "output_type": "display_data"
    },
    {
     "name": "stderr",
     "output_type": "stream",
     "text": [
      "\u001b[34m\u001b[1mwandb\u001b[0m: Agent Starting Run: 48olryl6 with config:\n",
      "\u001b[34m\u001b[1mwandb\u001b[0m: \thidden_size: 256\n",
      "\u001b[34m\u001b[1mwandb\u001b[0m: \tlearning_rate: 0.002820130638489579\n",
      "\u001b[34m\u001b[1mwandb\u001b[0m: \tnum_epochs: 1000\n",
      "\u001b[34m\u001b[1mwandb\u001b[0m: \tnum_layers: 2\n"
     ]
    },
    {
     "data": {
      "text/html": [
       "Tracking run with wandb version 0.19.9"
      ],
      "text/plain": [
       "<IPython.core.display.HTML object>"
      ]
     },
     "metadata": {},
     "output_type": "display_data"
    },
    {
     "data": {
      "text/html": [
       "Run data is saved locally in <code>/home/jovyan/DL_Project/wandb/run-20250414_193428-48olryl6</code>"
      ],
      "text/plain": [
       "<IPython.core.display.HTML object>"
      ]
     },
     "metadata": {},
     "output_type": "display_data"
    },
    {
     "data": {
      "text/html": [
       "Syncing run <strong><a href='https://wandb.ai/darrenchanyuhao-singapore-university-of-technology-and-d/DeepLearning%20Project/runs/48olryl6' target=\"_blank\">stoic-sweep-26</a></strong> to <a href='https://wandb.ai/darrenchanyuhao-singapore-university-of-technology-and-d/DeepLearning%20Project' target=\"_blank\">Weights & Biases</a> (<a href='https://wandb.me/developer-guide' target=\"_blank\">docs</a>)<br>Sweep page: <a href='https://wandb.ai/darrenchanyuhao-singapore-university-of-technology-and-d/DeepLearning%20Project/sweeps/fe6fgats' target=\"_blank\">https://wandb.ai/darrenchanyuhao-singapore-university-of-technology-and-d/DeepLearning%20Project/sweeps/fe6fgats</a>"
      ],
      "text/plain": [
       "<IPython.core.display.HTML object>"
      ]
     },
     "metadata": {},
     "output_type": "display_data"
    },
    {
     "data": {
      "text/html": [
       " View project at <a href='https://wandb.ai/darrenchanyuhao-singapore-university-of-technology-and-d/DeepLearning%20Project' target=\"_blank\">https://wandb.ai/darrenchanyuhao-singapore-university-of-technology-and-d/DeepLearning%20Project</a>"
      ],
      "text/plain": [
       "<IPython.core.display.HTML object>"
      ]
     },
     "metadata": {},
     "output_type": "display_data"
    },
    {
     "data": {
      "text/html": [
       " View sweep at <a href='https://wandb.ai/darrenchanyuhao-singapore-university-of-technology-and-d/DeepLearning%20Project/sweeps/fe6fgats' target=\"_blank\">https://wandb.ai/darrenchanyuhao-singapore-university-of-technology-and-d/DeepLearning%20Project/sweeps/fe6fgats</a>"
      ],
      "text/plain": [
       "<IPython.core.display.HTML object>"
      ]
     },
     "metadata": {},
     "output_type": "display_data"
    },
    {
     "data": {
      "text/html": [
       " View run at <a href='https://wandb.ai/darrenchanyuhao-singapore-university-of-technology-and-d/DeepLearning%20Project/runs/48olryl6' target=\"_blank\">https://wandb.ai/darrenchanyuhao-singapore-university-of-technology-and-d/DeepLearning%20Project/runs/48olryl6</a>"
      ],
      "text/plain": [
       "<IPython.core.display.HTML object>"
      ]
     },
     "metadata": {},
     "output_type": "display_data"
    },
    {
     "name": "stdout",
     "output_type": "stream",
     "text": [
      "Epoch 1/1000, Loss: 0.022001\n",
      "Epoch 51/1000, Loss: 0.006605\n",
      "Epoch 101/1000, Loss: 0.004763\n",
      "Epoch 151/1000, Loss: 0.002298\n",
      "Epoch 201/1000, Loss: 0.001470\n",
      "Epoch 251/1000, Loss: 0.000503\n",
      "Epoch 301/1000, Loss: 0.000250\n",
      "Epoch 351/1000, Loss: 0.000271\n",
      "Epoch 401/1000, Loss: 0.000370\n",
      "Epoch 451/1000, Loss: 0.000502\n",
      "Epoch 501/1000, Loss: 0.000200\n",
      "Epoch 551/1000, Loss: 0.000303\n",
      "Epoch 601/1000, Loss: 0.000624\n",
      "Epoch 651/1000, Loss: 0.000582\n",
      "Epoch 701/1000, Loss: 0.000370\n",
      "Epoch 751/1000, Loss: 0.000176\n",
      "Epoch 801/1000, Loss: 0.000344\n",
      "Epoch 851/1000, Loss: 0.000220\n",
      "Epoch 901/1000, Loss: 0.000076\n",
      "Epoch 951/1000, Loss: 0.000201\n",
      "Epoch 1000/1000, Loss: 0.000194\n"
     ]
    },
    {
     "data": {
      "text/html": [],
      "text/plain": [
       "<IPython.core.display.HTML object>"
      ]
     },
     "metadata": {},
     "output_type": "display_data"
    },
    {
     "data": {
      "text/html": [
       "<br>    <style><br>        .wandb-row {<br>            display: flex;<br>            flex-direction: row;<br>            flex-wrap: wrap;<br>            justify-content: flex-start;<br>            width: 100%;<br>        }<br>        .wandb-col {<br>            display: flex;<br>            flex-direction: column;<br>            flex-basis: 100%;<br>            flex: 1;<br>            padding: 10px;<br>        }<br>    </style><br><div class=\"wandb-row\"><div class=\"wandb-col\"><h3>Run history:</h3><br/><table class=\"wandb\"><tr><td>epoch</td><td>▁▁▁▁▁▂▂▂▂▂▂▃▃▃▄▄▄▄▄▅▅▅▅▅▆▆▆▆▆▆▆▇▇▇▇▇████</td></tr><tr><td>loss</td><td>█▆▅▅▅▃▃▁▁▁▁▁▁▁▁▁▁▁▁▁▁▁▁▁▁▁▁▁▁▁▁▁▁▁▁▁▁▁▁▁</td></tr></table><br/></div><div class=\"wandb-col\"><h3>Run summary:</h3><br/><table class=\"wandb\"><tr><td>epoch</td><td>999</td></tr><tr><td>loss</td><td>0.00019</td></tr></table><br/></div></div>"
      ],
      "text/plain": [
       "<IPython.core.display.HTML object>"
      ]
     },
     "metadata": {},
     "output_type": "display_data"
    },
    {
     "data": {
      "text/html": [
       " View run <strong style=\"color:#cdcd00\">stoic-sweep-26</strong> at: <a href='https://wandb.ai/darrenchanyuhao-singapore-university-of-technology-and-d/DeepLearning%20Project/runs/48olryl6' target=\"_blank\">https://wandb.ai/darrenchanyuhao-singapore-university-of-technology-and-d/DeepLearning%20Project/runs/48olryl6</a><br> View project at: <a href='https://wandb.ai/darrenchanyuhao-singapore-university-of-technology-and-d/DeepLearning%20Project' target=\"_blank\">https://wandb.ai/darrenchanyuhao-singapore-university-of-technology-and-d/DeepLearning%20Project</a><br>Synced 5 W&B file(s), 0 media file(s), 0 artifact file(s) and 0 other file(s)"
      ],
      "text/plain": [
       "<IPython.core.display.HTML object>"
      ]
     },
     "metadata": {},
     "output_type": "display_data"
    },
    {
     "data": {
      "text/html": [
       "Find logs at: <code>./wandb/run-20250414_193428-48olryl6/logs</code>"
      ],
      "text/plain": [
       "<IPython.core.display.HTML object>"
      ]
     },
     "metadata": {},
     "output_type": "display_data"
    },
    {
     "name": "stderr",
     "output_type": "stream",
     "text": [
      "\u001b[34m\u001b[1mwandb\u001b[0m: Agent Starting Run: ppksxukg with config:\n",
      "\u001b[34m\u001b[1mwandb\u001b[0m: \thidden_size: 256\n",
      "\u001b[34m\u001b[1mwandb\u001b[0m: \tlearning_rate: 0.0018977014214646068\n",
      "\u001b[34m\u001b[1mwandb\u001b[0m: \tnum_epochs: 1000\n",
      "\u001b[34m\u001b[1mwandb\u001b[0m: \tnum_layers: 2\n"
     ]
    },
    {
     "data": {
      "text/html": [
       "Tracking run with wandb version 0.19.9"
      ],
      "text/plain": [
       "<IPython.core.display.HTML object>"
      ]
     },
     "metadata": {},
     "output_type": "display_data"
    },
    {
     "data": {
      "text/html": [
       "Run data is saved locally in <code>/home/jovyan/DL_Project/wandb/run-20250414_193859-ppksxukg</code>"
      ],
      "text/plain": [
       "<IPython.core.display.HTML object>"
      ]
     },
     "metadata": {},
     "output_type": "display_data"
    },
    {
     "data": {
      "text/html": [
       "Syncing run <strong><a href='https://wandb.ai/darrenchanyuhao-singapore-university-of-technology-and-d/DeepLearning%20Project/runs/ppksxukg' target=\"_blank\">silvery-sweep-27</a></strong> to <a href='https://wandb.ai/darrenchanyuhao-singapore-university-of-technology-and-d/DeepLearning%20Project' target=\"_blank\">Weights & Biases</a> (<a href='https://wandb.me/developer-guide' target=\"_blank\">docs</a>)<br>Sweep page: <a href='https://wandb.ai/darrenchanyuhao-singapore-university-of-technology-and-d/DeepLearning%20Project/sweeps/fe6fgats' target=\"_blank\">https://wandb.ai/darrenchanyuhao-singapore-university-of-technology-and-d/DeepLearning%20Project/sweeps/fe6fgats</a>"
      ],
      "text/plain": [
       "<IPython.core.display.HTML object>"
      ]
     },
     "metadata": {},
     "output_type": "display_data"
    },
    {
     "data": {
      "text/html": [
       " View project at <a href='https://wandb.ai/darrenchanyuhao-singapore-university-of-technology-and-d/DeepLearning%20Project' target=\"_blank\">https://wandb.ai/darrenchanyuhao-singapore-university-of-technology-and-d/DeepLearning%20Project</a>"
      ],
      "text/plain": [
       "<IPython.core.display.HTML object>"
      ]
     },
     "metadata": {},
     "output_type": "display_data"
    },
    {
     "data": {
      "text/html": [
       " View sweep at <a href='https://wandb.ai/darrenchanyuhao-singapore-university-of-technology-and-d/DeepLearning%20Project/sweeps/fe6fgats' target=\"_blank\">https://wandb.ai/darrenchanyuhao-singapore-university-of-technology-and-d/DeepLearning%20Project/sweeps/fe6fgats</a>"
      ],
      "text/plain": [
       "<IPython.core.display.HTML object>"
      ]
     },
     "metadata": {},
     "output_type": "display_data"
    },
    {
     "data": {
      "text/html": [
       " View run at <a href='https://wandb.ai/darrenchanyuhao-singapore-university-of-technology-and-d/DeepLearning%20Project/runs/ppksxukg' target=\"_blank\">https://wandb.ai/darrenchanyuhao-singapore-university-of-technology-and-d/DeepLearning%20Project/runs/ppksxukg</a>"
      ],
      "text/plain": [
       "<IPython.core.display.HTML object>"
      ]
     },
     "metadata": {},
     "output_type": "display_data"
    },
    {
     "name": "stdout",
     "output_type": "stream",
     "text": [
      "Epoch 1/1000, Loss: 0.029718\n",
      "Epoch 51/1000, Loss: 0.006826\n",
      "Epoch 101/1000, Loss: 0.004456\n",
      "Epoch 151/1000, Loss: 0.002332\n",
      "Epoch 201/1000, Loss: 0.001318\n",
      "Epoch 251/1000, Loss: 0.000699\n",
      "Epoch 301/1000, Loss: 0.000531\n",
      "Epoch 351/1000, Loss: 0.000159\n",
      "Epoch 401/1000, Loss: 0.000390\n",
      "Epoch 451/1000, Loss: 0.000122\n",
      "Epoch 501/1000, Loss: 0.000185\n",
      "Epoch 551/1000, Loss: 0.000255\n",
      "Epoch 601/1000, Loss: 0.000116\n",
      "Epoch 651/1000, Loss: 0.000274\n",
      "Epoch 701/1000, Loss: 0.000410\n",
      "Epoch 751/1000, Loss: 0.000299\n",
      "Epoch 801/1000, Loss: 0.000203\n",
      "Epoch 851/1000, Loss: 0.000310\n",
      "Epoch 901/1000, Loss: 0.000230\n",
      "Epoch 951/1000, Loss: 0.000176\n",
      "Epoch 1000/1000, Loss: 0.000118\n"
     ]
    },
    {
     "data": {
      "text/html": [],
      "text/plain": [
       "<IPython.core.display.HTML object>"
      ]
     },
     "metadata": {},
     "output_type": "display_data"
    },
    {
     "data": {
      "text/html": [
       "<br>    <style><br>        .wandb-row {<br>            display: flex;<br>            flex-direction: row;<br>            flex-wrap: wrap;<br>            justify-content: flex-start;<br>            width: 100%;<br>        }<br>        .wandb-col {<br>            display: flex;<br>            flex-direction: column;<br>            flex-basis: 100%;<br>            flex: 1;<br>            padding: 10px;<br>        }<br>    </style><br><div class=\"wandb-row\"><div class=\"wandb-col\"><h3>Run history:</h3><br/><table class=\"wandb\"><tr><td>epoch</td><td>▁▁▁▁▁▂▂▂▂▂▃▃▃▃▄▄▄▄▄▄▄▅▅▅▅▆▆▆▆▆▆▇▇▇▇█████</td></tr><tr><td>loss</td><td>██▇▅▅▅▄▄▂▁▁▁▁▁▁▁▁▁▁▁▁▁▁▁▁▁▁▁▁▁▁▁▁▁▁▁▁▁▁▁</td></tr></table><br/></div><div class=\"wandb-col\"><h3>Run summary:</h3><br/><table class=\"wandb\"><tr><td>epoch</td><td>999</td></tr><tr><td>loss</td><td>0.00012</td></tr></table><br/></div></div>"
      ],
      "text/plain": [
       "<IPython.core.display.HTML object>"
      ]
     },
     "metadata": {},
     "output_type": "display_data"
    },
    {
     "data": {
      "text/html": [
       " View run <strong style=\"color:#cdcd00\">silvery-sweep-27</strong> at: <a href='https://wandb.ai/darrenchanyuhao-singapore-university-of-technology-and-d/DeepLearning%20Project/runs/ppksxukg' target=\"_blank\">https://wandb.ai/darrenchanyuhao-singapore-university-of-technology-and-d/DeepLearning%20Project/runs/ppksxukg</a><br> View project at: <a href='https://wandb.ai/darrenchanyuhao-singapore-university-of-technology-and-d/DeepLearning%20Project' target=\"_blank\">https://wandb.ai/darrenchanyuhao-singapore-university-of-technology-and-d/DeepLearning%20Project</a><br>Synced 5 W&B file(s), 0 media file(s), 0 artifact file(s) and 0 other file(s)"
      ],
      "text/plain": [
       "<IPython.core.display.HTML object>"
      ]
     },
     "metadata": {},
     "output_type": "display_data"
    },
    {
     "data": {
      "text/html": [
       "Find logs at: <code>./wandb/run-20250414_193859-ppksxukg/logs</code>"
      ],
      "text/plain": [
       "<IPython.core.display.HTML object>"
      ]
     },
     "metadata": {},
     "output_type": "display_data"
    },
    {
     "name": "stderr",
     "output_type": "stream",
     "text": [
      "\u001b[34m\u001b[1mwandb\u001b[0m: Sweep Agent: Waiting for job.\n",
      "\u001b[34m\u001b[1mwandb\u001b[0m: Job received.\n",
      "\u001b[34m\u001b[1mwandb\u001b[0m: Agent Starting Run: wyqf35mq with config:\n",
      "\u001b[34m\u001b[1mwandb\u001b[0m: \thidden_size: 256\n",
      "\u001b[34m\u001b[1mwandb\u001b[0m: \tlearning_rate: 0.0026271764502430583\n",
      "\u001b[34m\u001b[1mwandb\u001b[0m: \tnum_epochs: 1000\n",
      "\u001b[34m\u001b[1mwandb\u001b[0m: \tnum_layers: 2\n"
     ]
    },
    {
     "data": {
      "text/html": [
       "Tracking run with wandb version 0.19.9"
      ],
      "text/plain": [
       "<IPython.core.display.HTML object>"
      ]
     },
     "metadata": {},
     "output_type": "display_data"
    },
    {
     "data": {
      "text/html": [
       "Run data is saved locally in <code>/home/jovyan/DL_Project/wandb/run-20250414_194335-wyqf35mq</code>"
      ],
      "text/plain": [
       "<IPython.core.display.HTML object>"
      ]
     },
     "metadata": {},
     "output_type": "display_data"
    },
    {
     "data": {
      "text/html": [
       "Syncing run <strong><a href='https://wandb.ai/darrenchanyuhao-singapore-university-of-technology-and-d/DeepLearning%20Project/runs/wyqf35mq' target=\"_blank\">vivid-sweep-28</a></strong> to <a href='https://wandb.ai/darrenchanyuhao-singapore-university-of-technology-and-d/DeepLearning%20Project' target=\"_blank\">Weights & Biases</a> (<a href='https://wandb.me/developer-guide' target=\"_blank\">docs</a>)<br>Sweep page: <a href='https://wandb.ai/darrenchanyuhao-singapore-university-of-technology-and-d/DeepLearning%20Project/sweeps/fe6fgats' target=\"_blank\">https://wandb.ai/darrenchanyuhao-singapore-university-of-technology-and-d/DeepLearning%20Project/sweeps/fe6fgats</a>"
      ],
      "text/plain": [
       "<IPython.core.display.HTML object>"
      ]
     },
     "metadata": {},
     "output_type": "display_data"
    },
    {
     "data": {
      "text/html": [
       " View project at <a href='https://wandb.ai/darrenchanyuhao-singapore-university-of-technology-and-d/DeepLearning%20Project' target=\"_blank\">https://wandb.ai/darrenchanyuhao-singapore-university-of-technology-and-d/DeepLearning%20Project</a>"
      ],
      "text/plain": [
       "<IPython.core.display.HTML object>"
      ]
     },
     "metadata": {},
     "output_type": "display_data"
    },
    {
     "data": {
      "text/html": [
       " View sweep at <a href='https://wandb.ai/darrenchanyuhao-singapore-university-of-technology-and-d/DeepLearning%20Project/sweeps/fe6fgats' target=\"_blank\">https://wandb.ai/darrenchanyuhao-singapore-university-of-technology-and-d/DeepLearning%20Project/sweeps/fe6fgats</a>"
      ],
      "text/plain": [
       "<IPython.core.display.HTML object>"
      ]
     },
     "metadata": {},
     "output_type": "display_data"
    },
    {
     "data": {
      "text/html": [
       " View run at <a href='https://wandb.ai/darrenchanyuhao-singapore-university-of-technology-and-d/DeepLearning%20Project/runs/wyqf35mq' target=\"_blank\">https://wandb.ai/darrenchanyuhao-singapore-university-of-technology-and-d/DeepLearning%20Project/runs/wyqf35mq</a>"
      ],
      "text/plain": [
       "<IPython.core.display.HTML object>"
      ]
     },
     "metadata": {},
     "output_type": "display_data"
    },
    {
     "name": "stdout",
     "output_type": "stream",
     "text": [
      "Epoch 1/1000, Loss: 0.019094\n",
      "Epoch 51/1000, Loss: 0.006644\n",
      "Epoch 101/1000, Loss: 0.004606\n",
      "Epoch 151/1000, Loss: 0.002067\n",
      "Epoch 201/1000, Loss: 0.001514\n",
      "Epoch 251/1000, Loss: 0.000446\n",
      "Epoch 301/1000, Loss: 0.000738\n",
      "Epoch 351/1000, Loss: 0.000504\n",
      "Epoch 401/1000, Loss: 0.000233\n",
      "Epoch 451/1000, Loss: 0.000293\n",
      "Epoch 501/1000, Loss: 0.000303\n",
      "Epoch 551/1000, Loss: 0.000146\n",
      "Epoch 601/1000, Loss: 0.000484\n",
      "Epoch 651/1000, Loss: 0.000186\n",
      "Epoch 701/1000, Loss: 0.000081\n",
      "Epoch 751/1000, Loss: 0.000362\n",
      "Epoch 801/1000, Loss: 0.000218\n",
      "Epoch 851/1000, Loss: 0.000286\n",
      "Epoch 901/1000, Loss: 0.000231\n",
      "Epoch 951/1000, Loss: 0.000199\n",
      "Epoch 1000/1000, Loss: 0.000062\n"
     ]
    },
    {
     "data": {
      "text/html": [],
      "text/plain": [
       "<IPython.core.display.HTML object>"
      ]
     },
     "metadata": {},
     "output_type": "display_data"
    },
    {
     "data": {
      "text/html": [
       "<br>    <style><br>        .wandb-row {<br>            display: flex;<br>            flex-direction: row;<br>            flex-wrap: wrap;<br>            justify-content: flex-start;<br>            width: 100%;<br>        }<br>        .wandb-col {<br>            display: flex;<br>            flex-direction: column;<br>            flex-basis: 100%;<br>            flex: 1;<br>            padding: 10px;<br>        }<br>    </style><br><div class=\"wandb-row\"><div class=\"wandb-col\"><h3>Run history:</h3><br/><table class=\"wandb\"><tr><td>epoch</td><td>▁▁▁▁▁▁▂▂▂▂▂▂▃▃▃▃▃▄▄▄▄▄▅▅▅▅▆▆▆▆▆▇▇▇▇▇▇███</td></tr><tr><td>loss</td><td>█▆▅▅▄▃▂▂▂▂▂▂▂▁▁▁▁▁▁▁▁▁▁▁▁▁▁▁▁▁▁▁▁▁▁▁▁▁▁▁</td></tr></table><br/></div><div class=\"wandb-col\"><h3>Run summary:</h3><br/><table class=\"wandb\"><tr><td>epoch</td><td>999</td></tr><tr><td>loss</td><td>6e-05</td></tr></table><br/></div></div>"
      ],
      "text/plain": [
       "<IPython.core.display.HTML object>"
      ]
     },
     "metadata": {},
     "output_type": "display_data"
    },
    {
     "data": {
      "text/html": [
       " View run <strong style=\"color:#cdcd00\">vivid-sweep-28</strong> at: <a href='https://wandb.ai/darrenchanyuhao-singapore-university-of-technology-and-d/DeepLearning%20Project/runs/wyqf35mq' target=\"_blank\">https://wandb.ai/darrenchanyuhao-singapore-university-of-technology-and-d/DeepLearning%20Project/runs/wyqf35mq</a><br> View project at: <a href='https://wandb.ai/darrenchanyuhao-singapore-university-of-technology-and-d/DeepLearning%20Project' target=\"_blank\">https://wandb.ai/darrenchanyuhao-singapore-university-of-technology-and-d/DeepLearning%20Project</a><br>Synced 5 W&B file(s), 0 media file(s), 0 artifact file(s) and 0 other file(s)"
      ],
      "text/plain": [
       "<IPython.core.display.HTML object>"
      ]
     },
     "metadata": {},
     "output_type": "display_data"
    },
    {
     "data": {
      "text/html": [
       "Find logs at: <code>./wandb/run-20250414_194335-wyqf35mq/logs</code>"
      ],
      "text/plain": [
       "<IPython.core.display.HTML object>"
      ]
     },
     "metadata": {},
     "output_type": "display_data"
    },
    {
     "name": "stderr",
     "output_type": "stream",
     "text": [
      "\u001b[34m\u001b[1mwandb\u001b[0m: Agent Starting Run: xd2gc8bz with config:\n",
      "\u001b[34m\u001b[1mwandb\u001b[0m: \thidden_size: 256\n",
      "\u001b[34m\u001b[1mwandb\u001b[0m: \tlearning_rate: 0.002562080247089086\n",
      "\u001b[34m\u001b[1mwandb\u001b[0m: \tnum_epochs: 1000\n",
      "\u001b[34m\u001b[1mwandb\u001b[0m: \tnum_layers: 2\n"
     ]
    },
    {
     "data": {
      "text/html": [
       "Tracking run with wandb version 0.19.9"
      ],
      "text/plain": [
       "<IPython.core.display.HTML object>"
      ]
     },
     "metadata": {},
     "output_type": "display_data"
    },
    {
     "data": {
      "text/html": [
       "Run data is saved locally in <code>/home/jovyan/DL_Project/wandb/run-20250414_194804-xd2gc8bz</code>"
      ],
      "text/plain": [
       "<IPython.core.display.HTML object>"
      ]
     },
     "metadata": {},
     "output_type": "display_data"
    },
    {
     "data": {
      "text/html": [
       "Syncing run <strong><a href='https://wandb.ai/darrenchanyuhao-singapore-university-of-technology-and-d/DeepLearning%20Project/runs/xd2gc8bz' target=\"_blank\">worldly-sweep-29</a></strong> to <a href='https://wandb.ai/darrenchanyuhao-singapore-university-of-technology-and-d/DeepLearning%20Project' target=\"_blank\">Weights & Biases</a> (<a href='https://wandb.me/developer-guide' target=\"_blank\">docs</a>)<br>Sweep page: <a href='https://wandb.ai/darrenchanyuhao-singapore-university-of-technology-and-d/DeepLearning%20Project/sweeps/fe6fgats' target=\"_blank\">https://wandb.ai/darrenchanyuhao-singapore-university-of-technology-and-d/DeepLearning%20Project/sweeps/fe6fgats</a>"
      ],
      "text/plain": [
       "<IPython.core.display.HTML object>"
      ]
     },
     "metadata": {},
     "output_type": "display_data"
    },
    {
     "data": {
      "text/html": [
       " View project at <a href='https://wandb.ai/darrenchanyuhao-singapore-university-of-technology-and-d/DeepLearning%20Project' target=\"_blank\">https://wandb.ai/darrenchanyuhao-singapore-university-of-technology-and-d/DeepLearning%20Project</a>"
      ],
      "text/plain": [
       "<IPython.core.display.HTML object>"
      ]
     },
     "metadata": {},
     "output_type": "display_data"
    },
    {
     "data": {
      "text/html": [
       " View sweep at <a href='https://wandb.ai/darrenchanyuhao-singapore-university-of-technology-and-d/DeepLearning%20Project/sweeps/fe6fgats' target=\"_blank\">https://wandb.ai/darrenchanyuhao-singapore-university-of-technology-and-d/DeepLearning%20Project/sweeps/fe6fgats</a>"
      ],
      "text/plain": [
       "<IPython.core.display.HTML object>"
      ]
     },
     "metadata": {},
     "output_type": "display_data"
    },
    {
     "data": {
      "text/html": [
       " View run at <a href='https://wandb.ai/darrenchanyuhao-singapore-university-of-technology-and-d/DeepLearning%20Project/runs/xd2gc8bz' target=\"_blank\">https://wandb.ai/darrenchanyuhao-singapore-university-of-technology-and-d/DeepLearning%20Project/runs/xd2gc8bz</a>"
      ],
      "text/plain": [
       "<IPython.core.display.HTML object>"
      ]
     },
     "metadata": {},
     "output_type": "display_data"
    },
    {
     "name": "stdout",
     "output_type": "stream",
     "text": [
      "Epoch 1/1000, Loss: 0.019193\n",
      "Epoch 51/1000, Loss: 0.006152\n",
      "Epoch 101/1000, Loss: 0.004618\n",
      "Epoch 151/1000, Loss: 0.002365\n",
      "Epoch 201/1000, Loss: 0.001086\n",
      "Epoch 251/1000, Loss: 0.000639\n",
      "Epoch 301/1000, Loss: 0.000275\n",
      "Epoch 351/1000, Loss: 0.000337\n",
      "Epoch 401/1000, Loss: 0.000394\n",
      "Epoch 451/1000, Loss: 0.000324\n",
      "Epoch 501/1000, Loss: 0.000312\n",
      "Epoch 551/1000, Loss: 0.000234\n",
      "Epoch 601/1000, Loss: 0.000171\n",
      "Epoch 651/1000, Loss: 0.000473\n",
      "Epoch 701/1000, Loss: 0.000365\n",
      "Epoch 751/1000, Loss: 0.000293\n",
      "Epoch 801/1000, Loss: 0.000200\n",
      "Epoch 851/1000, Loss: 0.000100\n",
      "Epoch 901/1000, Loss: 0.000252\n",
      "Epoch 951/1000, Loss: 0.000142\n",
      "Epoch 1000/1000, Loss: 0.000034\n"
     ]
    },
    {
     "data": {
      "text/html": [],
      "text/plain": [
       "<IPython.core.display.HTML object>"
      ]
     },
     "metadata": {},
     "output_type": "display_data"
    },
    {
     "data": {
      "text/html": [
       "<br>    <style><br>        .wandb-row {<br>            display: flex;<br>            flex-direction: row;<br>            flex-wrap: wrap;<br>            justify-content: flex-start;<br>            width: 100%;<br>        }<br>        .wandb-col {<br>            display: flex;<br>            flex-direction: column;<br>            flex-basis: 100%;<br>            flex: 1;<br>            padding: 10px;<br>        }<br>    </style><br><div class=\"wandb-row\"><div class=\"wandb-col\"><h3>Run history:</h3><br/><table class=\"wandb\"><tr><td>epoch</td><td>▁▁▁▁▁▁▂▂▂▂▂▂▃▃▃▃▄▄▄▄▅▅▅▅▅▅▅▆▆▇▇▇▇███████</td></tr><tr><td>loss</td><td>█▆▅▅▄▂▁▁▁▁▁▁▁▁▁▁▁▁▁▁▁▁▁▁▁▁▁▁▁▁▁▁▁▁▁▁▁▁▁▁</td></tr></table><br/></div><div class=\"wandb-col\"><h3>Run summary:</h3><br/><table class=\"wandb\"><tr><td>epoch</td><td>999</td></tr><tr><td>loss</td><td>3e-05</td></tr></table><br/></div></div>"
      ],
      "text/plain": [
       "<IPython.core.display.HTML object>"
      ]
     },
     "metadata": {},
     "output_type": "display_data"
    },
    {
     "data": {
      "text/html": [
       " View run <strong style=\"color:#cdcd00\">worldly-sweep-29</strong> at: <a href='https://wandb.ai/darrenchanyuhao-singapore-university-of-technology-and-d/DeepLearning%20Project/runs/xd2gc8bz' target=\"_blank\">https://wandb.ai/darrenchanyuhao-singapore-university-of-technology-and-d/DeepLearning%20Project/runs/xd2gc8bz</a><br> View project at: <a href='https://wandb.ai/darrenchanyuhao-singapore-university-of-technology-and-d/DeepLearning%20Project' target=\"_blank\">https://wandb.ai/darrenchanyuhao-singapore-university-of-technology-and-d/DeepLearning%20Project</a><br>Synced 5 W&B file(s), 0 media file(s), 0 artifact file(s) and 0 other file(s)"
      ],
      "text/plain": [
       "<IPython.core.display.HTML object>"
      ]
     },
     "metadata": {},
     "output_type": "display_data"
    },
    {
     "data": {
      "text/html": [
       "Find logs at: <code>./wandb/run-20250414_194804-xd2gc8bz/logs</code>"
      ],
      "text/plain": [
       "<IPython.core.display.HTML object>"
      ]
     },
     "metadata": {},
     "output_type": "display_data"
    },
    {
     "name": "stderr",
     "output_type": "stream",
     "text": [
      "\u001b[34m\u001b[1mwandb\u001b[0m: Sweep Agent: Waiting for job.\n",
      "\u001b[34m\u001b[1mwandb\u001b[0m: Job received.\n",
      "\u001b[34m\u001b[1mwandb\u001b[0m: Agent Starting Run: bwusyetc with config:\n",
      "\u001b[34m\u001b[1mwandb\u001b[0m: \thidden_size: 256\n",
      "\u001b[34m\u001b[1mwandb\u001b[0m: \tlearning_rate: 0.003370260102354819\n",
      "\u001b[34m\u001b[1mwandb\u001b[0m: \tnum_epochs: 1000\n",
      "\u001b[34m\u001b[1mwandb\u001b[0m: \tnum_layers: 2\n"
     ]
    },
    {
     "data": {
      "text/html": [
       "Tracking run with wandb version 0.19.9"
      ],
      "text/plain": [
       "<IPython.core.display.HTML object>"
      ]
     },
     "metadata": {},
     "output_type": "display_data"
    },
    {
     "data": {
      "text/html": [
       "Run data is saved locally in <code>/home/jovyan/DL_Project/wandb/run-20250414_195241-bwusyetc</code>"
      ],
      "text/plain": [
       "<IPython.core.display.HTML object>"
      ]
     },
     "metadata": {},
     "output_type": "display_data"
    },
    {
     "data": {
      "text/html": [
       "Syncing run <strong><a href='https://wandb.ai/darrenchanyuhao-singapore-university-of-technology-and-d/DeepLearning%20Project/runs/bwusyetc' target=\"_blank\">rosy-sweep-30</a></strong> to <a href='https://wandb.ai/darrenchanyuhao-singapore-university-of-technology-and-d/DeepLearning%20Project' target=\"_blank\">Weights & Biases</a> (<a href='https://wandb.me/developer-guide' target=\"_blank\">docs</a>)<br>Sweep page: <a href='https://wandb.ai/darrenchanyuhao-singapore-university-of-technology-and-d/DeepLearning%20Project/sweeps/fe6fgats' target=\"_blank\">https://wandb.ai/darrenchanyuhao-singapore-university-of-technology-and-d/DeepLearning%20Project/sweeps/fe6fgats</a>"
      ],
      "text/plain": [
       "<IPython.core.display.HTML object>"
      ]
     },
     "metadata": {},
     "output_type": "display_data"
    },
    {
     "data": {
      "text/html": [
       " View project at <a href='https://wandb.ai/darrenchanyuhao-singapore-university-of-technology-and-d/DeepLearning%20Project' target=\"_blank\">https://wandb.ai/darrenchanyuhao-singapore-university-of-technology-and-d/DeepLearning%20Project</a>"
      ],
      "text/plain": [
       "<IPython.core.display.HTML object>"
      ]
     },
     "metadata": {},
     "output_type": "display_data"
    },
    {
     "data": {
      "text/html": [
       " View sweep at <a href='https://wandb.ai/darrenchanyuhao-singapore-university-of-technology-and-d/DeepLearning%20Project/sweeps/fe6fgats' target=\"_blank\">https://wandb.ai/darrenchanyuhao-singapore-university-of-technology-and-d/DeepLearning%20Project/sweeps/fe6fgats</a>"
      ],
      "text/plain": [
       "<IPython.core.display.HTML object>"
      ]
     },
     "metadata": {},
     "output_type": "display_data"
    },
    {
     "data": {
      "text/html": [
       " View run at <a href='https://wandb.ai/darrenchanyuhao-singapore-university-of-technology-and-d/DeepLearning%20Project/runs/bwusyetc' target=\"_blank\">https://wandb.ai/darrenchanyuhao-singapore-university-of-technology-and-d/DeepLearning%20Project/runs/bwusyetc</a>"
      ],
      "text/plain": [
       "<IPython.core.display.HTML object>"
      ]
     },
     "metadata": {},
     "output_type": "display_data"
    },
    {
     "name": "stdout",
     "output_type": "stream",
     "text": [
      "Epoch 1/1000, Loss: 0.029390\n",
      "Epoch 51/1000, Loss: 0.007093\n",
      "Epoch 101/1000, Loss: 0.004531\n",
      "Epoch 151/1000, Loss: 0.002134\n",
      "Epoch 201/1000, Loss: 0.001447\n",
      "Epoch 251/1000, Loss: 0.000552\n",
      "Epoch 301/1000, Loss: 0.000306\n",
      "Epoch 351/1000, Loss: 0.000518\n",
      "Epoch 401/1000, Loss: 0.000489\n",
      "Epoch 451/1000, Loss: 0.000495\n",
      "Epoch 501/1000, Loss: 0.000337\n",
      "Epoch 551/1000, Loss: 0.000308\n",
      "Epoch 601/1000, Loss: 0.000246\n",
      "Epoch 651/1000, Loss: 0.000156\n",
      "Epoch 701/1000, Loss: 0.000176\n",
      "Epoch 751/1000, Loss: 0.000226\n",
      "Epoch 801/1000, Loss: 0.000227\n",
      "Epoch 851/1000, Loss: 0.000303\n",
      "Epoch 901/1000, Loss: 0.000276\n",
      "Epoch 951/1000, Loss: 0.000455\n",
      "Epoch 1000/1000, Loss: 0.000195\n"
     ]
    },
    {
     "data": {
      "text/html": [],
      "text/plain": [
       "<IPython.core.display.HTML object>"
      ]
     },
     "metadata": {},
     "output_type": "display_data"
    },
    {
     "data": {
      "text/html": [
       "<br>    <style><br>        .wandb-row {<br>            display: flex;<br>            flex-direction: row;<br>            flex-wrap: wrap;<br>            justify-content: flex-start;<br>            width: 100%;<br>        }<br>        .wandb-col {<br>            display: flex;<br>            flex-direction: column;<br>            flex-basis: 100%;<br>            flex: 1;<br>            padding: 10px;<br>        }<br>    </style><br><div class=\"wandb-row\"><div class=\"wandb-col\"><h3>Run history:</h3><br/><table class=\"wandb\"><tr><td>epoch</td><td>▁▁▁▁▁▂▂▂▂▂▃▃▃▃▃▄▄▄▄▄▄▅▅▅▅▅▅▅▅▅▆▆▆▇▇▇████</td></tr><tr><td>loss</td><td>█▆▆▅▃▂▂▂▂▁▂▁▁▁▁▁▁▁▁▁▁▁▁▁▁▁▁▁▁▁▁▁▁▁▁▁▁▁▁▁</td></tr></table><br/></div><div class=\"wandb-col\"><h3>Run summary:</h3><br/><table class=\"wandb\"><tr><td>epoch</td><td>999</td></tr><tr><td>loss</td><td>0.0002</td></tr></table><br/></div></div>"
      ],
      "text/plain": [
       "<IPython.core.display.HTML object>"
      ]
     },
     "metadata": {},
     "output_type": "display_data"
    },
    {
     "data": {
      "text/html": [
       " View run <strong style=\"color:#cdcd00\">rosy-sweep-30</strong> at: <a href='https://wandb.ai/darrenchanyuhao-singapore-university-of-technology-and-d/DeepLearning%20Project/runs/bwusyetc' target=\"_blank\">https://wandb.ai/darrenchanyuhao-singapore-university-of-technology-and-d/DeepLearning%20Project/runs/bwusyetc</a><br> View project at: <a href='https://wandb.ai/darrenchanyuhao-singapore-university-of-technology-and-d/DeepLearning%20Project' target=\"_blank\">https://wandb.ai/darrenchanyuhao-singapore-university-of-technology-and-d/DeepLearning%20Project</a><br>Synced 5 W&B file(s), 0 media file(s), 0 artifact file(s) and 0 other file(s)"
      ],
      "text/plain": [
       "<IPython.core.display.HTML object>"
      ]
     },
     "metadata": {},
     "output_type": "display_data"
    },
    {
     "data": {
      "text/html": [
       "Find logs at: <code>./wandb/run-20250414_195241-bwusyetc/logs</code>"
      ],
      "text/plain": [
       "<IPython.core.display.HTML object>"
      ]
     },
     "metadata": {},
     "output_type": "display_data"
    }
   ],
   "source": [
    "sweep_id = wandb.sweep(sweep_config, project=\"DeepLearning Project\")\n",
    "wandb.agent(sweep_id, function=sweep_train, count=30)"
   ]
  },
  {
   "cell_type": "code",
   "execution_count": 30,
   "metadata": {},
   "outputs": [
    {
     "name": "stdout",
     "output_type": "stream",
     "text": [
      "6\n"
     ]
    }
   ],
   "source": [
    "print(len(test_loader))"
   ]
  },
  {
   "cell_type": "code",
   "execution_count": 70,
   "metadata": {},
   "outputs": [
    {
     "data": {
      "text/plain": [
       "<All keys matched successfully>"
      ]
     },
     "execution_count": 70,
     "metadata": {},
     "output_type": "execute_result"
    }
   ],
   "source": [
    "model = BiLSTM_pt(input_size, hidden_size, num_layers, output_size).to(device)\n",
    "model.load_state_dict(torch.load('./bi_LSTM/bi_LSTM251_loss_0.001719.pth'))"
   ]
  },
  {
   "cell_type": "code",
   "execution_count": null,
   "metadata": {},
   "outputs": [
    {
     "ename": "",
     "evalue": "",
     "output_type": "error",
     "traceback": [
      "\u001b[1;31mFailed to start the Kernel 'venv (Python 3.12.4)'. \n",
      "\u001b[1;31mView Jupyter <a href='command:jupyter.viewOutput'>log</a> for further details. WebSocket is not defined"
     ]
    }
   ],
   "source": [
    "model.eval()\n",
    "\n",
    "# Initialize variables to track loss\n",
    "loss_value = 0\n",
    "num_batches = 0\n",
    "\n",
    "# Define the loss function\n",
    "criterion = torch.nn.MSELoss()\n",
    "\n",
    "# Initialize hidden state and cell state\n",
    "hidden_state, cell_state = None, None  \n",
    "mae_list = []\n",
    "\n",
    "# Disable gradient computation for validation\n",
    "with torch.no_grad():\n",
    "    for batch_idx, (inputs, targets) in enumerate(test_loader):\n",
    "        if batch_idx == len(test_loader) - 1:  \n",
    "            break  # Skip the last batch\n",
    "\n",
    "        # Forward pass\n",
    "        inputs = inputs.to(device)\n",
    "        output, cell_state, hidden_state = model(inputs, cell_state, hidden_state)\n",
    "        output = output.unsqueeze(-1).permute(0, 2, 1)\n",
    "\n",
    "        output = output.to(device)\n",
    "        targets = targets.to(device)\n",
    "        \n",
    "        # Denormalize predictions and targets (for all 3 time steps)\n",
    "        output_denorm = output * (data_max[\"Average Taxi Availability\"] - data_min[\"Average Taxi Availability\"]) + data_min[\"Average Taxi Availability\"]\n",
    "        targets_denorm = targets * (data_max[\"Average Taxi Availability\"] - data_min[\"Average Taxi Availability\"]) + data_min[\"Average Taxi Availability\"]\n",
    "\n",
    "        # Compute loss on normalized data\n",
    "        loss_value += criterion(output, targets)\n",
    "        mae = torch.mean(torch.abs(output_denorm - targets_denorm))\n",
    "        mae_list.append(mae)\n",
    "\n",
    "        # Print a sample of the normalized and denormalized values\n",
    "        print(\"Normalized output[0]:\", output[0].tolist())  \n",
    "        print(\"Normalized target[0]:\", targets[0].tolist())  \n",
    "        print(\"Denormalized output[0]:\", output_denorm[0].tolist())  \n",
    "        print(\"Denormalized target[0]:\", targets_denorm[0].tolist())  \n",
    "        print(\"-\" * 50)\n",
    "\n",
    "# Compute average loss\n",
    "loss_value = loss_value / (len(test_loader) - 1)\n",
    "print(\"Predicted output shape:\", output.shape)\n",
    "print(\"True output shape:\", targets.shape)\n",
    "print(f'Average Validation Loss: {loss_value:.4f}')\n",
    "\n",
    "mae = torch.mean(torch.tensor(mae_list))\n",
    "print(f'Mean Absolute Error: {mae:.4f}')"
   ]
  },
  {
   "cell_type": "code",
   "execution_count": null,
   "metadata": {},
   "outputs": [],
   "source": [
    "\n"
   ]
  }
 ],
 "metadata": {
  "kernelspec": {
   "display_name": "venv",
   "language": "python",
   "name": "python3"
  },
  "language_info": {
   "codemirror_mode": {
    "name": "ipython",
    "version": 3
   },
   "file_extension": ".py",
   "mimetype": "text/x-python",
   "name": "python",
   "nbconvert_exporter": "python",
   "pygments_lexer": "ipython3",
   "version": "3.12.4"
  }
 },
 "nbformat": 4,
 "nbformat_minor": 4
}
