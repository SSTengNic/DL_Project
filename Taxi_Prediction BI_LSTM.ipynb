{
 "cells": [
  {
   "cell_type": "markdown",
   "metadata": {},
   "source": [
    "### Imports and CUDA"
   ]
  },
  {
   "cell_type": "code",
   "execution_count": 80,
   "metadata": {},
   "outputs": [],
   "source": [
    "# Matplotlib\n",
    "import requests\n",
    "import matplotlib.pyplot as plt\n",
    "# Numpy\n",
    "import numpy as np\n",
    "# Torch\n",
    "import torch\n",
    "from torch.utils.data import TensorDataset, DataLoader\n",
    "from sklearn.model_selection import train_test_split\n",
    "from sklearn.preprocessing import MinMaxScaler\n",
    "\n",
    "import pandas as pd"
   ]
  },
  {
   "cell_type": "code",
   "execution_count": 81,
   "metadata": {},
   "outputs": [
    {
     "name": "stdout",
     "output_type": "stream",
     "text": [
      "cpu\n"
     ]
    }
   ],
   "source": [
    "# Use GPU if available, else use CPU\n",
    "device = torch.device(\"cuda\" if torch.cuda.is_available() else \"cpu\")\n",
    "print(device)"
   ]
  },
  {
   "cell_type": "markdown",
   "metadata": {},
   "source": [
    "### Objective\n",
    "\n",
    "#### To develop a model that predicts taxi availability within a specific area for the next three hours. This means that if the model is run at 12 PM, it will provide predicted taxi availability for 1 PM, 2 PM, and 3 PM.\n",
    "\n",
    "The area of interest is defined by the following geographical boundaries:\n",
    "\n",
    "    North: 1.35106\n",
    "    South: 1.32206\n",
    "    East: 103.97839\n",
    "    West: 103.92805\n",
    "\n",
    "To identify the taxis currently available within this region, we use the TaxiAvailabilityScript.py.\n",
    "\n",
    "This script collects real-time data, which serves as input for our predictive model.\n",
    "\n",
    "By leveraging historical taxi availability trends and real-time data, our model aims to provide accurate forecasts, helping commuters, ride-hailing services, and urban planners make informed decisions.\n"
   ]
  },
  {
   "cell_type": "markdown",
   "metadata": {},
   "source": [
    "# **To-Do List for Taxi Availability Prediction**\n",
    "\n",
    "## **Step 1: Cleaning the Taxi Availability Data**\n",
    "The first step involves retrieving and preprocessing the taxi availability dataset. The dataset consists of the following columns:\n",
    "\n",
    "1. **DateTime**  \n",
    "2. **Taxi Available Throughout Singapore**  \n",
    "3. **Taxi Available in Selected Box Area**  \n",
    "4. **Coordinates[]**  \n",
    "\n",
    "For our specific use case, **the coordinates column will not be used for now**.  \n",
    "\n",
    "To prepare the data for the neural network:  \n",
    "- **Inputs:** We will use `DateTime` and `Taxi Available Throughout Singapore` as features.  \n",
    "- **Output:** `Taxi Available in Selected Box Area` will be the target variable.  \n",
    "- **DateTime Conversion:** Since `DateTime` is not in a format suitable for neural networks, we will extract relevant features:\n",
    "  - **IsWeekend**: A binary feature (1 if it's a weekend, 0 otherwise).  \n",
    "  - **Hour**: Transformed into a numerical value between **1 and 24** (avoiding 0, which may cause training issues).  \n",
    "\n",
    "---\n",
    "\n",
    "## **Step 2: Adding Additional Features**  \n",
    "*(Partially completed; will be refined over time)*  \n",
    "\n",
    "Aside from the existing columns, we aim to incorporate additional features that may improve prediction accuracy:  \n",
    "\n",
    "1. **ERP Rates (Electronic Road Pricing) at the given time and location**  \n",
    "   - Uncertain if this will significantly impact predictions. Further analysis is needed.  \n",
    "\n",
    "2. **Number of LTA (Land Transport Authority) gantry locations**  \n",
    "   - Again, its usefulness remains uncertain—further evaluation required.  \n",
    "\n",
    "3. **Traffic Incidents in the Selected Area**  \n",
    "   - A script (`TrafficIncidentScript.py`) has been written to update `traffic_incident.csv` with the latest traffic incidents.  \n",
    "   - Over time, as the dataset grows, we hope this feature will become useful.  \n",
    "\n",
    "4. **Number of Taxi Stands in the Area**  \n",
    "   - Currently **not useful** because our area of interest is fixed.  \n",
    "   - However, if we allow dynamic selection of areas in the future, this could become relevant.  \n",
    "\n",
    "5. **Temperature at a Given Time and Date** *(To be implemented)*  \n",
    "\n",
    "6. **Rainfall Data** *(To be implemented)*  \n",
    "\n",
    "To ensure all features align properly, we will **synchronize all datasets based on DateTime** before feeding them into the model.  \n",
    "\n",
    "---\n",
    "\n",
    "## **Step 3: Creating the Training-Test Split**  \n",
    "- Initially, we will perform an **80/20 Training-Test split** for simplicity.  \n",
    "- In the future, we may introduce a **Training-Validation-Test split** to further refine model performance.  \n",
    "\n",
    "---\n",
    "\n",
    "## **Step 4: Building the Model**  \n",
    "We will begin with an **LSTM model**, as LSTMs are well-suited for time-series forecasting.  \n",
    "- **Initial Limitation:** The model, in its basic form, will only predict the next hour.  \n",
    "- **Future Improvement:** A **sliding window approach** will be explored and implemented to extend predictions further.  \n",
    "\n",
    "---\n",
    "\n",
    "## **Step 5: Model Evaluation and Improvement**  \n",
    "- After the initial model is trained, we will assess its performance.  \n",
    "- Based on results, we will explore potential improvements, such as hyperparameter tuning, architectural modifications, or additional feature engineering.  \n",
    "\n",
    "---\n",
    "\n",
    "This structured approach will guide the development of a robust and accurate taxi availability prediction model. 🚖💡\n"
   ]
  },
  {
   "cell_type": "markdown",
   "metadata": {},
   "source": [
    "## **Preparing the taxi_availability data here.**\n",
    "\n",
    "Normalization of certain inputs are done as well, but I am unsure if it is the right thing to do as well."
   ]
  },
  {
   "cell_type": "code",
   "execution_count": 82,
   "metadata": {},
   "outputs": [],
   "source": [
    "# weather_file_path = \"merged_weather.csv\"\n",
    "# weather_df = pd.read_csv(weather_file_path, delimiter=\",\")\n",
    "\n",
    "# weather_df = weather_df[::-1]\n"
   ]
  },
  {
   "cell_type": "code",
   "execution_count": 84,
   "metadata": {},
   "outputs": [
    {
     "name": "stdout",
     "output_type": "stream",
     "text": [
      "Taxi Available throughout SG             int64\n",
      "Taxi Available in Selected Box Area      int64\n",
      "temp_value                             float64\n",
      "humidity_value                         float64\n",
      "rainfall_value                         float64\n",
      "IsWeekend                                int64\n",
      "Hour                                     int32\n",
      "dtype: object\n"
     ]
    }
   ],
   "source": [
    "# taxi_availability_file_path = \"taxi_availability.csv\"\n",
    "\n",
    "# taxi_df = pd.read_csv(taxi_availability_file_path, delimiter=\",\")\n",
    "\n",
    "merged_weather_taxi_df = \"merged_file_3_years (2).csv\"\n",
    "taxi_df = pd.read_csv(merged_weather_taxi_df, delimiter = \",\")\n",
    "\n",
    "#Adjusting for weather parameters\n",
    "taxi_df = taxi_df.drop(columns = \"stationId\")\n",
    "\n",
    "#Adjusting for taxi_vailability parameters\n",
    "taxi_df_coordinates = taxi_df[\"Coordinates[]\"]\n",
    "taxt_df_datetime = taxi_df[\"DateTime\"]\n",
    "taxi_df = taxi_df.drop(columns = \"Coordinates[]\")\n",
    "taxi_df[\"DateTime\"] = pd.to_datetime(taxi_df[\"DateTime\"])\n",
    "\n",
    "taxi_df[\"IsWeekend\"] = (taxi_df[\"DateTime\"].dt.weekday >= 5).astype(int)\n",
    "taxi_df[\"Hour\"] = taxi_df[\"DateTime\"].dt.hour + 1  # Convert 0-23 to 1-24\n",
    "taxi_df = taxi_df.drop(columns = \"DateTime\")\n",
    "\n",
    "print(taxi_df.dtypes)"
   ]
  },
  {
   "cell_type": "markdown",
   "metadata": {},
   "source": [
    "### Converting all dtypes into float32"
   ]
  },
  {
   "cell_type": "code",
   "execution_count": null,
   "metadata": {},
   "outputs": [
    {
     "name": "stdout",
     "output_type": "stream",
     "text": [
      "numeric_columns Index(['Taxi Available throughout SG', 'Taxi Available in Selected Box Area',\n",
      "       'temp_value', 'humidity_value', 'rainfall_value', 'IsWeekend', 'Hour'],\n",
      "      dtype='object')\n"
     ]
    }
   ],
   "source": [
    "# taxi_df=taxi_df[:5120]\n",
    "numeric_columns = taxi_df.select_dtypes(include=['int64', 'int32','float64','object']).columns\n",
    "print(\"numeric_columns\",numeric_columns)\n",
    "taxi_df[numeric_columns] = taxi_df[numeric_columns].astype('float32')\n",
    "numeric_columns = taxi_df.select_dtypes(include=['int64', 'int32','float64','object']).columns\n",
    "\n",
    "# Convert selected columns to float32\n",
    "taxi_df[numeric_columns] = taxi_df[numeric_columns].astype('float32')\n",
    "\n",
    "\n"
   ]
  },
  {
   "cell_type": "markdown",
   "metadata": {},
   "source": [
    "### Normalizing all values"
   ]
  },
  {
   "cell_type": "code",
   "execution_count": 85,
   "metadata": {},
   "outputs": [
    {
     "name": "stdout",
     "output_type": "stream",
     "text": [
      "Input Data:  (25712, 6)\n",
      "Output Data:  (25712,)\n"
     ]
    }
   ],
   "source": [
    "#---------------Normalise-----------------------\n",
    "# Drop 'DateTime' as it's no longer needed\n",
    "# Normalize the 'Hour' and 'IsWeekend' columns (if needed)\n",
    "\n",
    "\n",
    "data_min = taxi_df.min(axis=0)\n",
    "data_max = taxi_df.max(axis=0)\n",
    "taxi_df_normalized = (taxi_df - data_min) / (data_max - data_min)\n",
    "\n",
    "# scaler = MinMaxScaler()\n",
    "# taxi_df[[\"Hour\", \"IsWeekend\", \"Taxi Available throughout SG\",\"Taxi Available in Selected Box Area\"]] = scaler.fit_transform(taxi_df[[\"Hour\", \"IsWeekend\",\"Taxi Available throughout SG\",\"Taxi Available in Selected Box Area\"]])\n",
    "# taxi_df = taxi_df.apply(pd.to_numeric, errors='coerce')\n",
    "taxi_df_output_normalized  = taxi_df_normalized[\"Taxi Available in Selected Box Area\"]\n",
    "taxi_df_normalized = taxi_df_normalized.drop(columns = \"Taxi Available in Selected Box Area\")\n",
    "taxi_df_normalized.to_csv(\"checker.csv\", index=False)  # Set index=False to exclude row numbers\n",
    "\n",
    "# Convert to NumPy arrays\n",
    "input_data = taxi_df_normalized.values  # Shape: (5120, num_features)\n",
    "output_data = taxi_df_output_normalized.values  # Shape: (5120,)\n",
    "# taxi_df_output = taxi_df[\"Taxi Available in Selected Box Area\"]\n",
    "# input_data = taxi_df.values  # Shape: (5120, num_features)\n",
    "# output_data = taxi_df_output.values  # Shape: (5120,)\n",
    "\n",
    "print(\"Input Data: \",input_data.shape)\n",
    "print(\"Output Data: \",output_data.shape)\n",
    "\n",
    "# Define sequence length\n",
    "\n"
   ]
  },
  {
   "cell_type": "markdown",
   "metadata": {},
   "source": [
    "### No Normalization Style"
   ]
  },
  {
   "cell_type": "code",
   "execution_count": null,
   "metadata": {},
   "outputs": [],
   "source": [
    "# #---------------No Normalization-----------------------\n",
    "\n",
    "# # Drop 'DateTime' as it's no longer needed\n",
    "# taxi_df_no_norm = taxi_df  # Remove DateTime but keep raw values\n",
    "\n",
    "# # Separate input and output data\n",
    "# taxi_df_output_no_norm = taxi_df_no_norm[\"Taxi Available in Selected Box Area\"]\n",
    "# taxi_df_no_norm = taxi_df_no_norm.drop(columns=[\"Taxi Available in Selected Box Area\"])\n",
    "\n",
    "# # Save to CSV for checking\n",
    "# taxi_df_no_norm.to_csv(\"checker_no_norm.csv\", index=False)  # Set index=False to exclude row numbers\n",
    "\n",
    "# # Convert to NumPy arrays (raw values)\n",
    "# input_data = taxi_df_no_norm.values  # Shape: (5120, num_features)\n",
    "# output_data = taxi_df_output_no_norm.values  # Shape: (5120,)\n",
    "\n",
    "# print(\"Input Data: \", input_data.shape)\n",
    "# print(\"Input Data: \", input_data[0])\n",
    "\n",
    "# print(\"Output Data: \", output_data.shape)\n",
    "# print(\"Input Data: \", output_data[0])\n"
   ]
  },
  {
   "cell_type": "markdown",
   "metadata": {},
   "source": [
    "### Create Sequence Function"
   ]
  },
  {
   "cell_type": "code",
   "execution_count": 86,
   "metadata": {},
   "outputs": [],
   "source": [
    "seq_length = 24\n",
    "pred_horizon = 3  # Number of future time steps to predict\n",
    "\n",
    "def create_sequences(data, labels, seq_length, pred_horizon):\n",
    "    xs, ys = [], []\n",
    "    for i in range(0, len(data), seq_length):  # Start from 0 and increment by seq_length\n",
    "        if i + seq_length + pred_horizon <= len(data):  # Ensure enough data for prediction horizon\n",
    "            xs.append(data[i:i + seq_length])  # Input sequence (continuous)\n",
    "            ys.append(labels[i + seq_length : i + seq_length + pred_horizon])  # Next 3 values\n",
    "    return np.array(xs), np.array(ys)\n"
   ]
  },
  {
   "cell_type": "code",
   "execution_count": 87,
   "metadata": {},
   "outputs": [
    {
     "name": "stdout",
     "output_type": "stream",
     "text": [
      "Inputs: torch.Size([17, 24, 6]), Targets: torch.Size([17, 1, 3])\n"
     ]
    },
    {
     "name": "stderr",
     "output_type": "stream",
     "text": [
      "C:\\Users\\nicho\\AppData\\Local\\Temp\\ipykernel_25672\\3437087755.py:16: UserWarning: To copy construct from a tensor, it is recommended to use sourceTensor.clone().detach() or sourceTensor.clone().detach().requires_grad_(True), rather than torch.tensor(sourceTensor).\n",
      "  trainX = torch.tensor(trainX, dtype=torch.float32)  # Shape: (train_size, 24, num_features)\n",
      "C:\\Users\\nicho\\AppData\\Local\\Temp\\ipykernel_25672\\3437087755.py:17: UserWarning: To copy construct from a tensor, it is recommended to use sourceTensor.clone().detach() or sourceTensor.clone().detach().requires_grad_(True), rather than torch.tensor(sourceTensor).\n",
      "  trainY = torch.tensor(trainY, dtype=torch.float32)  # Shape: (train_size,)\n",
      "C:\\Users\\nicho\\AppData\\Local\\Temp\\ipykernel_25672\\3437087755.py:18: UserWarning: To copy construct from a tensor, it is recommended to use sourceTensor.clone().detach() or sourceTensor.clone().detach().requires_grad_(True), rather than torch.tensor(sourceTensor).\n",
      "  testX = torch.tensor(testX, dtype=torch.float32)    # Shape: (test_size, 24, num_features)\n",
      "C:\\Users\\nicho\\AppData\\Local\\Temp\\ipykernel_25672\\3437087755.py:19: UserWarning: To copy construct from a tensor, it is recommended to use sourceTensor.clone().detach() or sourceTensor.clone().detach().requires_grad_(True), rather than torch.tensor(sourceTensor).\n",
      "  testY = torch.tensor(testY, dtype=torch.float32)    # Shape: (test_size,)\n"
     ]
    }
   ],
   "source": [
    "\n",
    "X, y = create_sequences(input_data, output_data, seq_length,pred_horizon)\n",
    "\n",
    "\n",
    "# Convert to PyTorch tensors\n",
    "X = torch.tensor(X, dtype=torch.float32)  # Add channel dim\n",
    "y = torch.tensor(y[:, None], dtype=torch.float32)\n",
    "\n",
    "# Split into training (80%) and testing (20%)\n",
    "train_size = int(0.8 * len(X))\n",
    "test_size = len(X) - train_size\n",
    "\n",
    "trainX, testX = X[:train_size], X[train_size:]\n",
    "trainY, testY = y[:train_size], y[train_size:]\n",
    "\n",
    "# Convert to PyTorch tensors\n",
    "trainX = torch.tensor(trainX, dtype=torch.float32)  # Shape: (train_size, 24, num_features)\n",
    "trainY = torch.tensor(trainY, dtype=torch.float32)  # Shape: (train_size,)\n",
    "testX = torch.tensor(testX, dtype=torch.float32)    # Shape: (test_size, 24, num_features)\n",
    "testY = torch.tensor(testY, dtype=torch.float32)    # Shape: (test_size,)\n",
    "\n",
    "train_dataset = TensorDataset(trainX, trainY)\n",
    "test_dataset = TensorDataset(testX, testY)\n",
    "\n",
    "batch_sizes = 17  # You can adjust the batch size as needed\n",
    "#Shuffle is false because you need it to be in time sequenced, but please double check\n",
    "train_loader = DataLoader(train_dataset, batch_size=batch_sizes, shuffle=False,drop_last=True)\n",
    "test_loader = DataLoader(test_dataset, batch_size=batch_sizes, shuffle=False, drop_last=True)\n",
    "\n",
    "# Example of accessing a batch of data\n",
    "for inputs, targets in train_loader:\n",
    "    print(f'Inputs: {inputs.shape}, Targets: {targets.shape}')\n",
    "    break  # Only print the first batch for verification"
   ]
  },
  {
   "cell_type": "code",
   "execution_count": 88,
   "metadata": {},
   "outputs": [
    {
     "name": "stdout",
     "output_type": "stream",
     "text": [
      "test_loader 12\n"
     ]
    }
   ],
   "source": [
    "print(\"test_loader\",len(test_loader))"
   ]
  },
  {
   "cell_type": "code",
   "execution_count": 89,
   "metadata": {},
   "outputs": [],
   "source": [
    "class BiLSTM_pt(torch.nn.Module):\n",
    "    def __init__(self, input_dim, hidden_dim, layer_dim, output_dim):\n",
    "        super(BiLSTM_pt, self).__init__()\n",
    "        self.hidden_dim = hidden_dim\n",
    "        self.layer_dim = layer_dim\n",
    "        self.num_directions = 2  # Since it's bidirectional\n",
    "        \n",
    "        # LSTM layer\n",
    "        self.lstm = torch.nn.LSTM(input_dim, hidden_dim, layer_dim, batch_first=True, bidirectional=True)\n",
    "\n",
    "        # Fully connected layer\n",
    "        self.fc = torch.nn.Linear(hidden_dim * 2, output_dim)  # Fix here\n",
    "\n",
    "    def forward(self, x, h0=None, c0=None):\n",
    "        if h0 is None or c0 is None:\n",
    "            h0 = torch.randn(self.layer_dim * self.num_directions, x.size(0), self.hidden_dim).to(x.device)\n",
    "            c0 = torch.randn(self.layer_dim * self.num_directions, x.size(0), self.hidden_dim).to(x.device)\n",
    "\n",
    "        # LSTM forward pass\n",
    "        out, (hn, cn) = self.lstm(x, (h0, c0))\n",
    "\n",
    "        # Pass only the last timestep's output to the FC layer\n",
    "        out = self.fc(out[:, -1, :])  \n",
    "\n",
    "        return out, hn, cn\n"
   ]
  },
  {
   "cell_type": "code",
   "execution_count": 90,
   "metadata": {},
   "outputs": [],
   "source": [
    "def train(model, dataloader,num_layers, hidden_size, num_epochs, learning_rate, device, ):\n",
    "    # Set the loss function and optimizer\n",
    "    criterion = torch.nn.MSELoss()\n",
    "    optimizer = torch.optim.Adam(model.parameters(), lr=learning_rate)\n",
    "    model.train()  # Set the model to training mode\n",
    "    loss_graph = []\n",
    "    \n",
    "    for epoch in range(num_epochs):\n",
    "        loss=0\n",
    "        hidden_state, cell_state = None, None   \n",
    "        optimizer.zero_grad() #Double check if this is the right position\n",
    "        for batch_idx, (inputs, targets) in enumerate(train_loader):\n",
    "            if batch_idx == len(train_loader) - 1:  \n",
    "                break  # Skip the last batch\n",
    "            # Initialize hidden state and cell state for each batch\n",
    "            # Forward pass\n",
    "            output, cell_state, hidden_state = model(inputs,cell_state, hidden_state)\n",
    "            # Calculate loss\n",
    "            loss = criterion(output, targets)\n",
    "            loss.backward()\n",
    "            optimizer.step()\n",
    "\n",
    "            hidden_state = hidden_state.detach()\n",
    "            cell_state = cell_state.detach()\n",
    "        loss_graph.append(loss.item())\n",
    "\n",
    "        if epoch %50 == 0:\n",
    "            print(f'Epoch {epoch+1}/{num_epochs}, Loss: {loss/len(dataloader)}')\n",
    "    print(f'Epoch {epoch+1}/{num_epochs}, Loss: {loss/len(dataloader)}')\n",
    "\n",
    "    return loss_graph"
   ]
  },
  {
   "cell_type": "code",
   "execution_count": 91,
   "metadata": {},
   "outputs": [
    {
     "name": "stderr",
     "output_type": "stream",
     "text": [
      "c:\\Users\\nicho\\AppData\\Local\\Programs\\Python\\Python310\\lib\\site-packages\\torch\\nn\\modules\\loss.py:608: UserWarning: Using a target size (torch.Size([17, 1, 3])) that is different to the input size (torch.Size([17, 3])). This will likely lead to incorrect results due to broadcasting. Please ensure they have the same size.\n",
      "  return F.mse_loss(input, target, reduction=self.reduction)\n"
     ]
    },
    {
     "name": "stdout",
     "output_type": "stream",
     "text": [
      "Epoch 1/300, Loss: 0.000447633647127077\n",
      "Epoch 51/300, Loss: 0.003281576093286276\n",
      "Epoch 101/300, Loss: 0.00028903159545734525\n",
      "Epoch 151/300, Loss: 0.00038652532384730875\n",
      "Epoch 201/300, Loss: 0.0002905692672356963\n",
      "Epoch 251/300, Loss: 0.00019531359430402517\n",
      "Epoch 300/300, Loss: 0.0007409483077935874\n"
     ]
    },
    {
     "data": {
      "text/plain": [
       "Text(0, 0.5, 'Loss')"
      ]
     },
     "execution_count": 91,
     "metadata": {},
     "output_type": "execute_result"
    },
    {
     "data": {
      "image/png": "[encoded data removed]",
      "text/plain": [
       "<Figure size 640x480 with 1 Axes>"
      ]
     },
     "metadata": {},
     "output_type": "display_data"
    }
   ],
   "source": [
    "# Define the model parameters\n",
    "# Following the research paper's instructions\n",
    "input_size = 6\n",
    "hidden_size = 50\n",
    "num_layers = 2 # Can be changed to stack multiple LSTM layers!\n",
    "output_size = 3\n",
    "dataloader = train_loader\n",
    "#Create the model\n",
    "model = BiLSTM_pt(input_size, hidden_size, num_layers, output_size).to(device)\n",
    "loss_graph = train(model, dataloader,num_layers, hidden_size, num_epochs = 300, learning_rate = 0.01, device = device)\n",
    "\n",
    "plt.plot(loss_graph)\n",
    "plt.title(\"Loss Graph\")\n",
    "plt.xlabel(\"Epochs\")\n",
    "plt.ylabel(\"Loss\")"
   ]
  },
  {
   "cell_type": "code",
   "execution_count": null,
   "metadata": {},
   "outputs": [
    {
     "name": "stdout",
     "output_type": "stream",
     "text": [
      "12\n"
     ]
    }
   ],
   "source": [
    "print(len(test_loader))"
   ]
  },
  {
   "cell_type": "code",
   "execution_count": 94,
   "metadata": {},
   "outputs": [
    {
     "name": "stdout",
     "output_type": "stream",
     "text": [
      "Normalized output[0]: [0.5450526475906372, 0.3331737220287323, 0.3370128870010376]\n",
      "Normalized target[0]: [[0.06818182021379471, 0.22727273404598236, 0.18939393758773804]]\n",
      "Denormalized output[0]: [143.89390563964844, 87.9578628540039, 88.97140502929688]\n",
      "Denormalized target[0]: [[18.0, 60.0, 50.0]]\n",
      "--------------------------------------------------\n",
      "Normalized output[0]: [0.5447216033935547, 0.3329946994781494, 0.33722200989723206]\n",
      "Normalized target[0]: [[0.20075757801532745, 0.22727273404598236, 0.2083333283662796]]\n",
      "Denormalized output[0]: [143.80650329589844, 87.91059875488281, 89.026611328125]\n",
      "Denormalized target[0]: [[53.0, 60.0, 55.0]]\n",
      "--------------------------------------------------\n",
      "Normalized output[0]: [0.5447216033935547, 0.3329946994781494, 0.33722200989723206]\n",
      "Normalized target[0]: [[0.23106060922145844, 0.20075757801532745, 0.2083333283662796]]\n",
      "Denormalized output[0]: [143.80650329589844, 87.91059875488281, 89.026611328125]\n",
      "Denormalized target[0]: [[61.0, 53.0, 55.0]]\n",
      "--------------------------------------------------\n",
      "Normalized output[0]: [0.5447216033935547, 0.3329946994781494, 0.33722200989723206]\n",
      "Normalized target[0]: [[0.3598484992980957, 0.25757575035095215, 0.28409090638160706]]\n",
      "Denormalized output[0]: [143.80650329589844, 87.91059875488281, 89.026611328125]\n",
      "Denormalized target[0]: [[95.0, 68.0, 75.0]]\n",
      "--------------------------------------------------\n",
      "Normalized output[0]: [0.5447216033935547, 0.3329946994781494, 0.33722200989723206]\n",
      "Normalized target[0]: [[0.5303030014038086, 0.405303031206131, 0.20075757801532745]]\n",
      "Denormalized output[0]: [143.80650329589844, 87.91059875488281, 89.026611328125]\n",
      "Denormalized target[0]: [[140.0, 107.0, 53.0]]\n",
      "--------------------------------------------------\n",
      "Normalized output[0]: [0.5447216033935547, 0.3329946994781494, 0.33722200989723206]\n",
      "Normalized target[0]: [[0.27272728085517883, 0.36742424964904785, 0.2954545319080353]]\n",
      "Denormalized output[0]: [143.80650329589844, 87.91059875488281, 89.026611328125]\n",
      "Denormalized target[0]: [[72.0, 97.0, 78.0]]\n",
      "--------------------------------------------------\n",
      "Normalized output[0]: [0.5447216033935547, 0.3329946994781494, 0.33722200989723206]\n",
      "Normalized target[0]: [[0.24242424964904785, 0.20075757801532745, 0.18560606241226196]]\n",
      "Denormalized output[0]: [143.80650329589844, 87.91059875488281, 89.026611328125]\n",
      "Denormalized target[0]: [[64.0, 53.0, 49.0]]\n",
      "--------------------------------------------------\n",
      "Normalized output[0]: [0.5447216033935547, 0.3329946994781494, 0.33722200989723206]\n",
      "Normalized target[0]: [[0.17045454680919647, 0.13257575035095215, 0.14772726595401764]]\n",
      "Denormalized output[0]: [143.80650329589844, 87.91059875488281, 89.026611328125]\n",
      "Denormalized target[0]: [[45.0, 35.0, 39.0]]\n",
      "--------------------------------------------------\n",
      "Normalized output[0]: [0.5447216033935547, 0.3329946994781494, 0.33722200989723206]\n",
      "Normalized target[0]: [[0.33712121844291687, 0.3636363744735718, 0.43939393758773804]]\n",
      "Denormalized output[0]: [143.80650329589844, 87.91059875488281, 89.026611328125]\n",
      "Denormalized target[0]: [[89.0, 96.0, 116.0]]\n",
      "--------------------------------------------------\n",
      "Normalized output[0]: [0.5447216033935547, 0.3329946994781494, 0.33722200989723206]\n",
      "Normalized target[0]: [[0.5946969985961914, 0.4734848439693451, 0.3181818127632141]]\n",
      "Denormalized output[0]: [143.80650329589844, 87.91059875488281, 89.026611328125]\n",
      "Denormalized target[0]: [[157.0, 125.0, 84.0]]\n",
      "--------------------------------------------------\n",
      "Normalized output[0]: [0.5447216033935547, 0.3329946994781494, 0.33722200989723206]\n",
      "Normalized target[0]: [[0.33712121844291687, 0.40909090638160706, 0.3484848439693451]]\n",
      "Denormalized output[0]: [143.80650329589844, 87.91059875488281, 89.026611328125]\n",
      "Denormalized target[0]: [[89.0, 108.0, 92.0]]\n",
      "--------------------------------------------------\n",
      "Predicted output shape: torch.Size([17, 3])\n",
      "True output shape: torch.Size([17, 1, 3])\n",
      "Average Validation Loss: 0.0330\n"
     ]
    }
   ],
   "source": [
    "model.eval()\n",
    "\n",
    "# Initialize variables to track loss\n",
    "loss_value = 0\n",
    "num_batches = 0\n",
    "\n",
    "# Define the loss function\n",
    "criterion = torch.nn.MSELoss()\n",
    "\n",
    "# Initialize hidden state and cell state\n",
    "hidden_state, cell_state = None, None  \n",
    "\n",
    "# Disable gradient computation for validation\n",
    "with torch.no_grad():\n",
    "    for batch_idx, (inputs, targets) in enumerate(test_loader):\n",
    "        if batch_idx == len(test_loader) - 1:  \n",
    "            break  # Skip the last batch\n",
    "\n",
    "        # Forward pass\n",
    "        output, cell_state, hidden_state = model(inputs, cell_state, hidden_state)\n",
    "\n",
    "        # Denormalize predictions and targets (for all 3 time steps)\n",
    "        output_denorm = output * (data_max[\"Taxi Available in Selected Box Area\"] - data_min[\"Taxi Available in Selected Box Area\"]) + data_min[\"Taxi Available in Selected Box Area\"]\n",
    "        targets_denorm = targets * (data_max[\"Taxi Available in Selected Box Area\"] - data_min[\"Taxi Available in Selected Box Area\"]) + data_min[\"Taxi Available in Selected Box Area\"]\n",
    "\n",
    "        # Compute loss on normalized data\n",
    "        loss_value += criterion(output, targets)\n",
    "\n",
    "        # Print a sample of the normalized and denormalized values\n",
    "        print(\"Normalized output[0]:\", output[0].tolist())  \n",
    "        print(\"Normalized target[0]:\", targets[0].tolist())  \n",
    "        print(\"Denormalized output[0]:\", output_denorm[0].tolist())  \n",
    "        print(\"Denormalized target[0]:\", targets_denorm[0].tolist())  \n",
    "        print(\"-\" * 50)\n",
    "\n",
    "# Compute average loss\n",
    "loss_value = loss_value / (len(test_loader) - 1)\n",
    "print(\"Predicted output shape:\", output.shape)\n",
    "print(\"True output shape:\", targets.shape)\n",
    "print(f'Average Validation Loss: {loss_value:.4f}')\n"
   ]
  },
  {
   "cell_type": "code",
   "execution_count": null,
   "metadata": {},
   "outputs": [],
   "source": [
    "\n",
    "# model.eval()\n",
    "\n",
    "# # Initialize variables to track loss\n",
    "# loss_value = 0\n",
    "# num_batches = 0\n",
    "\n",
    "# # Define the loss function\n",
    "# criterion = torch.nn.MSELoss()\n",
    "\n",
    "# # Initialize hidden state and cell state\n",
    "# hidden_state, cell_state = None, None  \n",
    "\n",
    "# # Disable gradient computation for validation\n",
    "# with torch.no_grad():\n",
    "#     for batch_idx, (inputs, targets) in enumerate(test_loader):\n",
    "#         if batch_idx == len(test_loader) - 1:  \n",
    "#             break  # Skip the last batch\n",
    "#         # Forward pass\n",
    "#         output, cell_state, hidden_state = model(inputs, cell_state, hidden_state)\n",
    "#         print(\"Predicted output: \", output)\n",
    "#         print(\"True Output: \", targets)\n",
    "\n",
    "#         # Compute loss\n",
    "#         # Compute loss\n",
    "#         loss_value += criterion(output, targets)\n",
    "# # Compute average loss\n",
    "# loss_value = loss_value / (len(test_loader) -1 )\n",
    "\n",
    "# # Print validation results\n",
    "# print(f'Average Validation Loss: {loss_value:.4f}')\n"
   ]
  }
 ],
 "metadata": {
  "kernelspec": {
   "display_name": "Python 3",
   "language": "python",
   "name": "python3"
  },
  "language_info": {
   "codemirror_mode": {
    "name": "ipython",
    "version": 3
   },
   "file_extension": ".py",
   "mimetype": "text/x-python",
   "name": "python",
   "nbconvert_exporter": "python",
   "pygments_lexer": "ipython3",
   "version": "3.10.1"
  }
 },
 "nbformat": 4,
 "nbformat_minor": 2
}
